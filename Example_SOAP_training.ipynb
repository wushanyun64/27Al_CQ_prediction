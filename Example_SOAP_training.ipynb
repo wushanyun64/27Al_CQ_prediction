{
 "cells": [
  {
   "cell_type": "markdown",
   "metadata": {},
   "source": [
    "# 27Al CQ prediction with SOAP features"
   ]
  },
  {
   "cell_type": "code",
   "execution_count": 1,
   "metadata": {},
   "outputs": [],
   "source": [
    "import json\n",
    "import pandas as pd\n",
    "import numpy as np\n",
    "import matplotlib.pyplot as plt\n",
    "import seaborn as sns\n",
    "from pymatgen.core.structure import Structure as ST\n",
    "from src.soap_utilities import getXY, get_species\n",
    "import copy\n",
    "from scipy import sparse"
   ]
  },
  {
   "cell_type": "markdown",
   "metadata": {},
   "source": [
    "### preprocessing and generate soap feature\n",
    "------------------------------------------------------------"
   ]
  },
  {
   "cell_type": "code",
   "execution_count": 2,
   "metadata": {},
   "outputs": [],
   "source": [
    "#only show warnings once\n",
    "import warnings\n",
    "warnings.simplefilter('once')"
   ]
  },
  {
   "cell_type": "code",
   "execution_count": 3,
   "metadata": {},
   "outputs": [
    {
     "name": "stdout",
     "output_type": "stream",
     "text": [
      "length of data set is: 1681\n"
     ]
    }
   ],
   "source": [
    "# Read processed data and continue\n",
    "with open(\"./data/processed_data_0.5.json\", \"r\") as file:\n",
    "    data_reload = json.load(file)\n",
    "for data in data_reload:\n",
    "    data['structure'] = ST.from_dict(data['structure'])\n",
    "print(\"length of data set is:\", len(data_reload))"
   ]
  },
  {
   "cell_type": "code",
   "execution_count": 6,
   "metadata": {},
   "outputs": [
    {
     "name": "stdout",
     "output_type": "stream",
     "text": [
      "num of species in the data set: 76\n"
     ]
    }
   ],
   "source": [
    "# Atom Species\n",
    "species_list, compositions = get_species(data_reload)\n",
    "print(\"num of species in the data set:\",len(species_list))"
   ]
  },
  {
   "cell_type": "code",
   "execution_count": 4,
   "metadata": {},
   "outputs": [
    {
     "name": "stderr",
     "output_type": "stream",
     "text": [
      "100%|██████████| 1681/1681 [13:04<00:00,  2.14it/s]"
     ]
    },
    {
     "name": "stdout",
     "output_type": "stream",
     "text": [
      "(8081, 4163280) (8081, 3)\n"
     ]
    },
    {
     "name": "stderr",
     "output_type": "stream",
     "text": [
      "\n"
     ]
    }
   ],
   "source": [
    "X,y,loc = getXY(data_reload,species)\n",
    "print(X.shape,y.shape)"
   ]
  },
  {
   "cell_type": "code",
   "execution_count": 11,
   "metadata": {},
   "outputs": [],
   "source": [
    "#Cache X and y\n",
    "sparse.save_npz(\"./data/soap_X.npz\", X)\n",
    "y[['nmr']].to_csv(\"./data/soap_y.csv\")\n"
   ]
  },
  {
   "cell_type": "markdown",
   "metadata": {},
   "source": [
    "### PCA of X\n",
    "----------------------------------------------"
   ]
  },
  {
   "cell_type": "code",
   "execution_count": 2,
   "metadata": {},
   "outputs": [],
   "source": [
    "# reload X\n",
    "X = sparse.load_npz(\"./data/soap_X.npz\")"
   ]
  },
  {
   "cell_type": "code",
   "execution_count": null,
   "metadata": {},
   "outputs": [],
   "source": [
    "from sklearn.decomposition import TruncatedSVD\n",
    "\n",
    "N = 35\n",
    "pca = TruncatedSVD(n_components=N,n_iter=8,random_state=20)\n",
    "X_pca_fit = pca.fit(X)\n",
    "X_pca = X_pca_fit.transform(X)\n",
    "\n",
    "print(f\"PCA covers {sum(X_pca_fit.explained_variance_ratio_)}% of variance\")\n",
    "print (f'PCA done! New shape {X_pca.shape}')"
   ]
  },
  {
   "cell_type": "code",
   "execution_count": null,
   "metadata": {},
   "outputs": [],
   "source": [
    "# cache X_pca\n",
    "np.savetxt('./data/soap_X_pca.csv',data,delimiter=',')"
   ]
  },
  {
   "cell_type": "markdown",
   "metadata": {},
   "source": [
    "### Train and test of random forest model\n",
    "----------------------------------------------------"
   ]
  },
  {
   "cell_type": "code",
   "execution_count": 8,
   "metadata": {},
   "outputs": [],
   "source": [
    "# Get X_pca and y\n",
    "X_pca = np.loadtxt('./data/soap_X_pca.csv', delimiter=',')\n",
    "y = pd.read_csv('./data/soap_y.csv')[['nmr']]"
   ]
  },
  {
   "cell_type": "code",
   "execution_count": 9,
   "metadata": {},
   "outputs": [
    {
     "name": "stdout",
     "output_type": "stream",
     "text": [
      "(6464, 35) (6464, 1) (1617, 35) (1617, 1)\n"
     ]
    }
   ],
   "source": [
    "# Get absolute value of CQ\n",
    "y['nmr'] = abs(y['nmr'])\n",
    "\n",
    "# Train test split\n",
    "from sklearn.model_selection import train_test_split\n",
    "X_train, X_test, y_train, y_test = train_test_split(X_pca, y, test_size=0.2,random_state=20)\n",
    "\n",
    "print(X_train.shape,y_train.shape,X_test.shape,y_test.shape)"
   ]
  },
  {
   "cell_type": "code",
   "execution_count": 10,
   "metadata": {},
   "outputs": [
    {
     "name": "stdout",
     "output_type": "stream",
     "text": [
      "training score: R2 = 0.8796040295741754, RMSE = 1.4078039251850811, MAE = 0.6256690725165839\n",
      "RandomForestRegressor(max_depth=178.2539710108405, min_samples_leaf=2,\n",
      "                      min_samples_split=4, n_estimators=357, random_state=10)\n",
      "CPU times: user 49 s, sys: 137 ms, total: 49.1 s\n",
      "Wall time: 3min 42s\n"
     ]
    }
   ],
   "source": [
    "%%time\n",
    "# Grid Search for Algorithm Tuning\n",
    "from sklearn.ensemble import RandomForestRegressor\n",
    "from sklearn.model_selection import RandomizedSearchCV\n",
    "from scipy.stats import uniform, randint\n",
    "import math\n",
    "\n",
    "# create and fit a kernel ridge regression model\n",
    "model = RandomForestRegressor(random_state=10,min_samples_split=4,min_samples_leaf=2)\n",
    "\n",
    "param = {\"n_estimators\": randint(low=100, high=500), \n",
    "         \"max_depth\": uniform(10, 200),\n",
    "         \"max_features\": ['auto', 'sqrt','log2']\n",
    "         }\n",
    "\n",
    "grid = RandomizedSearchCV(\n",
    "    estimator=model,\n",
    "    param_distributions=param,\n",
    "    n_iter=10,\n",
    "    scoring=[\"neg_mean_absolute_error\", \"neg_mean_squared_error\", \"r2\"],\n",
    "    refit=\"r2\",\n",
    "    cv=5,\n",
    "    n_jobs=8,\n",
    ")\n",
    "\n",
    "grid.fit(X_train, y_train['nmr'])\n",
    "\n",
    "# summarize the results of the grid search\n",
    "train_r2 = np.sort(grid.cv_results_['mean_test_r2'])[-1]\n",
    "train_RMSE = math.sqrt(-np.sort(grid.cv_results_['mean_test_neg_mean_squared_error'])[-1])\n",
    "train_MAE = -np.sort(grid.cv_results_['mean_test_neg_mean_absolute_error'])[-1]\n",
    "\n",
    "print('training score: R2 = {}, RMSE = {}, MAE = {}'.format(train_r2, train_RMSE, train_MAE))\n",
    "print(grid.best_estimator_)"
   ]
  },
  {
   "cell_type": "code",
   "execution_count": 11,
   "metadata": {},
   "outputs": [
    {
     "name": "stdout",
     "output_type": "stream",
     "text": [
      "test scores: R2 = 0.9296297919370002, RMSE = 1.0319225298441448, MAE = 0.4407572591128868\n",
      "date and time: 01-04-2022_17-15-59\n"
     ]
    },
    {
     "data": {
      "image/png": "[encoded data removed]",
      "text/plain": [
       "<Figure size 720x576 with 1 Axes>"
      ]
     },
     "metadata": {},
     "output_type": "display_data"
    },
    {
     "name": "stdout",
     "output_type": "stream",
     "text": [
      "CPU times: user 1.25 s, sys: 567 ms, total: 1.82 s\n",
      "Wall time: 505 ms\n"
     ]
    }
   ],
   "source": [
    "%%time\n",
    "# Predict test set\n",
    "from sklearn.metrics import r2_score, mean_squared_error, mean_absolute_error\n",
    "import seaborn as sns\n",
    "import matplotlib.pyplot as plt\n",
    "from datetime import datetime\n",
    "sns.set()\n",
    "\n",
    "y_rf = grid.predict(X_test)\n",
    "\n",
    "test_r2 = r2_score(y_test['nmr'], y_rf)\n",
    "test_RMSE = math.sqrt(mean_squared_error(y_test['nmr'], y_rf))\n",
    "test_MAE = mean_absolute_error(y_test['nmr'], y_rf)\n",
    "\n",
    "print(\"test scores: R2 = {}, RMSE = {}, MAE = {}\".format(test_r2, test_RMSE, test_MAE))\n",
    "\n",
    "\n",
    "# write down the date for png save\n",
    "predict_result = {}\n",
    "predict_result[\"VASP_CQ\"] = y_test['nmr']\n",
    "predict_result[\"RF_predicted_CQ\"] = y_rf\n",
    "predict_result = pd.DataFrame(predict_result)\n",
    "\n",
    "# datetime object containing current date and time\n",
    "now = datetime.now() \n",
    "# dd/mm/YY H:M:S\n",
    "dt_string = now.strftime(\"%d-%m-%Y_%H-%M-%S\")\n",
    "print(\"date and time:\",dt_string)\n",
    "\n",
    "#plot the correlation\n",
    "sns.set_style(\"ticks\")\n",
    "fig, ax = plt.subplots(figsize = (10,8))\n",
    "plot = sns.regplot(\n",
    "    x=\"RF_predicted_CQ\",\n",
    "    y=\"VASP_CQ\",\n",
    "    data=predict_result,\n",
    "    ci=None,\n",
    "    scatter_kws={\"color\": \"black\"}, \n",
    "    line_kws={\"color\": \"red\"}\n",
    ")\n",
    "ax.set_xlabel(\"Random forest predicted CQ based on SOAP(MHz)\",fontsize=20)\n",
    "ax.set_ylabel(\"VASP calculated CQ (MHz)\",fontsize=20)\n",
    "sns.despine()\n",
    "plt.show()\n",
    "\n",
    "# Export y_rf and y_test as .csv\n",
    "y_output = copy.deepcopy(y_test)\n",
    "y_output['CQ_rf'] = y_rf\n",
    "y_output = pd.DataFrame(y_output)\n",
    "y_output.to_csv('./data/SOAP_test.csv')"
   ]
  },
  {
   "cell_type": "markdown",
   "metadata": {},
   "source": [
    "### Build learn curve base on sample size"
   ]
  },
  {
   "cell_type": "code",
   "execution_count": 13,
   "metadata": {},
   "outputs": [],
   "source": [
    "# reload X_pca and y\n",
    "X_pca = pd.read_csv('./data/soap_X_pca.csv',header=None)\n",
    "y = pd.read_csv('./data/soap_y.csv')[['nmr']]\n",
    "y['nmr'] = abs(y['nmr'])\n",
    "y.rename(columns={'nmr':'CQ'},inplace=True)"
   ]
  },
  {
   "cell_type": "code",
   "execution_count": 18,
   "metadata": {},
   "outputs": [],
   "source": [
    "# get a series of smaller data sets (10%-100%)\n",
    "whole_dataset = pd.concat([y,X_pca],axis=1)\n",
    "\n",
    "small_sets = []\n",
    "for p in range(1,11):\n",
    "    small_sets.append(whole_dataset.sample(frac=p/10,random_state=20))"
   ]
  },
  {
   "cell_type": "code",
   "execution_count": 19,
   "metadata": {},
   "outputs": [
    {
     "name": "stderr",
     "output_type": "stream",
     "text": [
      "100%|██████████| 10/10 [04:49<00:00, 28.99s/it]\n"
     ]
    },
    {
     "data": {
      "text/html": [
       "<div>\n",
       "<style scoped>\n",
       "    .dataframe tbody tr th:only-of-type {\n",
       "        vertical-align: middle;\n",
       "    }\n",
       "\n",
       "    .dataframe tbody tr th {\n",
       "        vertical-align: top;\n",
       "    }\n",
       "\n",
       "    .dataframe thead th {\n",
       "        text-align: right;\n",
       "    }\n",
       "</style>\n",
       "<table border=\"1\" class=\"dataframe\">\n",
       "  <thead>\n",
       "    <tr style=\"text-align: right;\">\n",
       "      <th></th>\n",
       "      <th>sample_size</th>\n",
       "      <th>cv_r2_mean</th>\n",
       "      <th>cv_RMSE_mean</th>\n",
       "      <th>cv_MAE_mean</th>\n",
       "      <th>train_r2</th>\n",
       "      <th>train_RMSE</th>\n",
       "      <th>train_MAE</th>\n",
       "      <th>test_r2</th>\n",
       "      <th>test_RMSE</th>\n",
       "      <th>test_MAE</th>\n",
       "    </tr>\n",
       "  </thead>\n",
       "  <tbody>\n",
       "    <tr>\n",
       "      <th>0</th>\n",
       "      <td>808</td>\n",
       "      <td>0.342153</td>\n",
       "      <td>3.058649</td>\n",
       "      <td>2.131431</td>\n",
       "      <td>0.855399</td>\n",
       "      <td>1.447943</td>\n",
       "      <td>0.942720</td>\n",
       "      <td>0.443359</td>\n",
       "      <td>2.960077</td>\n",
       "      <td>2.014010</td>\n",
       "    </tr>\n",
       "    <tr>\n",
       "      <th>1</th>\n",
       "      <td>1616</td>\n",
       "      <td>0.571233</td>\n",
       "      <td>2.474864</td>\n",
       "      <td>1.607740</td>\n",
       "      <td>0.909895</td>\n",
       "      <td>1.143875</td>\n",
       "      <td>0.695029</td>\n",
       "      <td>0.619480</td>\n",
       "      <td>2.587366</td>\n",
       "      <td>1.664302</td>\n",
       "    </tr>\n",
       "    <tr>\n",
       "      <th>2</th>\n",
       "      <td>2424</td>\n",
       "      <td>0.659992</td>\n",
       "      <td>2.263507</td>\n",
       "      <td>1.399868</td>\n",
       "      <td>0.926374</td>\n",
       "      <td>1.056215</td>\n",
       "      <td>0.596218</td>\n",
       "      <td>0.735919</td>\n",
       "      <td>2.010198</td>\n",
       "      <td>1.203893</td>\n",
       "    </tr>\n",
       "    <tr>\n",
       "      <th>3</th>\n",
       "      <td>3232</td>\n",
       "      <td>0.687566</td>\n",
       "      <td>2.138621</td>\n",
       "      <td>1.240843</td>\n",
       "      <td>0.936741</td>\n",
       "      <td>0.965506</td>\n",
       "      <td>0.516347</td>\n",
       "      <td>0.768757</td>\n",
       "      <td>2.010749</td>\n",
       "      <td>1.045331</td>\n",
       "    </tr>\n",
       "    <tr>\n",
       "      <th>4</th>\n",
       "      <td>4040</td>\n",
       "      <td>0.755628</td>\n",
       "      <td>1.928248</td>\n",
       "      <td>1.073244</td>\n",
       "      <td>0.948993</td>\n",
       "      <td>0.883959</td>\n",
       "      <td>0.436734</td>\n",
       "      <td>0.800165</td>\n",
       "      <td>1.769526</td>\n",
       "      <td>0.967890</td>\n",
       "    </tr>\n",
       "    <tr>\n",
       "      <th>5</th>\n",
       "      <td>4849</td>\n",
       "      <td>0.759273</td>\n",
       "      <td>1.917765</td>\n",
       "      <td>0.976852</td>\n",
       "      <td>0.954103</td>\n",
       "      <td>0.840285</td>\n",
       "      <td>0.397353</td>\n",
       "      <td>0.822997</td>\n",
       "      <td>1.691377</td>\n",
       "      <td>0.870142</td>\n",
       "    </tr>\n",
       "    <tr>\n",
       "      <th>6</th>\n",
       "      <td>5657</td>\n",
       "      <td>0.808165</td>\n",
       "      <td>1.695042</td>\n",
       "      <td>0.866991</td>\n",
       "      <td>0.959120</td>\n",
       "      <td>0.786032</td>\n",
       "      <td>0.356968</td>\n",
       "      <td>0.862838</td>\n",
       "      <td>1.551921</td>\n",
       "      <td>0.741074</td>\n",
       "    </tr>\n",
       "    <tr>\n",
       "      <th>7</th>\n",
       "      <td>6465</td>\n",
       "      <td>0.833592</td>\n",
       "      <td>1.619753</td>\n",
       "      <td>0.793186</td>\n",
       "      <td>0.963331</td>\n",
       "      <td>0.762004</td>\n",
       "      <td>0.330141</td>\n",
       "      <td>0.923565</td>\n",
       "      <td>1.146387</td>\n",
       "      <td>0.596246</td>\n",
       "    </tr>\n",
       "    <tr>\n",
       "      <th>8</th>\n",
       "      <td>7273</td>\n",
       "      <td>0.855938</td>\n",
       "      <td>1.493400</td>\n",
       "      <td>0.711519</td>\n",
       "      <td>0.970575</td>\n",
       "      <td>0.677139</td>\n",
       "      <td>0.283249</td>\n",
       "      <td>0.869155</td>\n",
       "      <td>1.544309</td>\n",
       "      <td>0.638357</td>\n",
       "    </tr>\n",
       "    <tr>\n",
       "      <th>9</th>\n",
       "      <td>8081</td>\n",
       "      <td>0.869229</td>\n",
       "      <td>1.443319</td>\n",
       "      <td>0.670102</td>\n",
       "      <td>0.974760</td>\n",
       "      <td>0.637264</td>\n",
       "      <td>0.261669</td>\n",
       "      <td>0.919042</td>\n",
       "      <td>1.167617</td>\n",
       "      <td>0.522703</td>\n",
       "    </tr>\n",
       "  </tbody>\n",
       "</table>\n",
       "</div>"
      ],
      "text/plain": [
       "   sample_size  cv_r2_mean  cv_RMSE_mean  cv_MAE_mean  train_r2  train_RMSE  \\\n",
       "0          808    0.342153      3.058649     2.131431  0.855399    1.447943   \n",
       "1         1616    0.571233      2.474864     1.607740  0.909895    1.143875   \n",
       "2         2424    0.659992      2.263507     1.399868  0.926374    1.056215   \n",
       "3         3232    0.687566      2.138621     1.240843  0.936741    0.965506   \n",
       "4         4040    0.755628      1.928248     1.073244  0.948993    0.883959   \n",
       "5         4849    0.759273      1.917765     0.976852  0.954103    0.840285   \n",
       "6         5657    0.808165      1.695042     0.866991  0.959120    0.786032   \n",
       "7         6465    0.833592      1.619753     0.793186  0.963331    0.762004   \n",
       "8         7273    0.855938      1.493400     0.711519  0.970575    0.677139   \n",
       "9         8081    0.869229      1.443319     0.670102  0.974760    0.637264   \n",
       "\n",
       "   train_MAE   test_r2  test_RMSE  test_MAE  \n",
       "0   0.942720  0.443359   2.960077  2.014010  \n",
       "1   0.695029  0.619480   2.587366  1.664302  \n",
       "2   0.596218  0.735919   2.010198  1.203893  \n",
       "3   0.516347  0.768757   2.010749  1.045331  \n",
       "4   0.436734  0.800165   1.769526  0.967890  \n",
       "5   0.397353  0.822997   1.691377  0.870142  \n",
       "6   0.356968  0.862838   1.551921  0.741074  \n",
       "7   0.330141  0.923565   1.146387  0.596246  \n",
       "8   0.283249  0.869155   1.544309  0.638357  \n",
       "9   0.261669  0.919042   1.167617  0.522703  "
      ]
     },
     "execution_count": 19,
     "metadata": {},
     "output_type": "execute_result"
    }
   ],
   "source": [
    "# Build learning curve\n",
    "from src.Utility import learning_curve_samplesize\n",
    "\n",
    "model = RandomForestRegressor(random_state=10,\n",
    "                            min_samples_split=4,\n",
    "                            min_samples_leaf=2,\n",
    "                            max_depth=50,\n",
    "                            n_estimators=500,\n",
    "                            max_features='sqrt')\n",
    "feature_names = list(range(35))\n",
    "learning_curve_dict = learning_curve_samplesize(model, small_sets,feature_names)\n",
    "pd.DataFrame(learning_curve_dict)"
   ]
  },
  {
   "cell_type": "code",
   "execution_count": null,
   "metadata": {},
   "outputs": [],
   "source": [
    "# save the result\n",
    "pd.DataFrame(learning_curve_dict).to_csv('./data/soap_learning_curve_samplesize.csv')"
   ]
  }
 ],
 "metadata": {
  "interpreter": {
   "hash": "6f2533f8e6660ceafa852f9be3474cc3b9806873d2a636c9415d71933ffc1203"
  },
  "kernelspec": {
   "display_name": "Python 3.9.11 ('chemistry_ml')",
   "language": "python",
   "name": "python3"
  },
  "language_info": {
   "codemirror_mode": {
    "name": "ipython",
    "version": 3
   },
   "file_extension": ".py",
   "mimetype": "text/x-python",
   "name": "python",
   "nbconvert_exporter": "python",
   "pygments_lexer": "ipython3",
   "version": "3.9.11"
  }
 },
 "nbformat": 4,
 "nbformat_minor": 4
}
