{
 "cells": [
  {
   "cell_type": "markdown",
   "metadata": {},
   "source": [
    "# 27Al CQ prediction with SOAP features"
   ]
  },
  {
   "cell_type": "code",
   "execution_count": 1,
   "metadata": {},
   "outputs": [],
   "source": [
    "import json\n",
    "import pandas as pd\n",
    "import numpy as np\n",
    "from tqdm import tqdm\n",
    "from pymatgen.io import ase\n",
    "from pymatgen.io import ase\n",
    "import matplotlib.pyplot as plt\n",
    "import seaborn as sns\n",
    "from pymatgen.core.structure import Structure as ST\n",
    "from src.Utility import get_composition"
   ]
  },
  {
   "cell_type": "code",
   "execution_count": 2,
   "metadata": {},
   "outputs": [
    {
     "name": "stdout",
     "output_type": "stream",
     "text": [
      "length of data set is: 1681\n"
     ]
    }
   ],
   "source": [
    "# Read processed data and continue\n",
    "with open(\"./data/processed_data_0.5.json\", \"r\") as file:\n",
    "    data_reload = json.load(file)\n",
    "for data in data_reload:\n",
    "    data['structure'] = ST.from_dict(data['structure'])\n",
    "print(\"length of data set is:\", len(data_reload))"
   ]
  },
  {
   "cell_type": "code",
   "execution_count": 3,
   "metadata": {},
   "outputs": [
    {
     "name": "stdout",
     "output_type": "stream",
     "text": [
      "num of species in the data set: 76\n"
     ]
    }
   ],
   "source": [
    "# Atom Species\n",
    "def get_species(data):\n",
    "    \"\"\"\n",
    "    List all the atomic species in the data set.\n",
    "\n",
    "    Args:\n",
    "        data (dict): structure_tensors dict.\n",
    "    \"\"\"\n",
    "    occur = []\n",
    "    for structure_tensor in data:\n",
    "        compo = get_composition(structure_tensor['structure'])\n",
    "        occur.extend(compo)\n",
    "        species = list(set(occur))\n",
    "    return((species))\n",
    "species = get_species(data_reload)\n",
    "print(\"num of species in the data set:\",len(species))"
   ]
  },
  {
   "cell_type": "code",
   "execution_count": 4,
   "metadata": {},
   "outputs": [],
   "source": [
    "from dscribe.descriptors import SOAP\n",
    "from itertools import combinations_with_replacement\n",
    "\n",
    "\n",
    "def getSOAPforStruct(structure_tensor, species, rCut=3, nMax=12, Lmax=9):\n",
    "    \"\"\"\n",
    "    Get the SOAP descriptor for a given structure.\n",
    "\n",
    "    Args:\n",
    "        structure_tensor (dict): dict of structure and tensor information.\n",
    "        species (list): list of species in the data set that current structure belongs to.\n",
    "        rCut (int, optional): A cutoff for local region in angstroms. \n",
    "                              Should be bigger than 1 angstrom for the gto-basis. Defaults to 3.\n",
    "        nMax (int, optional): The number of radial basis functions. Defaults to 12.\n",
    "        Lmax (int, optional): The maximum degree of spherical harmonics. Defaults to 9.\n",
    "\n",
    "    Returns:\n",
    "        [type]: [description]\n",
    "    \"\"\"\n",
    "\n",
    "    # Get structure and atom coord\n",
    "    atoms = ase.AseAtomsAdaptor.get_atoms(structure_tensor[\"structure\"])\n",
    "\n",
    "    # initialize SOAP\n",
    "    species = species\n",
    "    rcut = rCut\n",
    "    nmax = nMax\n",
    "    lmax = Lmax\n",
    "\n",
    "    # Setting up the SOAP descriptor\n",
    "    soap = SOAP(\n",
    "        species=species,\n",
    "        periodic=True,\n",
    "        rcut=rcut,\n",
    "        nmax=nmax,\n",
    "        lmax=lmax,\n",
    "        crossover=True,\n",
    "        sparse=True,\n",
    "    )\n",
    "\n",
    "    # Get the coordination of Al atom to create SOAP on. \n",
    "    coord = []\n",
    "    for tensor in structure_tensor[\"tensors\"]:\n",
    "        coord.append(tensor[\"site_coord\"])\n",
    "\n",
    "    location_dict = {}\n",
    "    for combo in combinations_with_replacement(species, 2):\n",
    "        loc = soap.get_location(combo)\n",
    "        location_dict[combo] = loc\n",
    "\n",
    "    x = soap.create(atoms, positions=coord)\n",
    "\n",
    "    return (x.tocsr(), location_dict)"
   ]
  },
  {
   "cell_type": "code",
   "execution_count": 5,
   "metadata": {},
   "outputs": [],
   "source": [
    "def TensorSOAPcombo(structure_tensor, nmr_key, species):\n",
    "    \"\"\"[summary]\n",
    "\n",
    "    Args:\n",
    "        structure_tensor ([type]): [description]\n",
    "        nmr_key ([type]): [description]\n",
    "        species ([type]): [description]\n",
    "\n",
    "    Returns:\n",
    "        [type]: [description]\n",
    "    \"\"\"\n",
    "    x, loc = getSOAPforStruct(structure_tensor, species)\n",
    "    y = []\n",
    "    for tensor in structure_tensor[\"tensors\"]:\n",
    "        y.append([tensor[nmr_key], structure_tensor[\"structure\"], tensor[\"site_index\"]])\n",
    "    return (x, y, loc)"
   ]
  },
  {
   "cell_type": "code",
   "execution_count": 6,
   "metadata": {},
   "outputs": [],
   "source": [
    "# getXY when choose sparse matrix in soap\n",
    "from scipy.sparse import vstack\n",
    "from random import sample\n",
    "def getXY(structures_tensors,species):\n",
    "    #loctaion info for slice the soap vector, None when choose other descriptor\n",
    "    loc = None\n",
    "    X=None\n",
    "    y=[]\n",
    "    \n",
    "    for item in tqdm(structures_tensors):\n",
    "        soap, nmr_param, loc = TensorSOAPcombo(item,'CQ',species = species)\n",
    "        if X==None:\n",
    "            X =soap\n",
    "        else:\n",
    "            X = vstack([X,soap])\n",
    "        y.extend(nmr_param)\n",
    "    \n",
    "    y = pd.DataFrame(y,columns=['nmr','structure','site_index'])\n",
    "    \n",
    "    return(X,y,loc)"
   ]
  },
  {
   "cell_type": "code",
   "execution_count": 7,
   "metadata": {},
   "outputs": [
    {
     "name": "stderr",
     "output_type": "stream",
     "text": [
      "100%|██████████| 1681/1681 [28:30<00:00,  1.02s/it]"
     ]
    },
    {
     "name": "stdout",
     "output_type": "stream",
     "text": [
      "(8081, 4163280) (8081, 3)\n"
     ]
    },
    {
     "name": "stderr",
     "output_type": "stream",
     "text": [
      "\n"
     ]
    }
   ],
   "source": [
    "X,y,loc = getXY(data_reload,species)\n",
    "print(X.shape,y.shape)"
   ]
  },
  {
   "cell_type": "code",
   "execution_count": 8,
   "metadata": {},
   "outputs": [
    {
     "name": "stdout",
     "output_type": "stream",
     "text": [
      "PCA covers 0.9822579904048121% of variance\n",
      "PCA done! New shape (8081, 100)\n"
     ]
    }
   ],
   "source": [
    "from sklearn.decomposition import TruncatedSVD\n",
    "N = 100\n",
    "pca = TruncatedSVD(n_components=N,algorithm=\"arpack\")\n",
    "X_pca_fit = pca.fit(X)\n",
    "X_pca = X_pca_fit.transform(X)\n",
    "\n",
    "print(f\"PCA covers {sum(X_pca_fit.explained_variance_ratio_)}% of variance\")\n",
    "print (f'PCA done! New shape {X_pca.shape}')"
   ]
  },
  {
   "cell_type": "code",
   "execution_count": 9,
   "metadata": {},
   "outputs": [
    {
     "name": "stdout",
     "output_type": "stream",
     "text": [
      "(6464, 100) (6464, 3) (1617, 100) (1617, 3)\n"
     ]
    }
   ],
   "source": [
    "# Get absolute value of CQ\n",
    "y['nmr'] = abs(y['nmr'])\n",
    "\n",
    "# Train test split\n",
    "from sklearn.model_selection import train_test_split\n",
    "X_train, X_test, y_train, y_test = train_test_split(X_pca, y, test_size=0.2,random_state=10)\n",
    "\n",
    "print(X_train.shape,y_train.shape,X_test.shape,y_test.shape)"
   ]
  },
  {
   "cell_type": "code",
   "execution_count": 10,
   "metadata": {},
   "outputs": [
    {
     "name": "stdout",
     "output_type": "stream",
     "text": [
      "training score: R2 = 0.8897301850853786, RMSE = 1.3174446318061697, MAE = 0.5863204781122461\n",
      "RandomForestRegressor(max_depth=94.96969160063206, min_samples_leaf=2,\n",
      "                      min_samples_split=4, n_estimators=372, random_state=10)\n",
      "CPU times: user 2min 14s, sys: 3.53 s, total: 2min 17s\n",
      "Wall time: 9min 21s\n"
     ]
    }
   ],
   "source": [
    "%%time\n",
    "# Grid Search for Algorithm Tuning\n",
    "from sklearn.ensemble import RandomForestRegressor\n",
    "from sklearn.model_selection import RandomizedSearchCV\n",
    "from scipy.stats import uniform, randint\n",
    "import math\n",
    "\n",
    "# create and fit a kernel ridge regression model\n",
    "model = RandomForestRegressor(random_state=10,min_samples_split=4,min_samples_leaf=2)\n",
    "\n",
    "param = {\"n_estimators\": randint(low=100, high=500), \n",
    "         \"max_depth\": uniform(10, 200),\n",
    "         \"max_features\": ['auto', 'sqrt','log2']\n",
    "         }\n",
    "\n",
    "grid = RandomizedSearchCV(\n",
    "    estimator=model,\n",
    "    param_distributions=param,\n",
    "    n_iter=10,\n",
    "    scoring=[\"neg_mean_absolute_error\", \"neg_mean_squared_error\", \"r2\"],\n",
    "    refit=\"r2\",\n",
    "    cv=5,\n",
    "    n_jobs=8,\n",
    ")\n",
    "\n",
    "grid.fit(X_train, y_train['nmr'])\n",
    "\n",
    "# summarize the results of the grid search\n",
    "train_r2 = np.sort(grid.cv_results_['mean_test_r2'])[-1]\n",
    "train_RMSE = math.sqrt(-np.sort(grid.cv_results_['mean_test_neg_mean_squared_error'])[-1])\n",
    "train_MAE = -np.sort(grid.cv_results_['mean_test_neg_mean_absolute_error'])[-1]\n",
    "\n",
    "print('training score: R2 = {}, RMSE = {}, MAE = {}'.format(train_r2, train_RMSE, train_MAE))\n",
    "print(grid.best_estimator_)"
   ]
  },
  {
   "cell_type": "code",
   "execution_count": 16,
   "metadata": {},
   "outputs": [
    {
     "name": "stdout",
     "output_type": "stream",
     "text": [
      "test scores: R2 = 0.8989817749052339, RMSE = 1.3383310244783126, MAE = 0.5251042344749536\n",
      "date and time: 15-10-2021_01-19-43\n"
     ]
    },
    {
     "data": {
      "image/png": "[encoded data removed]",
      "text/plain": [
       "<Figure size 720x432 with 1 Axes>"
      ]
     },
     "metadata": {},
     "output_type": "display_data"
    },
    {
     "name": "stdout",
     "output_type": "stream",
     "text": [
      "CPU times: user 484 ms, sys: 141 ms, total: 625 ms\n",
      "Wall time: 377 ms\n"
     ]
    }
   ],
   "source": [
    "%%time\n",
    "# Predict test set\n",
    "from sklearn.metrics import r2_score, mean_squared_error, mean_absolute_error\n",
    "import seaborn as sns\n",
    "import matplotlib.pyplot as plt\n",
    "from datetime import datetime\n",
    "sns.set()\n",
    "\n",
    "y_rf = grid.predict(X_test)\n",
    "y_test = y_test\n",
    "\n",
    "test_r2 = r2_score(y_test, y_rf)\n",
    "test_RMSE = math.sqrt(mean_squared_error(y_test, y_rf))\n",
    "test_MAE = mean_absolute_error(y_test, y_rf)\n",
    "\n",
    "print(\"test scores: R2 = {}, RMSE = {}, MAE = {}\".format(test_r2, test_RMSE, test_MAE))\n",
    "\n",
    "\n",
    "# write down the date for png save\n",
    "predict_result = {}\n",
    "predict_result[\"VASP_CQ\"] = y_test\n",
    "predict_result[\"RF_predicted_CQ\"] = y_rf\n",
    "predict_result = pd.DataFrame(predict_result)\n",
    "\n",
    "# datetime object containing current date and time\n",
    "now = datetime.now() \n",
    "# dd/mm/YY H:M:S\n",
    "dt_string = now.strftime(\"%d-%m-%Y_%H-%M-%S\")\n",
    "print(\"date and time:\",dt_string)\n",
    "\n",
    "plt.figure(figsize=[10, 6])\n",
    "plt.title(\"Random forest regression of 27Al CQ\")\n",
    "plot = sns.scatterplot(\n",
    "    x=\"RF_predicted_CQ\",\n",
    "    y=\"VASP_CQ\",\n",
    "    data=predict_result,\n",
    ")\n",
    "plt.gca().set(title='Random forest prediction of 27Al quadruploar CQ', \n",
    "                xlabel=\"Random forest predicted CQ (MHz)\",ylabel=\"VASP calculated CQ (MHz)\")\n",
    "# plt.savefig('./figures/27Al_RF_testSet_{}.png'.format(dt_string))\n",
    "plt.show()"
   ]
  }
 ],
 "metadata": {
  "interpreter": {
   "hash": "a100d861a3d6438a0153a54f755c32ecbafe1a787960322fb78fe4fcf72b617a"
  },
  "kernelspec": {
   "display_name": "Python 3.8.11 64-bit ('27al_ml': conda)",
   "name": "python3"
  },
  "language_info": {
   "codemirror_mode": {
    "name": "ipython",
    "version": 3
   },
   "file_extension": ".py",
   "mimetype": "text/x-python",
   "name": "python",
   "nbconvert_exporter": "python",
   "pygments_lexer": "ipython3",
   "version": "3.8.11"
  },
  "orig_nbformat": 4
 },
 "nbformat": 4,
 "nbformat_minor": 2
}
