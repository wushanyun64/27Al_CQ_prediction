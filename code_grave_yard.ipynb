{
 "cells": [
  {
   "cell_type": "markdown",
   "metadata": {},
   "source": [
    "# Codes that are potentially useful in the future"
   ]
  },
  {
   "cell_type": "code",
   "execution_count": null,
   "metadata": {},
   "outputs": [],
   "source": [
    "# List bond angles\n",
    "\n",
    "from src.local_features import NMR_local\n",
    "\n",
    "structure = structure_tensors_filtered[17][\"structure\"]\n",
    "first_coord_dict = NMR_local(structure).first_neighbours\n",
    "first_coord_dict\n",
    "\n",
    "import itertools\n",
    "from pymatgen.util.coord import get_angle\n",
    "\n",
    "center_index = 2\n",
    "first_neighbours = first_coord_dict[center_index]\n",
    "site_combos = itertools.combinations(first_neighbours, 2)\n",
    "angles_differences = []\n",
    "for combo in site_combos:\n",
    "    v1 = combo[0][\"site\"].coords - structure[int(center_index)].coords\n",
    "    v2 = combo[1][\"site\"].coords - structure[int(center_index)].coords\n",
    "    angles_differences.append(get_angle(v1, v2, units=\"degrees\"))\n",
    "angles_differences.sort(reverse=True)\n",
    "angles_differences"
   ]
  },
  {
   "cell_type": "code",
   "execution_count": null,
   "metadata": {},
   "outputs": [],
   "source": [
    "# chemical environment of a site\n",
    "\n",
    "from pymatgen.analysis.chemenv.coordination_environments.coordination_geometry_finder import (\n",
    "    LocalGeometryFinder,\n",
    ")\n",
    "from matminer.featurizers.site.fingerprint import ChemEnvSiteFingerprint\n",
    "from pymatgen.analysis.chemenv.coordination_environments.chemenv_strategies import (\n",
    "    MultiWeightsChemenvStrategy,\n",
    ")\n",
    "\n",
    "cetypes = [\n",
    "    \"TL:3\",\n",
    "    \"TY:3\",\n",
    "    \"TS:3\",\n",
    "    \"T:4\",\n",
    "    \"S:4\",\n",
    "    \"SY:4\",\n",
    "    \"SS:4\",\n",
    "    \"PP:5\",\n",
    "    \"S:5\",\n",
    "    \"T:5\",\n",
    "    \"O:6\",\n",
    "    \"T:6\",\n",
    "    \"PP:6\",\n",
    "]\n",
    "lgf = LocalGeometryFinder()\n",
    "lgf.setup_parameters(\n",
    "    centering_type=\"centroid\",\n",
    "    include_central_site_in_centroid=True,\n",
    "    structure_refinement=lgf.STRUCTURE_REFINEMENT_NONE,\n",
    ")\n",
    "envfingerprint = ChemEnvSiteFingerprint(\n",
    "    cetypes,\n",
    "    MultiWeightsChemenvStrategy.stats_article_weights_parameters(),\n",
    "    lgf,\n",
    ")\n",
    "labels = envfingerprint.feature_labels()\n",
    "dict(\n",
    "    zip(\n",
    "        labels, envfingerprint.featurize(structure_tensors_filtered[15][\"structure\"], 4)\n",
    "    )\n",
    ")"
   ]
  },
  {
   "cell_type": "code",
   "execution_count": null,
   "metadata": {},
   "outputs": [],
   "source": [
    "r_result = {}\n",
    "for n in range(10):\n",
    "    X_train, X_test, y_train, y_test = train_test_split(\n",
    "        normalized_x, y, test_size=0.2, random_state=n\n",
    "        )\n",
    "\n",
    "    # create and fit a kernel ridge regression model\n",
    "    model = RandomForestRegressor(random_state=10,min_samples_split=4,min_samples_leaf=2)\n",
    "\n",
    "    param = {\"n_estimators\": randint(low=100, high=500), \n",
    "            \"max_depth\": uniform(10, 200),\n",
    "            \"max_features\": ['auto', 'sqrt','log2']\n",
    "            }\n",
    "\n",
    "    grid = RandomizedSearchCV(\n",
    "        estimator=model,\n",
    "        param_distributions=param,\n",
    "        n_iter=5,\n",
    "        scoring=[\"neg_mean_absolute_error\", \"neg_mean_squared_error\", \"r2\"],\n",
    "        refit=\"r2\",\n",
    "        cv=5,\n",
    "        n_jobs=8,\n",
    "    )\n",
    "    grid.fit(X_train.drop(\"max_ce\",axis=1), y_train['CQ'])\n",
    "\n",
    "    y_rf = grid.predict(X_test.drop(\"max_ce\",axis=1))\n",
    "    test_r2 = r2_score(y_test[\"CQ\"], y_rf)\n",
    "\n",
    "    r_result[n]=test_r2\n",
    "r_result"
   ]
  },
  {
   "cell_type": "code",
   "execution_count": null,
   "metadata": {},
   "outputs": [],
   "source": [
    "## 4.Feature importance and feature selection "
   ]
  },
  {
   "cell_type": "code",
   "execution_count": null,
   "metadata": {},
   "outputs": [],
   "source": [
    "model = grid.best_estimator_\n",
    "importance = model.feature_importances_\n",
    "feat_labels = X_train.drop(\"max_ce\",axis=1).columns\n",
    "\n",
    "feat_imp=[]\n",
    "for feat, imp in zip(feat_labels,importance):\n",
    "    feat_imp.append((feat,imp))\n",
    "feat_imp = pd.DataFrame(feat_imp,columns=['feature name','importance'])\n",
    "feat_imp.sort_values('importance',ascending=False).iloc[:10,:]"
   ]
  },
  {
   "cell_type": "code",
   "execution_count": null,
   "metadata": {},
   "outputs": [],
   "source": [
    "from sklearn.feature_selection import SelectFromModel\n",
    "# Create a selector object that will use the random forest regressor to identify\n",
    "# features that have an importance of more than 0.15\n",
    "sfm = SelectFromModel(model, threshold=0.15)\n",
    "\n",
    "# Train the selector\n",
    "sfm.fit(X_train.drop(\"max_ce\",axis=1), y_train['CQ'])\n",
    "\n",
    "for feature_list_index in sfm.get_support(indices=True):\n",
    "    print(feat_labels[feature_list_index])"
   ]
  }
 ],
 "metadata": {
  "language_info": {
   "name": "python"
  },
  "orig_nbformat": 4
 },
 "nbformat": 4,
 "nbformat_minor": 2
}
