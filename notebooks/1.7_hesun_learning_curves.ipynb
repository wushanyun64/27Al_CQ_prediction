{
 "cells": [
  {
   "cell_type": "code",
   "execution_count": 7,
   "metadata": {},
   "outputs": [],
   "source": [
    "import joblib\n",
    "import pandas as pd"
   ]
  },
  {
   "cell_type": "code",
   "execution_count": 2,
   "metadata": {},
   "outputs": [],
   "source": [
    "import sys\n",
    "\n",
    "sys.path.append(\"../\")\n",
    "from src.model import *\n",
    "\n",
    "model_path = \"../models/\""
   ]
  },
  {
   "cell_type": "markdown",
   "metadata": {},
   "source": [
    "### Calculating learning curves "
   ]
  },
  {
   "cell_type": "markdown",
   "metadata": {},
   "source": [
    "The models' performance should be tested under different situations such as different sample sizes. \n",
    "This notebook generate .csv files that stores the model's metrics under difference training sample sizes."
   ]
  },
  {
   "cell_type": "markdown",
   "metadata": {},
   "source": [
    "Reload the processed data from data/processed. "
   ]
  },
  {
   "cell_type": "code",
   "execution_count": 3,
   "metadata": {},
   "outputs": [
    {
     "data": {
      "text/html": [
       "<div>\n",
       "<style scoped>\n",
       "    .dataframe tbody tr th:only-of-type {\n",
       "        vertical-align: middle;\n",
       "    }\n",
       "\n",
       "    .dataframe tbody tr th {\n",
       "        vertical-align: top;\n",
       "    }\n",
       "\n",
       "    .dataframe thead th {\n",
       "        text-align: right;\n",
       "    }\n",
       "</style>\n",
       "<table border=\"1\" class=\"dataframe\">\n",
       "  <thead>\n",
       "    <tr style=\"text-align: right;\">\n",
       "      <th></th>\n",
       "      <th>is_O</th>\n",
       "      <th>atom_combination</th>\n",
       "      <th>composition</th>\n",
       "      <th>max_ce</th>\n",
       "      <th>structure_index</th>\n",
       "      <th>diso</th>\n",
       "      <th>etaQ</th>\n",
       "      <th>CQ</th>\n",
       "      <th>fbl_average</th>\n",
       "      <th>fbl_std</th>\n",
       "      <th>...</th>\n",
       "      <th>110</th>\n",
       "      <th>111</th>\n",
       "      <th>112</th>\n",
       "      <th>113</th>\n",
       "      <th>114</th>\n",
       "      <th>115</th>\n",
       "      <th>116</th>\n",
       "      <th>117</th>\n",
       "      <th>118</th>\n",
       "      <th>119</th>\n",
       "    </tr>\n",
       "  </thead>\n",
       "  <tbody>\n",
       "    <tr>\n",
       "      <th>0</th>\n",
       "      <td>True</td>\n",
       "      <td>O</td>\n",
       "      <td>['O', 'O', 'O', 'O', 'O', 'O']</td>\n",
       "      <td>O:6</td>\n",
       "      <td>0</td>\n",
       "      <td>202.417197</td>\n",
       "      <td>0.001339</td>\n",
       "      <td>0.264794</td>\n",
       "      <td>1.914520</td>\n",
       "      <td>0.083396</td>\n",
       "      <td>...</td>\n",
       "      <td>7.808661e+06</td>\n",
       "      <td>9343.650957</td>\n",
       "      <td>6054.103924</td>\n",
       "      <td>5832.344530</td>\n",
       "      <td>5832.341162</td>\n",
       "      <td>533.498566</td>\n",
       "      <td>145.040097</td>\n",
       "      <td>132.941405</td>\n",
       "      <td>132.941328</td>\n",
       "      <td>95.242235</td>\n",
       "    </tr>\n",
       "    <tr>\n",
       "      <th>1</th>\n",
       "      <td>True</td>\n",
       "      <td>O</td>\n",
       "      <td>['O', 'O', 'O', 'O', 'O', 'O']</td>\n",
       "      <td>O:6</td>\n",
       "      <td>0</td>\n",
       "      <td>202.415778</td>\n",
       "      <td>0.000000</td>\n",
       "      <td>0.264794</td>\n",
       "      <td>1.914520</td>\n",
       "      <td>0.083396</td>\n",
       "      <td>...</td>\n",
       "      <td>7.808661e+06</td>\n",
       "      <td>9343.650957</td>\n",
       "      <td>6054.103924</td>\n",
       "      <td>5832.344530</td>\n",
       "      <td>5832.341162</td>\n",
       "      <td>533.498566</td>\n",
       "      <td>145.040097</td>\n",
       "      <td>132.941405</td>\n",
       "      <td>132.941328</td>\n",
       "      <td>95.242235</td>\n",
       "    </tr>\n",
       "    <tr>\n",
       "      <th>2</th>\n",
       "      <td>True</td>\n",
       "      <td>O</td>\n",
       "      <td>['O', 'O', 'O', 'O', 'O', 'O']</td>\n",
       "      <td>O:6</td>\n",
       "      <td>0</td>\n",
       "      <td>202.418564</td>\n",
       "      <td>0.000000</td>\n",
       "      <td>0.264794</td>\n",
       "      <td>1.914520</td>\n",
       "      <td>0.083396</td>\n",
       "      <td>...</td>\n",
       "      <td>7.808661e+06</td>\n",
       "      <td>9343.650957</td>\n",
       "      <td>6054.103924</td>\n",
       "      <td>5832.344530</td>\n",
       "      <td>5832.341162</td>\n",
       "      <td>533.498566</td>\n",
       "      <td>145.040097</td>\n",
       "      <td>132.941405</td>\n",
       "      <td>132.941328</td>\n",
       "      <td>95.242235</td>\n",
       "    </tr>\n",
       "    <tr>\n",
       "      <th>3</th>\n",
       "      <td>True</td>\n",
       "      <td>O</td>\n",
       "      <td>['O', 'O', 'O', 'O', 'O', 'O']</td>\n",
       "      <td>O:6</td>\n",
       "      <td>0</td>\n",
       "      <td>202.418705</td>\n",
       "      <td>0.001339</td>\n",
       "      <td>0.264794</td>\n",
       "      <td>1.914520</td>\n",
       "      <td>0.083396</td>\n",
       "      <td>...</td>\n",
       "      <td>7.808661e+06</td>\n",
       "      <td>9343.650957</td>\n",
       "      <td>6054.103924</td>\n",
       "      <td>5832.344530</td>\n",
       "      <td>5832.341162</td>\n",
       "      <td>533.498566</td>\n",
       "      <td>145.040097</td>\n",
       "      <td>132.941405</td>\n",
       "      <td>132.941328</td>\n",
       "      <td>95.242235</td>\n",
       "    </tr>\n",
       "    <tr>\n",
       "      <th>4</th>\n",
       "      <td>True</td>\n",
       "      <td>O</td>\n",
       "      <td>['O', 'O', 'O', 'O', 'O', 'O']</td>\n",
       "      <td>O:6</td>\n",
       "      <td>3</td>\n",
       "      <td>196.472860</td>\n",
       "      <td>0.670647</td>\n",
       "      <td>1.521078</td>\n",
       "      <td>1.918155</td>\n",
       "      <td>0.032340</td>\n",
       "      <td>...</td>\n",
       "      <td>7.808556e+06</td>\n",
       "      <td>8985.063376</td>\n",
       "      <td>6145.456281</td>\n",
       "      <td>5999.586723</td>\n",
       "      <td>5887.848974</td>\n",
       "      <td>529.391058</td>\n",
       "      <td>140.079201</td>\n",
       "      <td>136.754511</td>\n",
       "      <td>134.578866</td>\n",
       "      <td>97.192860</td>\n",
       "    </tr>\n",
       "  </tbody>\n",
       "</table>\n",
       "<p>5 rows × 137 columns</p>\n",
       "</div>"
      ],
      "text/plain": [
       "   is_O atom_combination                     composition max_ce  \\\n",
       "0  True                O  ['O', 'O', 'O', 'O', 'O', 'O']    O:6   \n",
       "1  True                O  ['O', 'O', 'O', 'O', 'O', 'O']    O:6   \n",
       "2  True                O  ['O', 'O', 'O', 'O', 'O', 'O']    O:6   \n",
       "3  True                O  ['O', 'O', 'O', 'O', 'O', 'O']    O:6   \n",
       "4  True                O  ['O', 'O', 'O', 'O', 'O', 'O']    O:6   \n",
       "\n",
       "   structure_index        diso      etaQ        CQ  fbl_average   fbl_std  \\\n",
       "0                0  202.417197  0.001339  0.264794     1.914520  0.083396   \n",
       "1                0  202.415778  0.000000  0.264794     1.914520  0.083396   \n",
       "2                0  202.418564  0.000000  0.264794     1.914520  0.083396   \n",
       "3                0  202.418705  0.001339  0.264794     1.914520  0.083396   \n",
       "4                3  196.472860  0.670647  1.521078     1.918155  0.032340   \n",
       "\n",
       "   ...           110          111          112          113          114  \\\n",
       "0  ...  7.808661e+06  9343.650957  6054.103924  5832.344530  5832.341162   \n",
       "1  ...  7.808661e+06  9343.650957  6054.103924  5832.344530  5832.341162   \n",
       "2  ...  7.808661e+06  9343.650957  6054.103924  5832.344530  5832.341162   \n",
       "3  ...  7.808661e+06  9343.650957  6054.103924  5832.344530  5832.341162   \n",
       "4  ...  7.808556e+06  8985.063376  6145.456281  5999.586723  5887.848974   \n",
       "\n",
       "          115         116         117         118        119  \n",
       "0  533.498566  145.040097  132.941405  132.941328  95.242235  \n",
       "1  533.498566  145.040097  132.941405  132.941328  95.242235  \n",
       "2  533.498566  145.040097  132.941405  132.941328  95.242235  \n",
       "3  533.498566  145.040097  132.941405  132.941328  95.242235  \n",
       "4  529.391058  140.079201  136.754511  134.578866  97.192860  \n",
       "\n",
       "[5 rows x 137 columns]"
      ]
     },
     "execution_count": 3,
     "metadata": {},
     "output_type": "execute_result"
    }
   ],
   "source": [
    "path = \"../data/processed/nmr_param_and_features.csv\"\n",
    "with open(path, \"r\") as file:\n",
    "    nmr_struc_data = pd.read_csv(file)\n",
    "nmr_struc_data.head()"
   ]
  },
  {
   "cell_type": "markdown",
   "metadata": {},
   "source": [
    "Get a series of smaller datasets randomly selected with size from 10% to 100% of the total dataset."
   ]
  },
  {
   "cell_type": "code",
   "execution_count": 4,
   "metadata": {},
   "outputs": [],
   "source": [
    "small_sets = []\n",
    "for p in range(1, 11):\n",
    "    small_sets.append(nmr_struc_data.sample(frac=p / 10, random_state=20))"
   ]
  },
  {
   "cell_type": "markdown",
   "metadata": {},
   "source": [
    "Import the previously trained model. (Here we use the model with structural+elemental features \n",
    "as an example)"
   ]
  },
  {
   "cell_type": "code",
   "execution_count": 6,
   "metadata": {},
   "outputs": [],
   "source": [
    "model = joblib.load(model_path + \"struc+ele.pkl\")"
   ]
  },
  {
   "cell_type": "markdown",
   "metadata": {},
   "source": [
    "We use a helper function learning_curve_samplesize from Utility to calculate the curve."
   ]
  },
  {
   "cell_type": "code",
   "execution_count": 9,
   "metadata": {},
   "outputs": [
    {
     "name": "stderr",
     "output_type": "stream",
     "text": [
      "100%|██████████| 10/10 [1:06:59<00:00, 401.92s/it]\n"
     ]
    }
   ],
   "source": [
    "from src.Utility import learning_curve_samplesize\n",
    "\n",
    "feature_names = small_sets[0].loc[:, \"fbl_average\":].columns\n",
    "learning_curve = learning_curve_samplesize(model, small_sets, feature_names)\n",
    "learning_curve = pd.DataFrame(learning_curve)"
   ]
  },
  {
   "cell_type": "code",
   "execution_count": 11,
   "metadata": {},
   "outputs": [],
   "source": [
    "learning_curve.to_csv(\n",
    "    \"../reports/tables/learning_curve_samplesize_structure_and_elemental.csv\"\n",
    ")"
   ]
  }
 ],
 "metadata": {
  "kernelspec": {
   "display_name": "Python 3.8.13 ('27al_ml')",
   "language": "python",
   "name": "python3"
  },
  "language_info": {
   "codemirror_mode": {
    "name": "ipython",
    "version": 3
   },
   "file_extension": ".py",
   "mimetype": "text/x-python",
   "name": "python",
   "nbconvert_exporter": "python",
   "pygments_lexer": "ipython3",
   "version": "3.8.13"
  },
  "orig_nbformat": 4,
  "vscode": {
   "interpreter": {
    "hash": "a100d861a3d6438a0153a54f755c32ecbafe1a787960322fb78fe4fcf72b617a"
   }
  }
 },
 "nbformat": 4,
 "nbformat_minor": 2
}
