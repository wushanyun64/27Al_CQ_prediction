{
 "cells": [
  {
   "cell_type": "code",
   "execution_count": null,
   "metadata": {},
   "outputs": [],
   "source": [
    "import json\n",
    "from tqdm import tqdm"
   ]
  },
  {
   "cell_type": "code",
   "execution_count": null,
   "metadata": {},
   "outputs": [],
   "source": [
    "import sys\n",
    "\n",
    "sys.path.append(\"../\")"
   ]
  },
  {
   "cell_type": "markdown",
   "metadata": {},
   "source": [
    "### Structure filtering"
   ]
  },
  {
   "cell_type": "markdown",
   "metadata": {},
   "source": [
    "In this step, we use the cleaned raw data from notebook 1.1 and perform data filtering based on the local geometry. We are mainly filtering structures with local <sup>27</sup>Al environments with the following two steps:\n",
    "1. Al sites with 4, 5, 6 coordinations.\n",
    "2. Al sites that are tetrahedra, pyramidical and octahedra.  "
   ]
  },
  {
   "cell_type": "markdown",
   "metadata": {},
   "source": [
    "Reload the Alnmr_clean.json file from data/interim"
   ]
  },
  {
   "cell_type": "code",
   "execution_count": null,
   "metadata": {},
   "outputs": [],
   "source": [
    "data_path = \"../data/\"\n",
    "with open(data_path + \"interim/Alnmr_clean.json\", \"r\") as file:\n",
    "    data = json.load(file)\n",
    "    print(\"length of file is {}\".format(len(data)))"
   ]
  },
  {
   "cell_type": "markdown",
   "metadata": {},
   "source": [
    "Parse the raw data into a custom defined obj called structure_tensor. The structure_tensor contains two sets of information: crystal structure data in pymatgen.structure format and NMR spectrum parameters computed based on raw tensor.\n",
    "\n",
    "    structure_tensor = {\n",
    "        'structure': pymatgen.structure\n",
    "        'tensors : {\n",
    "            'diso',\n",
    "            'csa',\n",
    "            'csa_reduced',\n",
    "            'etacs',\n",
    "            'etaQ',\n",
    "            'CQ',\n",
    "            'site_index',\n",
    "            'structure_index',\n",
    "            'site_coord',\n",
    "        }\n",
    "    }"
   ]
  },
  {
   "cell_type": "code",
   "execution_count": null,
   "metadata": {},
   "outputs": [],
   "source": [
    "# get the structure_tensors obj\n",
    "from src.data.structure_tensors_gen import get_structure_tensor\n",
    "\n",
    "# structure_tensors = get_structure_tensors(data)\n",
    "# print(\"length of structure_tensors:\", len(structure_tensors))\n",
    "structure_tensors = []\n",
    "for compound in tqdm(data):\n",
    "    structure = compound[\"structure\"]\n",
    "    efg = compound[\"efg\"]\n",
    "    cs = compound[\"cs\"]\n",
    "    structure_tensor = get_structure_tensor(structure, efg, cs)\n",
    "    structure_tensors.append(structure_tensor)\n",
    "\n",
    "print(\"length of structure_tensors:\", len(structure_tensors))"
   ]
  },
  {
   "cell_type": "markdown",
   "metadata": {},
   "source": [
    "pymatgen is a powerful tool to modify the crystal structure, here we need to add oxidation states for each site."
   ]
  },
  {
   "cell_type": "code",
   "execution_count": null,
   "metadata": {},
   "outputs": [],
   "source": [
    "from src.data.structure_tensors_modifier import *\n",
    "\n",
    "# Add oxidation state for each structures in structure_tensors obj. Might take a long time based on the structure.\n",
    "structure_tensors = add_oxi_state_by_guess(structure_tensors)"
   ]
  },
  {
   "cell_type": "markdown",
   "metadata": {},
   "source": [
    "Now we can filter the data based on local Al coordinations"
   ]
  },
  {
   "cell_type": "code",
   "execution_count": null,
   "metadata": {},
   "outputs": [],
   "source": [
    "structure_tensors_filtered = get_n_coord_tensors(structure_tensors, coord=[4, 5, 6])\n",
    "structure_tensors_filtered = append_coord_num(structure_tensors_filtered)\n",
    "len(structure_tensors_filtered)"
   ]
  },
  {
   "cell_type": "markdown",
   "metadata": {},
   "source": [
    "Add chemical environment info (such as T:4, tetrahedron) to the \"Tensor\" key in structure_tensor. Might take a long time based on the structure."
   ]
  },
  {
   "cell_type": "code",
   "execution_count": null,
   "metadata": {},
   "outputs": [],
   "source": [
    "structure_tensors_filtered = append_ce(structure_tensors_filtered)"
   ]
  },
  {
   "cell_type": "markdown",
   "metadata": {},
   "source": [
    "Filter structures based on local chemenv. Here we select T:4 T:5 O:6 sites"
   ]
  },
  {
   "cell_type": "code",
   "execution_count": null,
   "metadata": {},
   "outputs": [],
   "source": [
    "chemenv_filter = filter_ce(structure_tensors_filtered)\n",
    "# number of outliers\n",
    "print(\"number of outliers:\", len(chemenv_filter[\"outliers\"]))"
   ]
  },
  {
   "cell_type": "markdown",
   "metadata": {},
   "source": [
    "Save the processed data in data/interim for feature generation in the next step. "
   ]
  },
  {
   "cell_type": "code",
   "execution_count": null,
   "metadata": {},
   "outputs": [],
   "source": [
    "filtered_data = copy.deepcopy(chemenv_filter[\"filtered\"])\n",
    "for data in filtered_data:\n",
    "    data[\"structure\"] = data[\"structure\"].as_dict()\n",
    "dir_ = data_path + \"interim/\"\n",
    "filename = \"filtered_data.json\"\n",
    "with open(dir_ + filename, \"w\") as outfile:\n",
    "    json.dump(filtered_data, outfile)"
   ]
  }
 ],
 "metadata": {
  "kernelspec": {
   "display_name": "Python 3.8.13 ('27al_ml')",
   "language": "python",
   "name": "python3"
  },
  "language_info": {
   "codemirror_mode": {
    "name": "ipython",
    "version": 3
   },
   "file_extension": ".py",
   "mimetype": "text/x-python",
   "name": "python",
   "nbconvert_exporter": "python",
   "pygments_lexer": "ipython3",
   "version": "3.8.13"
  },
  "orig_nbformat": 4,
  "vscode": {
   "interpreter": {
    "hash": "a100d861a3d6438a0153a54f755c32ecbafe1a787960322fb78fe4fcf72b617a"
   }
  }
 },
 "nbformat": 4,
 "nbformat_minor": 2
}
