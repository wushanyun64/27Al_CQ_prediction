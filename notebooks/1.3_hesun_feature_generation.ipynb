{
 "cells": [
  {
   "cell_type": "code",
   "execution_count": 1,
   "metadata": {},
   "outputs": [],
   "source": [
    "import json\n",
    "from pymatgen.core.structure import Structure as ST"
   ]
  },
  {
   "cell_type": "code",
   "execution_count": 2,
   "metadata": {},
   "outputs": [],
   "source": [
    "import sys\n",
    "\n",
    "sys.path.append(\"../\")"
   ]
  },
  {
   "cell_type": "markdown",
   "metadata": {},
   "source": [
    "### Feature generation"
   ]
  },
  {
   "cell_type": "markdown",
   "metadata": {},
   "source": [
    "This step we are generating features from the crystal structure for the offspring machine learning training. For the prediction of solid-state NMR parameters, the information correlated with the local environment (atomic positions, density, species, etc.) is very important since NMR spectra are heavy influenced by the local electronic density distribution. \n",
    "\n",
    "Thus, here we are proposing two set of features for the predciton of the quadrupolar coupling constant of <sup>27</sup>Al species. \n",
    "\n",
    "1. A set of pure structure based feature, which denote simple local geometry information such as statistics of bond lengths, bond angles and geometrical distortions (totally 9 features). First order bond lengths and first order bond angles are denoted as 'fbl' and 'fba' here.\n",
    "\n",
    "2. Three sets of features encoding the intrinsic elemental information denoted as number indexs. The details of implementation can be sound in the source code. "
   ]
  },
  {
   "cell_type": "markdown",
   "metadata": {},
   "source": [
    "Read and reload the filtered data from data/interim."
   ]
  },
  {
   "cell_type": "code",
   "execution_count": 4,
   "metadata": {},
   "outputs": [
    {
     "name": "stdout",
     "output_type": "stream",
     "text": [
      "number of structures: 1681\n"
     ]
    }
   ],
   "source": [
    "path = \"../data/interim/filtered_data.json\"\n",
    "with open(path, \"r\") as file:\n",
    "    data_reload = json.load(file)\n",
    "for data in data_reload:\n",
    "    data[\"structure\"] = ST.from_dict(data[\"structure\"])\n",
    "print(\"number of structures:\", len(data_reload))"
   ]
  },
  {
   "cell_type": "markdown",
   "metadata": {},
   "source": [
    "Calculate the features and store the result together with corresponding NMR params (labels) in a Dataframe"
   ]
  },
  {
   "cell_type": "code",
   "execution_count": 5,
   "metadata": {},
   "outputs": [
    {
     "name": "stderr",
     "output_type": "stream",
     "text": [
      "  0%|          | 0/1681 [00:00<?, ?it/s]/mnt/c/Users/wusha/Documents/GitHub/27Al_CQ_prediction/notebooks/../src/features_gen.py:591: RuntimeWarning: divide by zero encountered in reciprocal\n",
      "  dis_matrix_rev = np.reciprocal(distance_matrix(coords_all, coords_all))\n",
      "  0%|          | 2/1681 [00:00<04:01,  6.95it/s]/home/he/anaconda3/envs/27al_ml/lib/python3.8/site-packages/pymatgen/analysis/local_env.py:3938: UserWarning: CrystalNN: cannot locate an appropriate radius, covalent or atomic radii will be used, this can lead to non-optimal results.\n",
      "  warnings.warn(\n",
      "100%|██████████| 1681/1681 [12:11<00:00,  2.30it/s]\n"
     ]
    },
    {
     "name": "stdout",
     "output_type": "stream",
     "text": [
      "There are 0 structures returns error. Their index are []\n",
      "error_messages:\n",
      " []\n"
     ]
    },
    {
     "data": {
      "text/html": [
       "<div>\n",
       "<style scoped>\n",
       "    .dataframe tbody tr th:only-of-type {\n",
       "        vertical-align: middle;\n",
       "    }\n",
       "\n",
       "    .dataframe tbody tr th {\n",
       "        vertical-align: top;\n",
       "    }\n",
       "\n",
       "    .dataframe thead th {\n",
       "        text-align: right;\n",
       "    }\n",
       "</style>\n",
       "<table border=\"1\" class=\"dataframe\">\n",
       "  <thead>\n",
       "    <tr style=\"text-align: right;\">\n",
       "      <th></th>\n",
       "      <th>is_O</th>\n",
       "      <th>atom_combination</th>\n",
       "      <th>composition</th>\n",
       "      <th>max_ce</th>\n",
       "      <th>diso</th>\n",
       "      <th>etaQ</th>\n",
       "      <th>CQ</th>\n",
       "      <th>fbl_average</th>\n",
       "      <th>fbl_std</th>\n",
       "      <th>fbl_max</th>\n",
       "      <th>...</th>\n",
       "      <th>110</th>\n",
       "      <th>111</th>\n",
       "      <th>112</th>\n",
       "      <th>113</th>\n",
       "      <th>114</th>\n",
       "      <th>115</th>\n",
       "      <th>116</th>\n",
       "      <th>117</th>\n",
       "      <th>118</th>\n",
       "      <th>119</th>\n",
       "    </tr>\n",
       "  </thead>\n",
       "  <tbody>\n",
       "    <tr>\n",
       "      <th>0</th>\n",
       "      <td>True</td>\n",
       "      <td>O</td>\n",
       "      <td>[O, O, O, O, O, O]</td>\n",
       "      <td>O:6</td>\n",
       "      <td>202.417197</td>\n",
       "      <td>0.001339</td>\n",
       "      <td>0.264794</td>\n",
       "      <td>1.914520</td>\n",
       "      <td>0.083396</td>\n",
       "      <td>1.990656</td>\n",
       "      <td>...</td>\n",
       "      <td>7.808661e+06</td>\n",
       "      <td>9343.650957</td>\n",
       "      <td>6054.103924</td>\n",
       "      <td>5832.344530</td>\n",
       "      <td>5832.341162</td>\n",
       "      <td>533.498566</td>\n",
       "      <td>145.040097</td>\n",
       "      <td>132.941405</td>\n",
       "      <td>132.941328</td>\n",
       "      <td>95.242235</td>\n",
       "    </tr>\n",
       "    <tr>\n",
       "      <th>1</th>\n",
       "      <td>True</td>\n",
       "      <td>O</td>\n",
       "      <td>[O, O, O, O, O, O]</td>\n",
       "      <td>O:6</td>\n",
       "      <td>202.415778</td>\n",
       "      <td>0.000000</td>\n",
       "      <td>0.264794</td>\n",
       "      <td>1.914520</td>\n",
       "      <td>0.083396</td>\n",
       "      <td>1.990656</td>\n",
       "      <td>...</td>\n",
       "      <td>7.808661e+06</td>\n",
       "      <td>9343.650957</td>\n",
       "      <td>6054.103924</td>\n",
       "      <td>5832.344530</td>\n",
       "      <td>5832.341162</td>\n",
       "      <td>533.498566</td>\n",
       "      <td>145.040097</td>\n",
       "      <td>132.941405</td>\n",
       "      <td>132.941328</td>\n",
       "      <td>95.242235</td>\n",
       "    </tr>\n",
       "    <tr>\n",
       "      <th>2</th>\n",
       "      <td>True</td>\n",
       "      <td>O</td>\n",
       "      <td>[O, O, O, O, O, O]</td>\n",
       "      <td>O:6</td>\n",
       "      <td>202.418564</td>\n",
       "      <td>0.000000</td>\n",
       "      <td>0.264794</td>\n",
       "      <td>1.914520</td>\n",
       "      <td>0.083396</td>\n",
       "      <td>1.990656</td>\n",
       "      <td>...</td>\n",
       "      <td>7.808661e+06</td>\n",
       "      <td>9343.650957</td>\n",
       "      <td>6054.103924</td>\n",
       "      <td>5832.344530</td>\n",
       "      <td>5832.341162</td>\n",
       "      <td>533.498566</td>\n",
       "      <td>145.040097</td>\n",
       "      <td>132.941405</td>\n",
       "      <td>132.941328</td>\n",
       "      <td>95.242235</td>\n",
       "    </tr>\n",
       "    <tr>\n",
       "      <th>3</th>\n",
       "      <td>True</td>\n",
       "      <td>O</td>\n",
       "      <td>[O, O, O, O, O, O]</td>\n",
       "      <td>O:6</td>\n",
       "      <td>202.418705</td>\n",
       "      <td>0.001339</td>\n",
       "      <td>0.264794</td>\n",
       "      <td>1.914520</td>\n",
       "      <td>0.083396</td>\n",
       "      <td>1.990656</td>\n",
       "      <td>...</td>\n",
       "      <td>7.808661e+06</td>\n",
       "      <td>9343.650957</td>\n",
       "      <td>6054.103924</td>\n",
       "      <td>5832.344530</td>\n",
       "      <td>5832.341162</td>\n",
       "      <td>533.498566</td>\n",
       "      <td>145.040097</td>\n",
       "      <td>132.941405</td>\n",
       "      <td>132.941328</td>\n",
       "      <td>95.242235</td>\n",
       "    </tr>\n",
       "    <tr>\n",
       "      <th>4</th>\n",
       "      <td>True</td>\n",
       "      <td>O</td>\n",
       "      <td>[O, O, O, O, O, O]</td>\n",
       "      <td>O:6</td>\n",
       "      <td>196.472860</td>\n",
       "      <td>0.670647</td>\n",
       "      <td>1.521078</td>\n",
       "      <td>1.918155</td>\n",
       "      <td>0.032340</td>\n",
       "      <td>1.959752</td>\n",
       "      <td>...</td>\n",
       "      <td>7.808556e+06</td>\n",
       "      <td>8985.063376</td>\n",
       "      <td>6145.456281</td>\n",
       "      <td>5999.586723</td>\n",
       "      <td>5887.848974</td>\n",
       "      <td>529.391058</td>\n",
       "      <td>140.079201</td>\n",
       "      <td>136.754511</td>\n",
       "      <td>134.578866</td>\n",
       "      <td>97.192860</td>\n",
       "    </tr>\n",
       "  </tbody>\n",
       "</table>\n",
       "<p>5 rows × 136 columns</p>\n",
       "</div>"
      ],
      "text/plain": [
       "   is_O atom_combination         composition max_ce        diso      etaQ  \\\n",
       "0  True                O  [O, O, O, O, O, O]    O:6  202.417197  0.001339   \n",
       "1  True                O  [O, O, O, O, O, O]    O:6  202.415778  0.000000   \n",
       "2  True                O  [O, O, O, O, O, O]    O:6  202.418564  0.000000   \n",
       "3  True                O  [O, O, O, O, O, O]    O:6  202.418705  0.001339   \n",
       "4  True                O  [O, O, O, O, O, O]    O:6  196.472860  0.670647   \n",
       "\n",
       "         CQ  fbl_average   fbl_std   fbl_max  ...           110          111  \\\n",
       "0  0.264794     1.914520  0.083396  1.990656  ...  7.808661e+06  9343.650957   \n",
       "1  0.264794     1.914520  0.083396  1.990656  ...  7.808661e+06  9343.650957   \n",
       "2  0.264794     1.914520  0.083396  1.990656  ...  7.808661e+06  9343.650957   \n",
       "3  0.264794     1.914520  0.083396  1.990656  ...  7.808661e+06  9343.650957   \n",
       "4  1.521078     1.918155  0.032340  1.959752  ...  7.808556e+06  8985.063376   \n",
       "\n",
       "           112          113          114         115         116         117  \\\n",
       "0  6054.103924  5832.344530  5832.341162  533.498566  145.040097  132.941405   \n",
       "1  6054.103924  5832.344530  5832.341162  533.498566  145.040097  132.941405   \n",
       "2  6054.103924  5832.344530  5832.341162  533.498566  145.040097  132.941405   \n",
       "3  6054.103924  5832.344530  5832.341162  533.498566  145.040097  132.941405   \n",
       "4  6145.456281  5999.586723  5887.848974  529.391058  140.079201  136.754511   \n",
       "\n",
       "          118        119  \n",
       "0  132.941328  95.242235  \n",
       "1  132.941328  95.242235  \n",
       "2  132.941328  95.242235  \n",
       "3  132.941328  95.242235  \n",
       "4  134.578866  97.192860  \n",
       "\n",
       "[5 rows x 136 columns]"
      ]
     },
     "execution_count": 5,
     "metadata": {},
     "output_type": "execute_result"
    }
   ],
   "source": [
    "from src.features_gen import concat_features_and_nmr\n",
    "\n",
    "nmr_struc_data = concat_features_and_nmr(data_reload)\n",
    "nmr_struc_data.reset_index(drop=True, inplace=True)\n",
    "nmr_struc_data.head()"
   ]
  },
  {
   "cell_type": "markdown",
   "metadata": {},
   "source": [
    "Save the output result in data/processed for model training."
   ]
  },
  {
   "cell_type": "code",
   "execution_count": 6,
   "metadata": {},
   "outputs": [],
   "source": [
    "nmr_struc_data.to_csv(\"../data/processed/nmr_param_and_features.csv\", index=False)"
   ]
  }
 ],
 "metadata": {
  "kernelspec": {
   "display_name": "Python 3.8.13 ('27al_ml')",
   "language": "python",
   "name": "python3"
  },
  "language_info": {
   "codemirror_mode": {
    "name": "ipython",
    "version": 3
   },
   "file_extension": ".py",
   "mimetype": "text/x-python",
   "name": "python",
   "nbconvert_exporter": "python",
   "pygments_lexer": "ipython3",
   "version": "3.8.13"
  },
  "orig_nbformat": 4,
  "vscode": {
   "interpreter": {
    "hash": "a100d861a3d6438a0153a54f755c32ecbafe1a787960322fb78fe4fcf72b617a"
   }
  }
 },
 "nbformat": 4,
 "nbformat_minor": 2
}
