{
 "cells": [
  {
   "cell_type": "code",
   "execution_count": 7,
   "metadata": {},
   "outputs": [],
   "source": [
    "import json\n",
    "from pymatgen.core.structure import Structure as ST"
   ]
  },
  {
   "cell_type": "code",
   "execution_count": 8,
   "metadata": {},
   "outputs": [],
   "source": [
    "import sys\n",
    "\n",
    "sys.path.append(\"../\")\n",
    "\n",
    "from src.Utility import bad_data_clean"
   ]
  },
  {
   "cell_type": "markdown",
   "metadata": {},
   "source": [
    "### Initial data cleaning and feature extraction\n",
    "---------------------------"
   ]
  },
  {
   "cell_type": "markdown",
   "metadata": {},
   "source": [
    "In this notebook, we are mainly cleaning the raw output data from VASP. The VASP output data is \n",
    "stored in .json format with both computed NMR tensors and crystal structure information derived from\n",
    ".cif."
   ]
  },
  {
   "cell_type": "code",
   "execution_count": 9,
   "metadata": {},
   "outputs": [
    {
     "name": "stdout",
     "output_type": "stream",
     "text": [
      "length of file is 3479\n"
     ]
    }
   ],
   "source": [
    "# read the raw data.\n",
    "data_path = \"../data/\"\n",
    "with open(data_path + \"raw/Alnmr.json\", \"r\") as file:\n",
    "    data = json.load(file)\n",
    "    print(\"length of file is {}\".format(len(data)))"
   ]
  },
  {
   "cell_type": "markdown",
   "metadata": {},
   "source": [
    "The raw data are separated into different keys.\n",
    "\n",
    "* *structure*--crystal structure information form .cif.\n",
    "* *formula*--the chemical formula of the material. \n",
    "* *g0*--the G=0 contribution to NMR tensors. (see VASP wiki for details)\n",
    "* *cs*--the raw chemical shielding tensor.\n",
    "* *efg*--the raw EFG tensor. \n"
   ]
  },
  {
   "cell_type": "code",
   "execution_count": 10,
   "metadata": {},
   "outputs": [
    {
     "data": {
      "text/plain": [
       "dict_keys(['structure', 'formula', 'g0', 'cs', 'efg'])"
      ]
     },
     "execution_count": 10,
     "metadata": {},
     "output_type": "execute_result"
    }
   ],
   "source": [
    "data[0].keys()"
   ]
  },
  {
   "cell_type": "markdown",
   "metadata": {},
   "source": [
    "There are some data points that dose not contain Al atoms or no structure info at all.\n",
    "We can clean the bad data point with the following helper fnx. "
   ]
  },
  {
   "cell_type": "code",
   "execution_count": 11,
   "metadata": {},
   "outputs": [
    {
     "name": "stdout",
     "output_type": "stream",
     "text": [
      "num of problem compound: 8\n",
      "len of none problematic data: 3471\n"
     ]
    }
   ],
   "source": [
    "data = bad_data_clean(data)"
   ]
  },
  {
   "cell_type": "markdown",
   "metadata": {},
   "source": [
    "Also some data points are simply replicating each other, we need to clean the redundances. "
   ]
  },
  {
   "cell_type": "code",
   "execution_count": 12,
   "metadata": {},
   "outputs": [
    {
     "name": "stdout",
     "output_type": "stream",
     "text": [
      "length of file without redundancy is 3022\n"
     ]
    }
   ],
   "source": [
    "# Also we can get rid of the redundances\n",
    "for i in range(len(data)):\n",
    "    string = json.dumps(data[i], sort_keys=True)\n",
    "    data[i] = string\n",
    "data = list(set(data))\n",
    "\n",
    "for i in range(len(data)):\n",
    "    dictionary = json.loads(data[i])\n",
    "    data[i] = dictionary\n",
    "print(\"length of file without redundancy is {}\".format(len(data)))"
   ]
  },
  {
   "cell_type": "markdown",
   "metadata": {},
   "source": [
    "Save the cleaned data as another .json file in the interim folder in /data/."
   ]
  },
  {
   "cell_type": "code",
   "execution_count": 13,
   "metadata": {},
   "outputs": [],
   "source": [
    "filename = \"Alnmr_clean.json\"\n",
    "with open(data_path + \"interim/\" + filename, \"w\") as outfile:\n",
    "    json.dump(data, outfile)"
   ]
  }
 ],
 "metadata": {
  "kernelspec": {
   "display_name": "Python 3.8.13 ('27al_ml')",
   "language": "python",
   "name": "python3"
  },
  "language_info": {
   "codemirror_mode": {
    "name": "ipython",
    "version": 3
   },
   "file_extension": ".py",
   "mimetype": "text/x-python",
   "name": "python",
   "nbconvert_exporter": "python",
   "pygments_lexer": "ipython3",
   "version": "3.8.13"
  },
  "orig_nbformat": 4,
  "vscode": {
   "interpreter": {
    "hash": "a100d861a3d6438a0153a54f755c32ecbafe1a787960322fb78fe4fcf72b617a"
   }
  }
 },
 "nbformat": 4,
 "nbformat_minor": 2
}
