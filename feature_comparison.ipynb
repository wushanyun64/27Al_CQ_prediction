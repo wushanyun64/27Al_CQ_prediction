{
 "cells": [
  {
   "cell_type": "markdown",
   "metadata": {},
   "source": [
    "Compare the performance of the structural+alchemical feature purposed here with previously proposed feature SOAP on training datasets with different sizes. "
   ]
  },
  {
   "cell_type": "code",
   "execution_count": 1,
   "metadata": {},
   "outputs": [],
   "source": [
    "import json\n",
    "import pandas as pd\n",
    "import numpy as np\n",
    "from tqdm import tqdm\n",
    "from pymatgen.io import ase\n",
    "from pymatgen.io import ase\n",
    "import matplotlib.pyplot as plt\n",
    "import seaborn as sns\n",
    "from pymatgen.core.structure import Structure as ST\n",
    "from src.Utility import get_composition\n",
    "from src.soap_utilities import getXY, get_species\n",
    "from sklearn.decomposition import TruncatedSVD\n",
    "import copy"
   ]
  },
  {
   "cell_type": "code",
   "execution_count": 2,
   "metadata": {},
   "outputs": [
    {
     "name": "stdout",
     "output_type": "stream",
     "text": [
      "length of data set is: 1681\n"
     ]
    }
   ],
   "source": [
    "# import dataset\n",
    "with open(\"./data/processed_data_0.5.json\", \"r\") as file:\n",
    "    data_reload = json.load(file)\n",
    "for data in data_reload:\n",
    "    data['structure'] = ST.from_dict(data['structure'])\n",
    "print(\"length of data set is:\", len(data_reload))"
   ]
  },
  {
   "cell_type": "code",
   "execution_count": 3,
   "metadata": {},
   "outputs": [
    {
     "name": "stderr",
     "output_type": "stream",
     "text": [
      "  0%|          | 0/1681 [00:00<?, ?it/s]/mnt/c/Users/wusha/Documents/GitHub/27Al_CQ_prediction/src/local_features.py:626: RuntimeWarning: divide by zero encountered in reciprocal\n",
      "  dis_matrix_rev = np.reciprocal(distance_matrix(coords_all,coords_all))\n",
      "  0%|          | 2/1681 [00:00<03:41,  7.59it/s]/home/he/anaconda3/envs/27al_ml/lib/python3.8/site-packages/pymatgen/analysis/local_env.py:3938: UserWarning: CrystalNN: cannot locate an appropriate radius, covalent or atomic radii will be used, this can lead to non-optimal results.\n",
      "  warnings.warn(\n",
      "100%|██████████| 1681/1681 [05:10<00:00,  5.41it/s]"
     ]
    },
    {
     "name": "stdout",
     "output_type": "stream",
     "text": [
      "There are 0 structures returns error. Their index are []\n",
      "error_messages:\n",
      " []\n"
     ]
    },
    {
     "name": "stderr",
     "output_type": "stream",
     "text": [
      "\n"
     ]
    },
    {
     "data": {
      "text/html": [
       "<div>\n",
       "<style scoped>\n",
       "    .dataframe tbody tr th:only-of-type {\n",
       "        vertical-align: middle;\n",
       "    }\n",
       "\n",
       "    .dataframe tbody tr th {\n",
       "        vertical-align: top;\n",
       "    }\n",
       "\n",
       "    .dataframe thead th {\n",
       "        text-align: right;\n",
       "    }\n",
       "</style>\n",
       "<table border=\"1\" class=\"dataframe\">\n",
       "  <thead>\n",
       "    <tr style=\"text-align: right;\">\n",
       "      <th></th>\n",
       "      <th>max_ce</th>\n",
       "      <th>structure_index</th>\n",
       "      <th>diso</th>\n",
       "      <th>etaQ</th>\n",
       "      <th>CQ</th>\n",
       "      <th>fbl_average</th>\n",
       "      <th>fbl_std</th>\n",
       "      <th>fbl_max</th>\n",
       "      <th>fbl_min</th>\n",
       "      <th>fba_average</th>\n",
       "      <th>...</th>\n",
       "      <th>110</th>\n",
       "      <th>111</th>\n",
       "      <th>112</th>\n",
       "      <th>113</th>\n",
       "      <th>114</th>\n",
       "      <th>115</th>\n",
       "      <th>116</th>\n",
       "      <th>117</th>\n",
       "      <th>118</th>\n",
       "      <th>119</th>\n",
       "    </tr>\n",
       "  </thead>\n",
       "  <tbody>\n",
       "    <tr>\n",
       "      <th>0</th>\n",
       "      <td>O:6</td>\n",
       "      <td>0</td>\n",
       "      <td>202.417197</td>\n",
       "      <td>0.001339</td>\n",
       "      <td>0.264794</td>\n",
       "      <td>1.914520</td>\n",
       "      <td>0.083396</td>\n",
       "      <td>1.990656</td>\n",
       "      <td>1.838386</td>\n",
       "      <td>104.534489</td>\n",
       "      <td>...</td>\n",
       "      <td>7.808661e+06</td>\n",
       "      <td>9343.650957</td>\n",
       "      <td>6054.103924</td>\n",
       "      <td>5832.344530</td>\n",
       "      <td>5832.341162</td>\n",
       "      <td>533.498566</td>\n",
       "      <td>145.040097</td>\n",
       "      <td>132.941405</td>\n",
       "      <td>132.941328</td>\n",
       "      <td>95.242235</td>\n",
       "    </tr>\n",
       "    <tr>\n",
       "      <th>1</th>\n",
       "      <td>O:6</td>\n",
       "      <td>0</td>\n",
       "      <td>202.415778</td>\n",
       "      <td>0.000000</td>\n",
       "      <td>0.264794</td>\n",
       "      <td>1.914520</td>\n",
       "      <td>0.083396</td>\n",
       "      <td>1.990656</td>\n",
       "      <td>1.838386</td>\n",
       "      <td>104.534489</td>\n",
       "      <td>...</td>\n",
       "      <td>7.808661e+06</td>\n",
       "      <td>9343.650957</td>\n",
       "      <td>6054.103924</td>\n",
       "      <td>5832.344530</td>\n",
       "      <td>5832.341162</td>\n",
       "      <td>533.498566</td>\n",
       "      <td>145.040097</td>\n",
       "      <td>132.941405</td>\n",
       "      <td>132.941328</td>\n",
       "      <td>95.242235</td>\n",
       "    </tr>\n",
       "    <tr>\n",
       "      <th>2</th>\n",
       "      <td>O:6</td>\n",
       "      <td>0</td>\n",
       "      <td>202.418564</td>\n",
       "      <td>0.000000</td>\n",
       "      <td>0.264794</td>\n",
       "      <td>1.914520</td>\n",
       "      <td>0.083396</td>\n",
       "      <td>1.990656</td>\n",
       "      <td>1.838386</td>\n",
       "      <td>104.534489</td>\n",
       "      <td>...</td>\n",
       "      <td>7.808661e+06</td>\n",
       "      <td>9343.650957</td>\n",
       "      <td>6054.103924</td>\n",
       "      <td>5832.344530</td>\n",
       "      <td>5832.341162</td>\n",
       "      <td>533.498566</td>\n",
       "      <td>145.040097</td>\n",
       "      <td>132.941405</td>\n",
       "      <td>132.941328</td>\n",
       "      <td>95.242235</td>\n",
       "    </tr>\n",
       "    <tr>\n",
       "      <th>3</th>\n",
       "      <td>O:6</td>\n",
       "      <td>0</td>\n",
       "      <td>202.418705</td>\n",
       "      <td>0.001339</td>\n",
       "      <td>0.264794</td>\n",
       "      <td>1.914520</td>\n",
       "      <td>0.083396</td>\n",
       "      <td>1.990656</td>\n",
       "      <td>1.838386</td>\n",
       "      <td>104.534489</td>\n",
       "      <td>...</td>\n",
       "      <td>7.808661e+06</td>\n",
       "      <td>9343.650957</td>\n",
       "      <td>6054.103924</td>\n",
       "      <td>5832.344530</td>\n",
       "      <td>5832.341162</td>\n",
       "      <td>533.498566</td>\n",
       "      <td>145.040097</td>\n",
       "      <td>132.941405</td>\n",
       "      <td>132.941328</td>\n",
       "      <td>95.242235</td>\n",
       "    </tr>\n",
       "    <tr>\n",
       "      <th>8</th>\n",
       "      <td>O:6</td>\n",
       "      <td>3</td>\n",
       "      <td>196.472860</td>\n",
       "      <td>0.670647</td>\n",
       "      <td>1.521078</td>\n",
       "      <td>1.918155</td>\n",
       "      <td>0.032340</td>\n",
       "      <td>1.959752</td>\n",
       "      <td>1.873823</td>\n",
       "      <td>107.312413</td>\n",
       "      <td>...</td>\n",
       "      <td>7.808556e+06</td>\n",
       "      <td>8985.063376</td>\n",
       "      <td>6145.456281</td>\n",
       "      <td>5999.586723</td>\n",
       "      <td>5887.848974</td>\n",
       "      <td>529.391058</td>\n",
       "      <td>140.079201</td>\n",
       "      <td>136.754511</td>\n",
       "      <td>134.578866</td>\n",
       "      <td>97.192860</td>\n",
       "    </tr>\n",
       "  </tbody>\n",
       "</table>\n",
       "<p>5 rows × 134 columns</p>\n",
       "</div>"
      ],
      "text/plain": [
       "  max_ce  structure_index        diso      etaQ        CQ  fbl_average  \\\n",
       "0    O:6                0  202.417197  0.001339  0.264794     1.914520   \n",
       "1    O:6                0  202.415778  0.000000  0.264794     1.914520   \n",
       "2    O:6                0  202.418564  0.000000  0.264794     1.914520   \n",
       "3    O:6                0  202.418705  0.001339  0.264794     1.914520   \n",
       "8    O:6                3  196.472860  0.670647  1.521078     1.918155   \n",
       "\n",
       "    fbl_std   fbl_max   fbl_min  fba_average  ...           110          111  \\\n",
       "0  0.083396  1.990656  1.838386   104.534489  ...  7.808661e+06  9343.650957   \n",
       "1  0.083396  1.990656  1.838386   104.534489  ...  7.808661e+06  9343.650957   \n",
       "2  0.083396  1.990656  1.838386   104.534489  ...  7.808661e+06  9343.650957   \n",
       "3  0.083396  1.990656  1.838386   104.534489  ...  7.808661e+06  9343.650957   \n",
       "8  0.032340  1.959752  1.873823   107.312413  ...  7.808556e+06  8985.063376   \n",
       "\n",
       "           112          113          114         115         116         117  \\\n",
       "0  6054.103924  5832.344530  5832.341162  533.498566  145.040097  132.941405   \n",
       "1  6054.103924  5832.344530  5832.341162  533.498566  145.040097  132.941405   \n",
       "2  6054.103924  5832.344530  5832.341162  533.498566  145.040097  132.941405   \n",
       "3  6054.103924  5832.344530  5832.341162  533.498566  145.040097  132.941405   \n",
       "8  6145.456281  5999.586723  5887.848974  529.391058  140.079201  136.754511   \n",
       "\n",
       "          118        119  \n",
       "0  132.941328  95.242235  \n",
       "1  132.941328  95.242235  \n",
       "2  132.941328  95.242235  \n",
       "3  132.941328  95.242235  \n",
       "8  134.578866  97.192860  \n",
       "\n",
       "[5 rows x 134 columns]"
      ]
     },
     "execution_count": 3,
     "metadata": {},
     "output_type": "execute_result"
    }
   ],
   "source": [
    "# generate structural+alchemical features\n",
    "from src.Utility import features_gen\n",
    "struc_alchem_dataset = features_gen(data_reload)\n",
    "struc_alchem_dataset.head()"
   ]
  },
  {
   "cell_type": "code",
   "execution_count": 2,
   "metadata": {},
   "outputs": [
    {
     "ename": "NameError",
     "evalue": "name 'get_species' is not defined",
     "output_type": "error",
     "traceback": [
      "\u001b[0;31m---------------------------------------------------------------------------\u001b[0m",
      "\u001b[0;31mNameError\u001b[0m                                 Traceback (most recent call last)",
      "\u001b[0;32m/tmp/ipykernel_2525/2722701382.py\u001b[0m in \u001b[0;36m<module>\u001b[0;34m\u001b[0m\n\u001b[1;32m      2\u001b[0m \u001b[0;34m\u001b[0m\u001b[0m\n\u001b[1;32m      3\u001b[0m \u001b[0;31m# Atom Species\u001b[0m\u001b[0;34m\u001b[0m\u001b[0;34m\u001b[0m\u001b[0;34m\u001b[0m\u001b[0m\n\u001b[0;32m----> 4\u001b[0;31m \u001b[0mspecies\u001b[0m \u001b[0;34m=\u001b[0m \u001b[0mget_species\u001b[0m\u001b[0;34m(\u001b[0m\u001b[0mdata_reload\u001b[0m\u001b[0;34m)\u001b[0m\u001b[0;34m\u001b[0m\u001b[0;34m\u001b[0m\u001b[0m\n\u001b[0m\u001b[1;32m      5\u001b[0m \u001b[0mprint\u001b[0m\u001b[0;34m(\u001b[0m\u001b[0;34m\"num of species in the data set:\"\u001b[0m\u001b[0;34m,\u001b[0m\u001b[0mlen\u001b[0m\u001b[0;34m(\u001b[0m\u001b[0mspecies\u001b[0m\u001b[0;34m)\u001b[0m\u001b[0;34m)\u001b[0m\u001b[0;34m\u001b[0m\u001b[0;34m\u001b[0m\u001b[0m\n\u001b[1;32m      6\u001b[0m \u001b[0;31m# calculate SOAP features\u001b[0m\u001b[0;34m\u001b[0m\u001b[0;34m\u001b[0m\u001b[0;34m\u001b[0m\u001b[0m\n",
      "\u001b[0;31mNameError\u001b[0m: name 'get_species' is not defined"
     ]
    }
   ],
   "source": [
    "# generate SOAP features\n",
    "\n",
    "# Atom Species\n",
    "species = get_species(data_reload)\n",
    "print(\"num of species in the data set:\",len(species))\n",
    "# calculate SOAP features\n",
    "X,y,loc = getXY(data_reload,species)\n",
    "#pca\n",
    "N = 100\n",
    "pca = TruncatedSVD(n_components=N,algorithm=\"arpack\")\n",
    "X_pca_fit = pca.fit(X)\n",
    "X_pca = X_pca_fit.transform(X)"
   ]
  },
  {
   "cell_type": "code",
   "execution_count": 10,
   "metadata": {},
   "outputs": [
    {
     "data": {
      "text/plain": [
       "1.262113612"
      ]
     },
     "execution_count": 10,
     "metadata": {},
     "output_type": "execute_result"
    }
   ],
   "source": [
    "from pymatgen.core.periodic_table import Element\n",
    "getattr(Element('C'),'electron_affinity')"
   ]
  },
  {
   "cell_type": "code",
   "execution_count": null,
   "metadata": {},
   "outputs": [],
   "source": []
  },
  {
   "cell_type": "code",
   "execution_count": null,
   "metadata": {},
   "outputs": [],
   "source": []
  }
 ],
 "metadata": {
  "interpreter": {
   "hash": "a100d861a3d6438a0153a54f755c32ecbafe1a787960322fb78fe4fcf72b617a"
  },
  "kernelspec": {
   "display_name": "Python 3.8.11 64-bit ('27al_ml': conda)",
   "language": "python",
   "name": "python3"
  },
  "language_info": {
   "codemirror_mode": {
    "name": "ipython",
    "version": 3
   },
   "file_extension": ".py",
   "mimetype": "text/x-python",
   "name": "python",
   "nbconvert_exporter": "python",
   "pygments_lexer": "ipython3",
   "version": "3.8.11"
  },
  "orig_nbformat": 4
 },
 "nbformat": 4,
 "nbformat_minor": 2
}
