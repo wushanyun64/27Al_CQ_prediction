{
 "cells": [
  {
   "cell_type": "code",
   "execution_count": 1,
   "metadata": {},
   "outputs": [],
   "source": [
    "import os\n",
    "from pymatgen.core.structure import Structure\n",
    "import pandas as pd\n",
    "from tqdm import tqdm\n",
    "import numpy as np\n",
    "import json"
   ]
  },
  {
   "cell_type": "code",
   "execution_count": 2,
   "metadata": {},
   "outputs": [
    {
     "name": "stderr",
     "output_type": "stream",
     "text": [
      "/home/he/anaconda3/envs/27al_ml/lib/python3.8/site-packages/pymatgen/io/cif.py:1165: UserWarning: Issues encountered while parsing CIF: Some fractional co-ordinates rounded to ideal values to avoid issues with finite precision.\n",
      "  warnings.warn(\"Issues encountered while parsing CIF: %s\" % \"\\n\".join(self.warnings))\n"
     ]
    }
   ],
   "source": [
    "# get a list of all structure file name\n",
    "cif_dir = os.getcwd() + \"/data/27Al_cif_files/\"\n",
    "cif_list = sorted(os.listdir(cif_dir), key=lambda x: int(x.split(\"_\")[0]))\n",
    "\n",
    "# get structure from the files\n",
    "struc_dict = {}\n",
    "for filename in cif_list:\n",
    "    struc_dict[filename.split(\".\")[0]] = {\n",
    "        \"name\":filename.split(\".\")[0],\n",
    "        \"structure\":Structure.from_file(\"./data/27Al_cif_files/\"+filename),\n",
    "        }\n",
    "\n",
    "# open the csv file that contains nmr infos\n",
    "with open(\"./data/Al Database_033021.csv\", \"r\") as file:\n",
    "    nmr_data = pd.read_csv(file)\n",
    "nmr_data = nmr_data[nmr_data[\"Structure Name\"].notna()]\n",
    "nmr_data = nmr_data.set_index(\"Structure Name\")"
   ]
  },
  {
   "cell_type": "code",
   "execution_count": 3,
   "metadata": {},
   "outputs": [
    {
     "name": "stderr",
     "output_type": "stream",
     "text": [
      "100%|██████████| 70/70 [00:00<00:00, 711.63it/s]\n"
     ]
    }
   ],
   "source": [
    "#Generate structure_tensors object \n",
    "for k in tqdm(struc_dict):\n",
    "    struc_name = k.split(\"_\")[1]\n",
    "    nmr_dict = nmr_data.loc[struc_name,[\"site_index\",\"diso (ppm)\",\"etaQ\",\"CQ (MHz)\"]]\n",
    "    #make sure index is int\n",
    "    if isinstance(nmr_dict['site_index'],pd.core.series.Series):\n",
    "        nmr_dict['site_index']=list(map(int,nmr_dict[\"site_index\"]))\n",
    "        nmr_dict = nmr_dict.to_dict(\"records\")\n",
    "    elif isinstance(nmr_dict['site_index'],np.float64):\n",
    "        nmr_dict['site_index']=int(nmr_dict[\"site_index\"])\n",
    "        nmr_dict = [nmr_dict.to_dict()]\n",
    "    else:\n",
    "        raise(\"site index shoud be a number or a series.\")\n",
    "    #Add site coordinations, species and strip the units out of \"diso (ppm)\" and \"CQ (MHz)\"\n",
    "    for nmr in nmr_dict:\n",
    "        nmr['site_coord'] = list(struc_dict[k]['structure'][nmr[\"site_index\"]].coords)\n",
    "        nmr[\"species\"] = struc_dict[k]['structure'][nmr[\"site_index\"]].specie.symbol\n",
    "        nmr['diso'] = nmr[\"diso (ppm)\"]\n",
    "        nmr['CQ']=abs(nmr[\"CQ (MHz)\"])\n",
    "        del nmr[\"diso (ppm)\"]\n",
    "        del nmr[\"CQ (MHz)\"]\n",
    "    \n",
    "    struc_dict[k]['tensors'] = nmr_dict\n",
    "structure_tensors = list(struc_dict.values())"
   ]
  },
  {
   "cell_type": "code",
   "execution_count": 4,
   "metadata": {},
   "outputs": [
    {
     "name": "stdout",
     "output_type": "stream",
     "text": [
      "Add oxidation state by guess.\n"
     ]
    },
    {
     "name": "stderr",
     "output_type": "stream",
     "text": [
      "100%|██████████| 70/70 [00:00<00:00, 579.74it/s]\n"
     ]
    },
    {
     "name": "stdout",
     "output_type": "stream",
     "text": [
      "Filter structures based coordination number.\n"
     ]
    },
    {
     "name": "stderr",
     "output_type": "stream",
     "text": [
      " 20%|██        | 14/70 [00:09<00:28,  1.97it/s]/home/he/anaconda3/envs/27al_ml/lib/python3.8/site-packages/pymatgen/analysis/local_env.py:3938: UserWarning: CrystalNN: cannot locate an appropriate radius, covalent or atomic radii will be used, this can lead to non-optimal results.\n",
      "  warnings.warn(\n",
      "100%|██████████| 70/70 [00:23<00:00,  2.94it/s]\n"
     ]
    },
    {
     "name": "stdout",
     "output_type": "stream",
     "text": [
      "num of structures with [4, 5, 6] coords only: 70\n",
      "Append coordination numbers to tensor list.\n"
     ]
    },
    {
     "name": "stderr",
     "output_type": "stream",
     "text": [
      "100%|██████████| 70/70 [00:23<00:00,  2.95it/s]\n"
     ]
    },
    {
     "data": {
      "text/plain": [
       "70"
      ]
     },
     "execution_count": 4,
     "metadata": {},
     "output_type": "execute_result"
    }
   ],
   "source": [
    "from src.structure_tensors_modifier import get_n_coord_tensors, append_coord_num, add_oxi_state_by_guess\n",
    "# Add oxidation state for each structures in structure_tensors obj. Might take a long time based on the structure.\n",
    "structure_tensors = add_oxi_state_by_guess(structure_tensors)\n",
    "# Filter structure based on coordination number and append coord num info to \"tensors\".\n",
    "structure_tensors_filtered = get_n_coord_tensors(structure_tensors, coord=[4, 5, 6])\n",
    "structure_tensors_filtered = append_coord_num(structure_tensors_filtered)\n",
    "len(structure_tensors_filtered)"
   ]
  },
  {
   "cell_type": "code",
   "execution_count": 41,
   "metadata": {},
   "outputs": [
    {
     "name": "stdout",
     "output_type": "stream",
     "text": [
      "Append ChemEnv info to tensor list.\n",
      "\n",
      "If you use the ChemEnv tool for your research, please consider citing the following reference(s) :\n",
      "==================================================================================================\n",
      "David Waroquiers, Xavier Gonze, Gian-Marco Rignanese, Cathrin Welker-Nieuwoudt, Frank Rosowski,\n",
      "Michael Goebel, Stephan Schenk, Peter Degelmann, Rute Andre, Robert Glaum, and Geoffroy Hautier,\n",
      "\"Statistical analysis of coordination environments in oxides\",\n",
      "Chem. Mater., 2017, 29 (19), pp 8346-8360,\n",
      "DOI: 10.1021/acs.chemmater.7b02766\n",
      "\n"
     ]
    },
    {
     "name": "stderr",
     "output_type": "stream",
     "text": [
      "100%|██████████| 70/70 [00:22<00:00,  3.07it/s]\n"
     ]
    }
   ],
   "source": [
    "# Add chemical environment info to \"Tensor\" list. Might take a long time based on the structure. \n",
    "from src.structure_tensors_modifier import append_ce\n",
    "structure_tensors_filtered = append_ce(structure_tensors_filtered)"
   ]
  },
  {
   "cell_type": "code",
   "execution_count": 42,
   "metadata": {},
   "outputs": [
    {
     "name": "stdout",
     "output_type": "stream",
     "text": [
      "Filter structure_tensors based on ChemEnv info.\n"
     ]
    },
    {
     "name": "stderr",
     "output_type": "stream",
     "text": [
      "100%|██████████| 70/70 [00:00<00:00, 251155.93it/s]"
     ]
    },
    {
     "name": "stdout",
     "output_type": "stream",
     "text": [
      "num of structures with chemenv ['T:4', 'T:5', 'O:6'] only: 70\n"
     ]
    },
    {
     "name": "stderr",
     "output_type": "stream",
     "text": [
      "\n"
     ]
    }
   ],
   "source": [
    "# Filter structures based on local chemenv. Here we select T:4 T:5 O:6 sites\n",
    "from src.structure_tensors_modifier import filter_ce\n",
    "chemenv_filter = filter_ce(structure_tensors_filtered)"
   ]
  },
  {
   "cell_type": "code",
   "execution_count": 43,
   "metadata": {},
   "outputs": [],
   "source": [
    "from src.local_features import NMR_local\n",
    "def zip_nmr_structure_exp(struc_tensor):\n",
    "    \"\"\"\n",
    "    Combine the NMR values and structural parameters into one table.\n",
    "    \"\"\"\n",
    "    table = pd.DataFrame()\n",
    "    for sample in tqdm(struc_tensor):\n",
    "        \n",
    "        NMR_struc = NMR_local(sample[\"structure\"])\n",
    "        first_bond_length = pd.DataFrame.from_dict(\n",
    "            NMR_struc.get_first_bond_length(), orient=\"index\"\n",
    "        )\n",
    "        first_bond_angle = pd.DataFrame.from_dict(\n",
    "            NMR_struc.get_first_bond_angle(), orient=\"index\"\n",
    "        )\n",
    "        di = pd.DataFrame.from_dict(\n",
    "            NMR_struc.get_DI(), orient=\"index\", columns=[\"DI\"]\n",
    "        )\n",
    "        alchemical_features = pd.DataFrame.from_dict(\n",
    "            NMR_struc.get_species_features(),orient=\"index\"\n",
    "        )\n",
    "\n",
    "        feature_dict = {}\n",
    "        feature_list = []\n",
    "        for tensor in sample['tensors']:\n",
    "            site_index = tensor['site_index']\n",
    "            feature_dict['CQ'] = tensor['CQ']\n",
    "            feature_dict[\"fbl_average\"] = first_bond_length.loc[site_index,'fbl_average']\n",
    "            feature_dict[\"fbl_std\"] = first_bond_length.loc[site_index,\"fbl_std\"]\n",
    "            feature_dict[\"fbl_max\"] = first_bond_length.loc[site_index,\"fbl_max\"]\n",
    "            feature_dict[\"fbl_min\"] = first_bond_length.loc[site_index,\"fbl_min\"]\n",
    "            feature_dict[\"fba_average\"] = first_bond_angle.loc[site_index,\"fba_average\"]\n",
    "            feature_dict[\"fba_std\"] = first_bond_angle.loc[site_index,\"fba_std\"]\n",
    "            feature_dict[\"fba_max\"] = first_bond_angle.loc[site_index,\"fba_max\"]\n",
    "            feature_dict[\"fba_min\"] = first_bond_angle.loc[site_index,\"fba_min\"]\n",
    "            feature_dict[\"DI\"] = di.loc[site_index,\"DI\"]\n",
    "            alchemical_features_dict = alchemical_features.to_dict('index')[site_index]\n",
    "            feature_dict = {**feature_dict, **alchemical_features_dict}\n",
    "            feature_list.append(feature_dict)\n",
    "            feature_dict = {}\n",
    "        sample_table = pd.DataFrame(feature_list)\n",
    "\n",
    "        if table.empty:\n",
    "            table = sample_table\n",
    "        else:\n",
    "            table = table.append(sample_table)  \n",
    "    return table"
   ]
  },
  {
   "cell_type": "code",
   "execution_count": 44,
   "metadata": {},
   "outputs": [
    {
     "name": "stderr",
     "output_type": "stream",
     "text": [
      "  0%|          | 0/70 [00:00<?, ?it/s]/mnt/c/Users/wusha/Documents/GitHub/27Al_CQ_prediction/src/local_features.py:626: RuntimeWarning: divide by zero encountered in reciprocal\n",
      "  dis_matrix_rev = np.reciprocal(distance_matrix(coords_all,coords_all))\n",
      "100%|██████████| 70/70 [00:21<00:00,  3.28it/s]\n"
     ]
    },
    {
     "data": {
      "text/html": [
       "<div>\n",
       "<style scoped>\n",
       "    .dataframe tbody tr th:only-of-type {\n",
       "        vertical-align: middle;\n",
       "    }\n",
       "\n",
       "    .dataframe tbody tr th {\n",
       "        vertical-align: top;\n",
       "    }\n",
       "\n",
       "    .dataframe thead th {\n",
       "        text-align: right;\n",
       "    }\n",
       "</style>\n",
       "<table border=\"1\" class=\"dataframe\">\n",
       "  <thead>\n",
       "    <tr style=\"text-align: right;\">\n",
       "      <th></th>\n",
       "      <th>CQ</th>\n",
       "      <th>fbl_average</th>\n",
       "      <th>fbl_std</th>\n",
       "      <th>fbl_max</th>\n",
       "      <th>fbl_min</th>\n",
       "      <th>fba_average</th>\n",
       "      <th>fba_std</th>\n",
       "      <th>fba_max</th>\n",
       "      <th>fba_min</th>\n",
       "      <th>DI</th>\n",
       "      <th>...</th>\n",
       "      <th>110</th>\n",
       "      <th>111</th>\n",
       "      <th>112</th>\n",
       "      <th>113</th>\n",
       "      <th>114</th>\n",
       "      <th>115</th>\n",
       "      <th>116</th>\n",
       "      <th>117</th>\n",
       "      <th>118</th>\n",
       "      <th>119</th>\n",
       "    </tr>\n",
       "  </thead>\n",
       "  <tbody>\n",
       "    <tr>\n",
       "      <th>0</th>\n",
       "      <td>4.088</td>\n",
       "      <td>1.744693</td>\n",
       "      <td>0.004266</td>\n",
       "      <td>1.748387</td>\n",
       "      <td>1.740998</td>\n",
       "      <td>109.481443</td>\n",
       "      <td>2.007292</td>\n",
       "      <td>111.724217</td>\n",
       "      <td>107.123865</td>\n",
       "      <td>0.014297</td>\n",
       "      <td>...</td>\n",
       "      <td>7.805964e+06</td>\n",
       "      <td>6005.258573</td>\n",
       "      <td>5364.574245</td>\n",
       "      <td>5268.744595</td>\n",
       "      <td>5205.782703</td>\n",
       "      <td>404.452478</td>\n",
       "      <td>122.279134</td>\n",
       "      <td>120.094810</td>\n",
       "      <td>118.666667</td>\n",
       "      <td>12.142030</td>\n",
       "    </tr>\n",
       "    <tr>\n",
       "      <th>1</th>\n",
       "      <td>4.090</td>\n",
       "      <td>1.744693</td>\n",
       "      <td>0.004266</td>\n",
       "      <td>1.748387</td>\n",
       "      <td>1.740998</td>\n",
       "      <td>109.481443</td>\n",
       "      <td>2.007292</td>\n",
       "      <td>111.724217</td>\n",
       "      <td>107.123865</td>\n",
       "      <td>0.014297</td>\n",
       "      <td>...</td>\n",
       "      <td>7.805964e+06</td>\n",
       "      <td>6005.258573</td>\n",
       "      <td>5364.574245</td>\n",
       "      <td>5268.744595</td>\n",
       "      <td>5205.782703</td>\n",
       "      <td>404.452478</td>\n",
       "      <td>122.279134</td>\n",
       "      <td>120.094810</td>\n",
       "      <td>118.666667</td>\n",
       "      <td>12.142030</td>\n",
       "    </tr>\n",
       "    <tr>\n",
       "      <th>0</th>\n",
       "      <td>8.800</td>\n",
       "      <td>1.859881</td>\n",
       "      <td>0.074738</td>\n",
       "      <td>1.931446</td>\n",
       "      <td>1.752675</td>\n",
       "      <td>106.875474</td>\n",
       "      <td>27.178705</td>\n",
       "      <td>169.448717</td>\n",
       "      <td>78.624325</td>\n",
       "      <td>0.066604</td>\n",
       "      <td>...</td>\n",
       "      <td>7.807082e+06</td>\n",
       "      <td>7824.380424</td>\n",
       "      <td>6306.588063</td>\n",
       "      <td>5545.070981</td>\n",
       "      <td>5192.929416</td>\n",
       "      <td>467.544628</td>\n",
       "      <td>143.754833</td>\n",
       "      <td>127.806263</td>\n",
       "      <td>118.534450</td>\n",
       "      <td>92.086654</td>\n",
       "    </tr>\n",
       "    <tr>\n",
       "      <th>0</th>\n",
       "      <td>7.200</td>\n",
       "      <td>1.869081</td>\n",
       "      <td>0.074372</td>\n",
       "      <td>1.951832</td>\n",
       "      <td>1.799928</td>\n",
       "      <td>107.155747</td>\n",
       "      <td>27.548127</td>\n",
       "      <td>170.881090</td>\n",
       "      <td>85.410791</td>\n",
       "      <td>0.056383</td>\n",
       "      <td>...</td>\n",
       "      <td>7.806964e+06</td>\n",
       "      <td>7809.693344</td>\n",
       "      <td>6068.584703</td>\n",
       "      <td>5769.330051</td>\n",
       "      <td>5265.226579</td>\n",
       "      <td>465.375383</td>\n",
       "      <td>138.330373</td>\n",
       "      <td>131.515642</td>\n",
       "      <td>120.460560</td>\n",
       "      <td>93.905463</td>\n",
       "    </tr>\n",
       "    <tr>\n",
       "      <th>0</th>\n",
       "      <td>0.425</td>\n",
       "      <td>2.343800</td>\n",
       "      <td>0.000400</td>\n",
       "      <td>2.344228</td>\n",
       "      <td>2.343335</td>\n",
       "      <td>106.595106</td>\n",
       "      <td>34.285646</td>\n",
       "      <td>172.536362</td>\n",
       "      <td>84.151225</td>\n",
       "      <td>0.033680</td>\n",
       "      <td>...</td>\n",
       "      <td>7.858320e+06</td>\n",
       "      <td>75379.952401</td>\n",
       "      <td>45381.072128</td>\n",
       "      <td>45380.021869</td>\n",
       "      <td>44471.207459</td>\n",
       "      <td>424.116758</td>\n",
       "      <td>133.475235</td>\n",
       "      <td>133.472146</td>\n",
       "      <td>130.799133</td>\n",
       "      <td>102.026050</td>\n",
       "    </tr>\n",
       "    <tr>\n",
       "      <th>...</th>\n",
       "      <td>...</td>\n",
       "      <td>...</td>\n",
       "      <td>...</td>\n",
       "      <td>...</td>\n",
       "      <td>...</td>\n",
       "      <td>...</td>\n",
       "      <td>...</td>\n",
       "      <td>...</td>\n",
       "      <td>...</td>\n",
       "      <td>...</td>\n",
       "      <td>...</td>\n",
       "      <td>...</td>\n",
       "      <td>...</td>\n",
       "      <td>...</td>\n",
       "      <td>...</td>\n",
       "      <td>...</td>\n",
       "      <td>...</td>\n",
       "      <td>...</td>\n",
       "      <td>...</td>\n",
       "      <td>...</td>\n",
       "      <td>...</td>\n",
       "    </tr>\n",
       "    <tr>\n",
       "      <th>0</th>\n",
       "      <td>4.200</td>\n",
       "      <td>1.771588</td>\n",
       "      <td>0.025888</td>\n",
       "      <td>1.792282</td>\n",
       "      <td>1.733786</td>\n",
       "      <td>109.405460</td>\n",
       "      <td>3.233832</td>\n",
       "      <td>114.997520</td>\n",
       "      <td>105.925041</td>\n",
       "      <td>0.020690</td>\n",
       "      <td>...</td>\n",
       "      <td>7.805647e+06</td>\n",
       "      <td>6233.718445</td>\n",
       "      <td>5381.005384</td>\n",
       "      <td>5302.392206</td>\n",
       "      <td>5244.465292</td>\n",
       "      <td>401.143167</td>\n",
       "      <td>122.989776</td>\n",
       "      <td>120.905556</td>\n",
       "      <td>119.973392</td>\n",
       "      <td>12.623227</td>\n",
       "    </tr>\n",
       "    <tr>\n",
       "      <th>1</th>\n",
       "      <td>6.300</td>\n",
       "      <td>1.920514</td>\n",
       "      <td>0.031140</td>\n",
       "      <td>1.960073</td>\n",
       "      <td>1.889989</td>\n",
       "      <td>105.633274</td>\n",
       "      <td>32.301670</td>\n",
       "      <td>168.348453</td>\n",
       "      <td>76.860026</td>\n",
       "      <td>0.066844</td>\n",
       "      <td>...</td>\n",
       "      <td>7.808523e+06</td>\n",
       "      <td>9036.390897</td>\n",
       "      <td>6268.070412</td>\n",
       "      <td>6240.999958</td>\n",
       "      <td>5708.459185</td>\n",
       "      <td>529.913853</td>\n",
       "      <td>142.873695</td>\n",
       "      <td>142.305565</td>\n",
       "      <td>130.117612</td>\n",
       "      <td>95.822983</td>\n",
       "    </tr>\n",
       "    <tr>\n",
       "      <th>2</th>\n",
       "      <td>NaN</td>\n",
       "      <td>1.771588</td>\n",
       "      <td>0.025888</td>\n",
       "      <td>1.792282</td>\n",
       "      <td>1.733786</td>\n",
       "      <td>109.405460</td>\n",
       "      <td>3.233832</td>\n",
       "      <td>114.997520</td>\n",
       "      <td>105.925041</td>\n",
       "      <td>0.020690</td>\n",
       "      <td>...</td>\n",
       "      <td>7.805647e+06</td>\n",
       "      <td>6233.718445</td>\n",
       "      <td>5381.005384</td>\n",
       "      <td>5302.392206</td>\n",
       "      <td>5244.465292</td>\n",
       "      <td>401.143167</td>\n",
       "      <td>122.989776</td>\n",
       "      <td>120.905556</td>\n",
       "      <td>119.973392</td>\n",
       "      <td>12.623227</td>\n",
       "    </tr>\n",
       "    <tr>\n",
       "      <th>3</th>\n",
       "      <td>NaN</td>\n",
       "      <td>1.927027</td>\n",
       "      <td>0.068980</td>\n",
       "      <td>2.014589</td>\n",
       "      <td>1.866315</td>\n",
       "      <td>105.547082</td>\n",
       "      <td>32.109033</td>\n",
       "      <td>167.281997</td>\n",
       "      <td>77.423058</td>\n",
       "      <td>0.069558</td>\n",
       "      <td>...</td>\n",
       "      <td>7.808466e+06</td>\n",
       "      <td>9071.526248</td>\n",
       "      <td>6300.072284</td>\n",
       "      <td>6267.494875</td>\n",
       "      <td>5677.318143</td>\n",
       "      <td>528.922017</td>\n",
       "      <td>143.603838</td>\n",
       "      <td>143.041006</td>\n",
       "      <td>129.407765</td>\n",
       "      <td>95.359104</td>\n",
       "    </tr>\n",
       "    <tr>\n",
       "      <th>4</th>\n",
       "      <td>NaN</td>\n",
       "      <td>1.920514</td>\n",
       "      <td>0.031140</td>\n",
       "      <td>1.960073</td>\n",
       "      <td>1.889989</td>\n",
       "      <td>105.633274</td>\n",
       "      <td>32.301670</td>\n",
       "      <td>168.348453</td>\n",
       "      <td>76.860026</td>\n",
       "      <td>0.066844</td>\n",
       "      <td>...</td>\n",
       "      <td>7.808523e+06</td>\n",
       "      <td>9036.390897</td>\n",
       "      <td>6268.070412</td>\n",
       "      <td>6240.999958</td>\n",
       "      <td>5708.459185</td>\n",
       "      <td>529.913853</td>\n",
       "      <td>142.873695</td>\n",
       "      <td>142.305565</td>\n",
       "      <td>130.117612</td>\n",
       "      <td>95.822983</td>\n",
       "    </tr>\n",
       "  </tbody>\n",
       "</table>\n",
       "<p>154 rows × 130 columns</p>\n",
       "</div>"
      ],
      "text/plain": [
       "       CQ  fbl_average   fbl_std   fbl_max   fbl_min  fba_average    fba_std  \\\n",
       "0   4.088     1.744693  0.004266  1.748387  1.740998   109.481443   2.007292   \n",
       "1   4.090     1.744693  0.004266  1.748387  1.740998   109.481443   2.007292   \n",
       "0   8.800     1.859881  0.074738  1.931446  1.752675   106.875474  27.178705   \n",
       "0   7.200     1.869081  0.074372  1.951832  1.799928   107.155747  27.548127   \n",
       "0   0.425     2.343800  0.000400  2.344228  2.343335   106.595106  34.285646   \n",
       "..    ...          ...       ...       ...       ...          ...        ...   \n",
       "0   4.200     1.771588  0.025888  1.792282  1.733786   109.405460   3.233832   \n",
       "1   6.300     1.920514  0.031140  1.960073  1.889989   105.633274  32.301670   \n",
       "2     NaN     1.771588  0.025888  1.792282  1.733786   109.405460   3.233832   \n",
       "3     NaN     1.927027  0.068980  2.014589  1.866315   105.547082  32.109033   \n",
       "4     NaN     1.920514  0.031140  1.960073  1.889989   105.633274  32.301670   \n",
       "\n",
       "       fba_max     fba_min        DI  ...           110           111  \\\n",
       "0   111.724217  107.123865  0.014297  ...  7.805964e+06   6005.258573   \n",
       "1   111.724217  107.123865  0.014297  ...  7.805964e+06   6005.258573   \n",
       "0   169.448717   78.624325  0.066604  ...  7.807082e+06   7824.380424   \n",
       "0   170.881090   85.410791  0.056383  ...  7.806964e+06   7809.693344   \n",
       "0   172.536362   84.151225  0.033680  ...  7.858320e+06  75379.952401   \n",
       "..         ...         ...       ...  ...           ...           ...   \n",
       "0   114.997520  105.925041  0.020690  ...  7.805647e+06   6233.718445   \n",
       "1   168.348453   76.860026  0.066844  ...  7.808523e+06   9036.390897   \n",
       "2   114.997520  105.925041  0.020690  ...  7.805647e+06   6233.718445   \n",
       "3   167.281997   77.423058  0.069558  ...  7.808466e+06   9071.526248   \n",
       "4   168.348453   76.860026  0.066844  ...  7.808523e+06   9036.390897   \n",
       "\n",
       "             112           113           114         115         116  \\\n",
       "0    5364.574245   5268.744595   5205.782703  404.452478  122.279134   \n",
       "1    5364.574245   5268.744595   5205.782703  404.452478  122.279134   \n",
       "0    6306.588063   5545.070981   5192.929416  467.544628  143.754833   \n",
       "0    6068.584703   5769.330051   5265.226579  465.375383  138.330373   \n",
       "0   45381.072128  45380.021869  44471.207459  424.116758  133.475235   \n",
       "..           ...           ...           ...         ...         ...   \n",
       "0    5381.005384   5302.392206   5244.465292  401.143167  122.989776   \n",
       "1    6268.070412   6240.999958   5708.459185  529.913853  142.873695   \n",
       "2    5381.005384   5302.392206   5244.465292  401.143167  122.989776   \n",
       "3    6300.072284   6267.494875   5677.318143  528.922017  143.603838   \n",
       "4    6268.070412   6240.999958   5708.459185  529.913853  142.873695   \n",
       "\n",
       "           117         118         119  \n",
       "0   120.094810  118.666667   12.142030  \n",
       "1   120.094810  118.666667   12.142030  \n",
       "0   127.806263  118.534450   92.086654  \n",
       "0   131.515642  120.460560   93.905463  \n",
       "0   133.472146  130.799133  102.026050  \n",
       "..         ...         ...         ...  \n",
       "0   120.905556  119.973392   12.623227  \n",
       "1   142.305565  130.117612   95.822983  \n",
       "2   120.905556  119.973392   12.623227  \n",
       "3   143.041006  129.407765   95.359104  \n",
       "4   142.305565  130.117612   95.822983  \n",
       "\n",
       "[154 rows x 130 columns]"
      ]
     },
     "execution_count": 44,
     "metadata": {},
     "output_type": "execute_result"
    }
   ],
   "source": [
    "nmr_struc_data = zip_nmr_structure_exp(chemenv_filter[\"filtered\"])\n",
    "nmr_struc_data"
   ]
  },
  {
   "cell_type": "code",
   "execution_count": 45,
   "metadata": {},
   "outputs": [],
   "source": [
    "nmr_struc_data=nmr_struc_data[nmr_struc_data['CQ'].notna()]"
   ]
  },
  {
   "cell_type": "code",
   "execution_count": 46,
   "metadata": {},
   "outputs": [],
   "source": [
    "# split y and x\n",
    "y = nmr_struc_data[\"CQ\"]\n",
    "x = nmr_struc_data.loc[:, \"fbl_average\":]"
   ]
  },
  {
   "cell_type": "code",
   "execution_count": 47,
   "metadata": {},
   "outputs": [],
   "source": [
    "import pickle\n",
    "# load the best fitted model from disk\n",
    "dir_ = \"./models/best/\"\n",
    "filename = 'Best_model_10132021.sav'\n",
    "grid = pickle.load(open(dir_+filename, 'rb'))"
   ]
  },
  {
   "cell_type": "code",
   "execution_count": 48,
   "metadata": {},
   "outputs": [
    {
     "name": "stdout",
     "output_type": "stream",
     "text": [
      "test scores: R2 = 0.8039500169518236, RMSE = 1.729894799496158, MAE = 1.243120765512036\n"
     ]
    },
    {
     "data": {
      "image/png": "[encoded data removed]",
      "text/plain": [
       "<Figure size 720x576 with 1 Axes>"
      ]
     },
     "metadata": {},
     "output_type": "display_data"
    },
    {
     "name": "stdout",
     "output_type": "stream",
     "text": [
      "CPU times: user 266 ms, sys: 125 ms, total: 391 ms\n",
      "Wall time: 174 ms\n"
     ]
    }
   ],
   "source": [
    "%%time\n",
    "# Predict using kernel ridge\n",
    "from sklearn.metrics import r2_score, mean_squared_error, mean_absolute_error\n",
    "import seaborn as sns\n",
    "import math\n",
    "\n",
    "sns.set()\n",
    "import matplotlib.pyplot as plt\n",
    "from datetime import datetime\n",
    "\n",
    "\n",
    "y_rf = grid.predict(x)\n",
    "\n",
    "test_r2 = r2_score(y, y_rf)\n",
    "test_RMSE = math.sqrt(mean_squared_error(y, y_rf))\n",
    "test_MAE = mean_absolute_error(y, y_rf)\n",
    "\n",
    "print(\"test scores: R2 = {}, RMSE = {}, MAE = {}\".format(test_r2, test_RMSE, test_MAE))\n",
    "\n",
    "\n",
    "# write down the date for png save\n",
    "predict_result = {}\n",
    "predict_result[\"Experiment CQ\"] = y\n",
    "predict_result[\"Machine learning predicted CQ\"] = y_rf\n",
    "predict_result = pd.DataFrame(predict_result)\n",
    "\n",
    "#plotting\n",
    "sns.set_style(\"ticks\")\n",
    "fig, ax = plt.subplots(figsize = (10,8))\n",
    "plot = sns.regplot(\n",
    "    x=\"Experiment CQ\",\n",
    "    y='Machine learning predicted CQ',\n",
    "    data=predict_result,\n",
    "    ci=None,\n",
    "    scatter_kws={\"color\": \"black\"}, \n",
    "    line_kws={\"color\": \"red\"}\n",
    ")\n",
    "\n",
    "ax.set_xlabel(\"Experiment CQ (MHz)\",fontsize=20)\n",
    "ax.set_ylabel(\"Machine learning predicted CQ (MHz)\",fontsize=20)\n",
    "sns.despine()\n",
    "\n",
    "plt.show()"
   ]
  },
  {
   "cell_type": "code",
   "execution_count": null,
   "metadata": {},
   "outputs": [],
   "source": []
  }
 ],
 "metadata": {
  "interpreter": {
   "hash": "a100d861a3d6438a0153a54f755c32ecbafe1a787960322fb78fe4fcf72b617a"
  },
  "kernelspec": {
   "display_name": "Python 3.8.11 64-bit ('27al_ml': conda)",
   "name": "python3"
  },
  "language_info": {
   "codemirror_mode": {
    "name": "ipython",
    "version": 3
   },
   "file_extension": ".py",
   "mimetype": "text/x-python",
   "name": "python",
   "nbconvert_exporter": "python",
   "pygments_lexer": "ipython3",
   "version": "3.8.11"
  },
  "orig_nbformat": 4
 },
 "nbformat": 4,
 "nbformat_minor": 2
}
