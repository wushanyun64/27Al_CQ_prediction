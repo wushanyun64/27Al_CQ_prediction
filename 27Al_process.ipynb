{
 "cells": [
  {
   "cell_type": "code",
   "execution_count": 1,
   "source": [
    "import json\n",
    "import pandas as pd\n",
    "import numpy as np\n",
    "from tqdm import tqdm\n",
    "from pymatgen.io import ase\n",
    "from pymatgen.analysis.local_env import CrystalNN\n",
    "import copy\n",
    "from pymatgen.io import ase\n",
    "import matplotlib.pyplot as plt\n",
    "from src.Utility import struc_to_cif\n",
    "import seaborn as sns\n",
    "from src.local_features import NMR_local"
   ],
   "outputs": [],
   "metadata": {}
  },
  {
   "cell_type": "markdown",
   "source": [
    "# Get structures and NMR raw tensors."
   ],
   "metadata": {
    "slideshow": {
     "slide_type": "fragment"
    }
   }
  },
  {
   "cell_type": "markdown",
   "source": [
    "### 1. Import data and reprocesses"
   ],
   "metadata": {}
  },
  {
   "cell_type": "code",
   "execution_count": 2,
   "source": [
    "with open(\"data/Alnmr.json\", \"r\") as file:\n",
    "    data = json.load(file)\n",
    "    print(\"length of file is {}\".format(len(data)))"
   ],
   "outputs": [
    {
     "output_type": "stream",
     "name": "stdout",
     "text": [
      "length of file is 3479\n"
     ]
    }
   ],
   "metadata": {}
  },
  {
   "cell_type": "code",
   "execution_count": 3,
   "source": [
    "# test if there's any structure dosen't contain the target atom ('Al') and does not contain a structure section\n",
    "problem_compound = []\n",
    "for compound in data:\n",
    "    if \"structure\" not in compound.keys():\n",
    "        problem_compound.append(compound)\n",
    "        continue\n",
    "    sites = []\n",
    "    for site in compound[\"structure\"][\"sites\"]:\n",
    "        sites.append(site[\"label\"])\n",
    "    if \"Al\" not in sites:\n",
    "        problem_compound.append(compound)\n",
    "print(\"num of problem compound:\", len(problem_compound))\n",
    "\n",
    "for compound in problem_compound:\n",
    "    data.remove(compound)\n",
    "print(\"len of none problematic data:\", len(data))"
   ],
   "outputs": [
    {
     "output_type": "stream",
     "name": "stdout",
     "text": [
      "num of problem compound: 8\n",
      "len of none problematic data: 3471\n"
     ]
    }
   ],
   "metadata": {}
  },
  {
   "cell_type": "code",
   "execution_count": 4,
   "source": [
    "# get rid of the redundances\n",
    "for i in range(len(data)):\n",
    "    string = json.dumps(data[i], sort_keys=True)\n",
    "    data[i] = string\n",
    "data = list(set(data))\n",
    "\n",
    "for i in range(len(data)):\n",
    "    dictionary = json.loads(data[i])\n",
    "    data[i] = dictionary\n",
    "print(\"length of file without redundancy is {}\".format(len(data)))"
   ],
   "outputs": [
    {
     "output_type": "stream",
     "name": "stdout",
     "text": [
      "length of file without redundancy is 3022\n"
     ]
    }
   ],
   "metadata": {
    "scrolled": true
   }
  },
  {
   "cell_type": "code",
   "execution_count": 5,
   "source": [
    "# get the structure_tensors obj\n",
    "from src.structure_tensors_gen import get_structure_tensors\n",
    "\n",
    "structure_tensors = get_structure_tensors(data)\n",
    "print(\"length of structure_tensors:\", len(structure_tensors))"
   ],
   "outputs": [
    {
     "output_type": "stream",
     "name": "stderr",
     "text": [
      "  1%|          | 22/3022 [00:00<00:27, 110.16it/s]/home/he/anaconda3/envs/27al_ml/lib/python3.8/site-packages/pymatgen/analysis/nmr.py:201: RuntimeWarning: invalid value encountered in double_scalars\n",
      "  return np.abs((V[1] - V[0]) / V[2])\n",
      "100%|██████████| 3022/3022 [00:23<00:00, 130.90it/s]"
     ]
    },
    {
     "output_type": "stream",
     "name": "stdout",
     "text": [
      "length of structure_tensors: 3022\n"
     ]
    },
    {
     "output_type": "stream",
     "name": "stderr",
     "text": [
      "\n"
     ]
    }
   ],
   "metadata": {}
  },
  {
   "cell_type": "code",
   "execution_count": 6,
   "source": [
    "# Here's what a structure_tensors obj looks like:\n",
    "structure_tensors[0][\"structure\"]"
   ],
   "outputs": [
    {
     "output_type": "execute_result",
     "data": {
      "text/plain": [
       "Structure Summary\n",
       "Lattice\n",
       "    abc : 12.080772894992522 12.080772894992522 12.080772894992522\n",
       " angles : 37.407669223114645 153.43550294197073 154.14516204588085\n",
       " volume : 343.34521466235503\n",
       "      A : -11.442773 2.775536 2.702669\n",
       "      B : 11.442773 -2.775536 2.702669\n",
       "      C : 11.442773 2.775536 -2.702669\n",
       "PeriodicSite: Sr (19.3697, 0.1101, 0.0981) [0.0380, 0.8645, 0.8662]\n",
       "PeriodicSite: Sr (-7.9269, 2.6654, 2.8008) [0.9983, 0.1718, 0.1338]\n",
       "PeriodicSite: Sr (14.9586, 0.1101, 0.0981) [0.0380, 0.6718, 0.6735]\n",
       "PeriodicSite: Sr (-3.5158, 2.6654, 2.8008) [0.9983, 0.3645, 0.3265]\n",
       "PeriodicSite: Y (11.4428, 0.0000, 0.0980) [0.0181, 0.5181, 0.5000]\n",
       "PeriodicSite: Y (0.0000, 0.0000, 0.0980) [0.0181, 0.0181, 0.0000]\n",
       "PeriodicSite: Al (5.7214, 0.4114, 2.6463) [0.5637, 0.7396, 0.3241]\n",
       "PeriodicSite: Al (5.7214, 2.3642, -0.0563) [0.4155, 0.2396, 0.6759]\n",
       "PeriodicSite: Cu (9.7858, 2.7707, 0.1056) [0.5187, 0.4471, 0.9267]\n",
       "PeriodicSite: Cu (1.6570, 0.0048, 2.8083) [0.5204, 0.5919, 0.0733]\n",
       "PeriodicSite: Cu (1.6570, 2.7707, 0.1056) [0.5187, 0.0919, 0.5715]\n",
       "PeriodicSite: Cu (9.7858, 0.0048, 2.8083) [0.5204, 0.9471, 0.4285]\n",
       "PeriodicSite: O (17.1642, -0.8139, 0.8788) [0.0160, 0.9126, 0.6034]\n",
       "PeriodicSite: O (5.7214, 0.8139, 0.8788) [0.3092, 0.4126, 0.3966]\n",
       "PeriodicSite: O (-1.4340, 1.3518, 1.4235) [0.5069, 0.2007, 0.1809]\n",
       "PeriodicSite: O (12.8767, 1.4238, -1.2791) [0.0198, 0.3260, 0.8191]\n",
       "PeriodicSite: O (12.8767, 1.3518, 1.4235) [0.5069, 0.8260, 0.8062]\n",
       "PeriodicSite: O (10.0088, -1.3518, 1.4235) [0.0198, 0.7007, 0.1938]\n",
       "PeriodicSite: O (9.9460, 1.4180, 1.4859) [0.5303, 0.7095, 0.6900]\n",
       "PeriodicSite: O (12.9395, -1.4180, 1.4859) [0.0195, 0.8403, 0.3100]\n",
       "PeriodicSite: O (1.4968, 1.4180, 1.4859) [0.5303, 0.3403, 0.3208]\n",
       "PeriodicSite: O (9.9460, 1.3576, -1.2167) [0.0195, 0.2095, 0.6792]\n",
       "PeriodicSite: O (7.3050, -0.2995, 2.9670) [0.4950, 0.8681, 0.2653]\n",
       "PeriodicSite: O (4.1377, 3.0750, 0.2644) [0.6029, 0.2297, 0.7347]\n",
       "PeriodicSite: O (4.1377, -0.2995, 2.9670) [0.4950, 0.7297, 0.1269]\n",
       "PeriodicSite: O (7.3050, 3.0750, 0.2644) [0.6029, 0.3681, 0.8731]"
      ]
     },
     "metadata": {},
     "execution_count": 6
    }
   ],
   "metadata": {}
  },
  {
   "cell_type": "markdown",
   "source": [
    "# Machine learning of CQ on big 27Al database"
   ],
   "metadata": {}
  },
  {
   "cell_type": "code",
   "execution_count": 7,
   "source": [
    "from src.structure_tensors_modifier import get_n_coord_tensors, append_coord_num, add_oxi_state_by_guess\n",
    "# Add oxidation state for each structures in structure_tensors obj.\n",
    "structure_tensors = add_oxi_state_by_guess(structure_tensors)\n",
    "# Filter structure based on coordination number and append coord num info to \"tensors\".\n",
    "structure_tensors_filtered = get_n_coord_tensors(structure_tensors, coord=[4, 5, 6])\n",
    "structure_tensors_filtered = append_coord_num(structure_tensors_filtered)\n",
    "len(structure_tensors_filtered)"
   ],
   "outputs": [
    {
     "output_type": "stream",
     "name": "stdout",
     "text": [
      "Add oxidation state by guess.\n"
     ]
    },
    {
     "output_type": "stream",
     "name": "stderr",
     "text": [
      "100%|██████████| 3022/3022 [2:27:13<00:00,  2.92s/it]\n"
     ]
    },
    {
     "output_type": "stream",
     "name": "stdout",
     "text": [
      "Filter structures based coordination number.\n"
     ]
    },
    {
     "output_type": "stream",
     "name": "stderr",
     "text": [
      "  0%|          | 14/3022 [00:00<03:10, 15.78it/s]/home/he/anaconda3/envs/27al_ml/lib/python3.8/site-packages/pymatgen/analysis/local_env.py:3938: UserWarning: CrystalNN: cannot locate an appropriate radius, covalent or atomic radii will be used, this can lead to non-optimal results.\n",
      "  warnings.warn(\n",
      "100%|██████████| 3022/3022 [05:36<00:00,  8.99it/s]\n"
     ]
    },
    {
     "output_type": "stream",
     "name": "stdout",
     "text": [
      "num of structures with [4, 5, 6] coords only: 1862\n",
      "Append coordination numbers to tensor list.\n"
     ]
    },
    {
     "output_type": "stream",
     "name": "stderr",
     "text": [
      "100%|██████████| 1862/1862 [03:42<00:00,  8.36it/s]\n"
     ]
    },
    {
     "output_type": "execute_result",
     "data": {
      "text/plain": [
       "1862"
      ]
     },
     "metadata": {},
     "execution_count": 7
    }
   ],
   "metadata": {}
  },
  {
   "cell_type": "code",
   "execution_count": 9,
   "source": [
    "# Add chemical environment info to \"Tensor\" list\n",
    "from src.structure_tensors_modifier import append_ce\n",
    "\n",
    "structure_tensors_filtered = append_ce(structure_tensors_filtered)"
   ],
   "outputs": [
    {
     "output_type": "stream",
     "name": "stdout",
     "text": [
      "Append ChemEnv info to tensor list.\n",
      "\n",
      "If you use the ChemEnv tool for your research, please consider citing the following reference(s) :\n",
      "==================================================================================================\n",
      "David Waroquiers, Xavier Gonze, Gian-Marco Rignanese, Cathrin Welker-Nieuwoudt, Frank Rosowski,\n",
      "Michael Goebel, Stephan Schenk, Peter Degelmann, Rute Andre, Robert Glaum, and Geoffroy Hautier,\n",
      "\"Statistical analysis of coordination environments in oxides\",\n",
      "Chem. Mater., 2017, 29 (19), pp 8346-8360,\n",
      "DOI: 10.1021/acs.chemmater.7b02766\n",
      "\n"
     ]
    },
    {
     "output_type": "stream",
     "name": "stderr",
     "text": [
      "100%|██████████| 1862/1862 [26:25<00:00,  1.17it/s]\n"
     ]
    }
   ],
   "metadata": {}
  },
  {
   "cell_type": "code",
   "execution_count": 11,
   "source": [
    "# Filter structures based on local chemenv.\n",
    "from src.structure_tensors_modifier import filter_ce\n",
    "\n",
    "chemenv_filter = filter_ce(structure_tensors_filtered)"
   ],
   "outputs": [
    {
     "output_type": "stream",
     "name": "stdout",
     "text": [
      "Filter structure_tensors based on ChemEnv info.\n"
     ]
    },
    {
     "output_type": "stream",
     "name": "stderr",
     "text": [
      "100%|██████████| 1862/1862 [00:00<00:00, 141671.70it/s]"
     ]
    },
    {
     "output_type": "stream",
     "name": "stdout",
     "text": [
      "num of structures with chemenv ['T:4', 'T:5', 'O:6'] only: 1681\n"
     ]
    },
    {
     "output_type": "stream",
     "name": "stderr",
     "text": [
      "\n"
     ]
    }
   ],
   "metadata": {}
  },
  {
   "cell_type": "code",
   "execution_count": 12,
   "source": [
    "# number of outliers\n",
    "len(chemenv_filter[\"outliers\"])"
   ],
   "outputs": [
    {
     "output_type": "execute_result",
     "data": {
      "text/plain": [
       "181"
      ]
     },
     "metadata": {},
     "execution_count": 12
    }
   ],
   "metadata": {}
  },
  {
   "cell_type": "code",
   "execution_count": 47,
   "source": [
    "# -*- coding: utf-8 -*-\n",
    "__author__ = \"He Sun\"\n",
    "__email__ = \"wushanyun64@gmail.com\"\n",
    "\n",
    "from pymatgen.core.structure import Structure as st\n",
    "from pymatgen.analysis.local_env import CrystalNN\n",
    "from pymatgen.analysis.local_env import NearNeighbors\n",
    "from pymatgen.util.coord import get_angle\n",
    "from pymatgen.analysis.bond_valence import BVAnalyzer\n",
    "import numpy as np\n",
    "import itertools\n",
    "import statistics\n",
    "from scipy.spatial import ConvexHull\n",
    "import warnings\n",
    "from pprint import pprint\n",
    "import re\n",
    "from scipy.spatial import distance_matrix\n",
    "\n",
    "property_symbol_map={ # map the name of properties to their symbols.\n",
    "    \"Z\":\"Z\",\n",
    "    \"mendeleev_no\":\"N\", #Mendeleev number from definition given by Pettifor, D. G. (1984). \n",
    "    \"atomic_mass\":\"M_a\",\n",
    "    \"electron_affinity\":\"EA\",\n",
    "    \"X\":\"X\",\n",
    "    \"electronic_structure\":\"N_v\", \n",
    "    \"atomic_radius_calculated\":\"r_cal\",\n",
    "    \"van_der_waals_radius\":\"r_vdw\",\n",
    "    # \"poissons_ratio\":\"nu\",\n",
    "    \"thermal_conductivity\":\"lambda\",\n",
    "    \"melting_point\":\"TM\",\n",
    "    \"boiling_point\":\"TB\",\n",
    "    # \"critical_temperature\":\"TC\",\n",
    "    \"ionization_energy\":\"IE1\", #First ionization energy\n",
    "}\n",
    "\n",
    "\n",
    "class NMR_local:\n",
    "    \"\"\"\n",
    "    A class representing NMR relavent local structure parameters\n",
    "    such as first order bondlength etc.\n",
    "\n",
    "    Parameters\n",
    "    -------------------------\n",
    "    structure: pymatgen.structure\n",
    "        The pymatgen structure obj that represent the crystal structure.\n",
    "    atom: str\n",
    "        Determine the atom of interest, in this project we care about \"Al\"\n",
    "    include_oxidation:boo\n",
    "        if True, decorate the structure with oxydation charge using BVAnalyzer or \"by_guess\".\n",
    "        Very time consuming, but can increase the reliability of neighbours assignment by Voronoi tessellation.\n",
    "    oxi_method: str\n",
    "        When include_oxidation==True, choose which method to use. ['BV','guess']\n",
    "    \"\"\"\n",
    "\n",
    "    def __init__(\n",
    "        self, structure, atom=\"Al\", include_oxidation=False, oxi_method=\"guess\"\n",
    "    ):\n",
    "        self._atom = atom\n",
    "        self._atom_list = self._get_atom_list(structure)\n",
    "\n",
    "        if include_oxidation:\n",
    "            if oxi_method == \"BV\":\n",
    "                bv = BVAnalyzer()\n",
    "                try:\n",
    "                    oxy_structure = bv.get_oxi_state_decorated_structure(structure)\n",
    "                except Exception:\n",
    "                    warnings.warn(\n",
    "                        \"\"\"\n",
    "                        Oxidation state can only be assigned for ordered structures.\n",
    "                        Oxidation state can not be assigned.\n",
    "                        \"\"\"\n",
    "                    )\n",
    "                    oxy_structure = structure\n",
    "            elif oxi_method == \"guess\":\n",
    "                try:\n",
    "                    oxy_structure = structure.add_oxidation_state_by_guess()\n",
    "                except Exception:\n",
    "                    warnings.warn(\n",
    "                        \"\"\"\n",
    "                        Oxidation state can not be assigned.\n",
    "                        \"\"\"\n",
    "                    )\n",
    "                    oxy_structure = structure\n",
    "            else:\n",
    "                raise ValueError('Value for oxi_method should be \"BV\" or \"guess\".')\n",
    "            self.structure = oxy_structure\n",
    "            self.first_neighbours = self.get_first_coord()\n",
    "        else:\n",
    "            self.structure = structure\n",
    "            self.first_neighbours = self.get_first_coord()\n",
    "\n",
    "    @classmethod\n",
    "    def from_cif(cls, cif, atom=\"Al\", include_oxidation=True):\n",
    "        \"\"\"\n",
    "        Load a cif file into NMR_local.\n",
    "\n",
    "        Parameter\n",
    "        -------------------------------\n",
    "        cif: str\n",
    "            The address of the cif file for the structure of interest\n",
    "        include_oxidation:boo\n",
    "            if True, decorate the structure with oxydation charge using BVAnalyzer\n",
    "        \"\"\"\n",
    "        structure = st.from_file(cif)\n",
    "        return cls(structure, atom, include_oxidation)\n",
    "\n",
    "    def print_sites(self):\n",
    "        \"\"\"\n",
    "        print the list of sites in structure\n",
    "\n",
    "        \"\"\"\n",
    "        index = 0\n",
    "        for i in self.structure.sites:\n",
    "            pprint((index, i))\n",
    "            index += 1\n",
    "\n",
    "    def _get_atom_list(self, structure):\n",
    "        \"\"\"\n",
    "        Get the site index list of the atom of interest ('Al' in our case)\n",
    "\n",
    "        Parameter\n",
    "        -------------------\n",
    "        structure:pymatgen.structure\n",
    "            The no oxydation state structure used to determine the atom list\n",
    "\n",
    "        Return\n",
    "        -------------------\n",
    "        index_list: list\n",
    "            A list of the index number for all the atom of interest in the structure.\n",
    "\n",
    "        \"\"\"\n",
    "        index = 0\n",
    "        index_list = []\n",
    "        for site in structure:\n",
    "            if site.specie.symbol == self._atom:\n",
    "                index_list.append(index)\n",
    "            index += 1\n",
    "        return index_list\n",
    "\n",
    "    def get_first_coord(self):\n",
    "        \"\"\"\n",
    "        Create a 2D table of the first coord atoms for each atom of interest.\n",
    "\n",
    "        Return\n",
    "        --------------------\n",
    "        first_coord_dict: Dataframe\n",
    "            column name is the index of the atom\n",
    "        \"\"\"\n",
    "        first_coord_dict = {}\n",
    "        for index in self._atom_list:\n",
    "            crystalnn = CrystalNN()\n",
    "            nn_info = crystalnn.get_nn_info(self.structure, index)\n",
    "            first_coord_dict[index] = nn_info\n",
    "        return first_coord_dict\n",
    "\n",
    "    def get_first_bond_length(self):\n",
    "        \"\"\"\n",
    "        create a 2D table of the first order bond length for each atom of interest.\n",
    "\n",
    "        Return\n",
    "        -----------------\n",
    "        first_bond_length_dict: dict\n",
    "            A dict of first order bond length and relavent statistics (average and std) of the atoms of interest.\n",
    "        \"\"\"\n",
    "        first_coord_dict = self.first_neighbours\n",
    "        first_bond_length_dict = {}\n",
    "        for center_index, first_neighbours in first_coord_dict.items():\n",
    "            distances = []\n",
    "            for site in first_neighbours:\n",
    "                vec = site[\"site\"].coords - self.structure[int(center_index)].coords\n",
    "                distances.append(np.linalg.norm(vec))\n",
    "            distances_ave = statistics.mean(distances)\n",
    "            distances_std = statistics.stdev(distances)\n",
    "            distances_max = max(distances)\n",
    "            distances_min = min(distances)\n",
    "\n",
    "            first_bond_length_dict[center_index] = {\n",
    "                \"fbl_values\": distances,\n",
    "                \"fbl_average\": distances_ave,\n",
    "                \"fbl_std\": distances_std,\n",
    "                \"fbl_max\":distances_max,\n",
    "                \"fbl_min\":distances_min,\n",
    "                \"length\": len(distances),\n",
    "            }\n",
    "        return first_bond_length_dict\n",
    "\n",
    "    def get_longitudinal_strain(self):\n",
    "        \"\"\"\n",
    "        Calculate the longitudinal strain of the chosen site. Refer to the following paper for the definition.\n",
    "        J. Phys. Chem. B 2002, 106, 51, 13176–13185\n",
    "        As for now, we only consider 4 5 and 6 coordinated site.\n",
    "        The definition of ideal ployhedraon for different coordination numbers could be find as follows:\n",
    "        Acta Cryst. (1998). B54, 766-773\n",
    "\n",
    "        Parameters\n",
    "        -----------------\n",
    "\n",
    "        Return\n",
    "        -----------------\n",
    "        l_strains_dict: dict\n",
    "            A dict of the longitudianl strain of the atoms of interest.\n",
    "        \"\"\"\n",
    "        first_coord_dict = self.first_neighbours\n",
    "        l_strains_dict = {}\n",
    "        for center_index, first_neighbours in first_coord_dict.items():\n",
    "            coord_numbers = len(first_neighbours)  # Get the number of coordination\n",
    "\n",
    "            site_coords = []  # Here we calculate the volume of the Al polyhedron.\n",
    "            for site in first_neighbours:\n",
    "                site_coords.append(site[\"site\"].coords)\n",
    "            volume = ConvexHull(np.asarray(site_coords)).volume\n",
    "\n",
    "            if coord_numbers == 4:\n",
    "                r = (1.948557158 * volume) ** (\n",
    "                    1.0 / 3\n",
    "                )  # Calculate the bond length for a perfect tetrahedron with the same volume.\n",
    "                ln_list = []  # store ln(abs(bl/r)) values\n",
    "                for site in first_neighbours:\n",
    "                    vec = site[\"site\"].coords - self.structure[int(center_index)].coords\n",
    "                    bl = np.linalg.norm(vec)  # calculate bond length\n",
    "                    ln_list.append(abs(bl / r))\n",
    "                l_strains_dict[center_index] = np.log(ln_list).sum()\n",
    "            elif coord_numbers == 5:\n",
    "                # Calculate the bond length for an ideal trigonal bipyramid tetrahedron \n",
    "                # with the same volume.\n",
    "                r = (2.309401077 * volume) ** (1.0 / 3)\n",
    "                ln_list = []\n",
    "                for site in first_neighbours:\n",
    "                    vec = site[\"site\"].coords - self.structure[int(center_index)].coords\n",
    "                    bl = np.linalg.norm(vec)  # calculate bond length\n",
    "                    ln_list.append(abs(bl / r))\n",
    "                l_strains_dict[center_index] = np.log(ln_list).sum()\n",
    "            elif coord_numbers == 6:\n",
    "                r = (0.75 * volume) ** (1.0 / 3)\n",
    "                ln_list = []  # store ln(abs(bl/r)) values\n",
    "                for site in first_neighbours:\n",
    "                    vec = site[\"site\"].coords - self.structure[int(center_index)].coords\n",
    "                    bl = np.linalg.norm(vec)  # calculate bond length\n",
    "                    ln_list.append(abs(bl / r))\n",
    "                l_strains_dict[center_index] = np.log(ln_list).sum()\n",
    "            else:\n",
    "                warnings.warn(\n",
    "                    \"Coordination number has to be 4, 5 or 6!\",\n",
    "                    category=None,\n",
    "                    stacklevel=1,\n",
    "                    source=None,\n",
    "                )\n",
    "        return l_strains_dict\n",
    "\n",
    "    def get_shear_strain(self):\n",
    "        \"\"\"\n",
    "        Calculate the shear strain of the chosen site. Refer to the following paper for the definition.\n",
    "        J. Phys. Chem. B 2002, 106, 51, 13176–13185\n",
    "        As for now, we only consider 4, 5 and 6 coordinated site.\n",
    "        The definition of ideal ployhedraon for different coordination numbers could be find as follows:\n",
    "        Acta Cryst. (1998). B54, 766-773\n",
    "\n",
    "        Parameters\n",
    "        -----------------\n",
    "\n",
    "        Return\n",
    "        -----------------\n",
    "        s_strains_dict: dict\n",
    "            A dict of the longitudianl strain of the atoms of interest.\n",
    "        \"\"\"\n",
    "        first_coord_dict = self.first_neighbours\n",
    "        s_strains_dict = {}\n",
    "        for center_index, first_neighbours in first_coord_dict.items():\n",
    "            coord_numbers = len(first_neighbours)  # Get the number of coordination\n",
    "\n",
    "            if coord_numbers == 4:\n",
    "                angle_0 = 1.911135529  # The bond angle for perfect tetrahedron\n",
    "                angles_differences = (\n",
    "                    []\n",
    "                )  # List of the difference between angle_0 and real bond_angles\n",
    "                site_combos = itertools.combinations(first_neighbours, 2)\n",
    "                for combo in site_combos:\n",
    "                    v1 = (\n",
    "                        combo[0][\"site\"].coords\n",
    "                        - self.structure[int(center_index)].coords\n",
    "                    )\n",
    "                    v2 = (\n",
    "                        combo[1][\"site\"].coords\n",
    "                        - self.structure[int(center_index)].coords\n",
    "                    )\n",
    "                    angles_differences.append(\n",
    "                        get_angle(v1, v2, units=\"radians\") - angle_0\n",
    "                    )\n",
    "                if len(angles_differences) != 6:\n",
    "                    warnings.warn(\n",
    "                        f\"\"\"number of angles for tetrahedron should be 6! \n",
    "                        Current number is {len(angles_differences)}\"\"\",\n",
    "                        category=None,\n",
    "                        stacklevel=1,\n",
    "                        source=None,\n",
    "                    )\n",
    "                s_strains_dict[center_index] = abs(np.tan(angles_differences)).sum()\n",
    "\n",
    "            elif coord_numbers == 5:\n",
    "                angle_0 = 1.570796327  # The first bond angle of an ideal trigonal bipyramid (90 degree).\n",
    "                angle_1 = 2.094395102  # The second bond angle of an ideal trigonal bipyramid (120 degree).\n",
    "                angles_differences = (\n",
    "                    []\n",
    "                )  # List of the difference between angle_0 and real bond_angles\n",
    "                site_combos = itertools.combinations(first_neighbours, 2)\n",
    "                for combo in site_combos:\n",
    "                    v1 = (\n",
    "                        combo[0][\"site\"].coords\n",
    "                        - self.structure[int(center_index)].coords\n",
    "                    )\n",
    "                    v2 = (\n",
    "                        combo[1][\"site\"].coords\n",
    "                        - self.structure[int(center_index)].coords\n",
    "                    )\n",
    "                    angles_differences.append(get_angle(v1, v2, units=\"radians\"))\n",
    "                angles_differences.sort(reverse=True)\n",
    "                angles_differences_0 = [\n",
    "                    x - angle_0 for x in angles_differences[1:4]\n",
    "                ]  # angle difference on 120 degree angles\n",
    "                angles_differences_1 = [\n",
    "                    x - angle_1 for x in angles_differences[4:]\n",
    "                ]  # angle difference on 90 degree angles\n",
    "                angles_differences = angles_differences_0 + angles_differences_1\n",
    "                if len(angles_differences) != 9:\n",
    "                    warnings.warn(\n",
    "                        f\"\"\"number of angles for octahedron should be 9! \n",
    "                        Current number is {len(angles_differences)}\"\"\",\n",
    "                        category=None,\n",
    "                        stacklevel=1,\n",
    "                        source=None,\n",
    "                    )\n",
    "                s_strains_dict[center_index] = abs(np.tan(angles_differences)).sum()\n",
    "\n",
    "            elif coord_numbers == 6:\n",
    "                angle_0 = 1.570796327  # The bond angle for perfect octahedron\n",
    "                angles_differences = (\n",
    "                    []\n",
    "                )  # List of the difference between angle_0 and real bond_angles\n",
    "                site_combos = itertools.combinations(first_neighbours, 2)\n",
    "                for combo in site_combos:\n",
    "                    v1 = (\n",
    "                        combo[0][\"site\"].coords\n",
    "                        - self.structure[int(center_index)].coords\n",
    "                    )\n",
    "                    v2 = (\n",
    "                        combo[1][\"site\"].coords\n",
    "                        - self.structure[int(center_index)].coords\n",
    "                    )\n",
    "                    angles_differences.append(get_angle(v1, v2, units=\"radians\"))\n",
    "                angles_differences.sort(reverse=True)\n",
    "                angles_differences = [\n",
    "                    x - angle_0 for x in angles_differences[3:]\n",
    "                ]  # Exclude the 180 degrees.\n",
    "                if len(angles_differences) != 12:\n",
    "                    warnings.warn(\n",
    "                        f\"\"\"number of angles for octahedron should be 12! \n",
    "                        Current number is {len(angles_differences)}\"\"\",\n",
    "                        category=None,\n",
    "                        stacklevel=1,\n",
    "                        source=None,\n",
    "                    )\n",
    "                s_strains_dict[center_index] = abs(np.tan(angles_differences)).sum()\n",
    "            else:\n",
    "                warnings.warn(\n",
    "                    \"Coordination number has to be 4, 5 or 6!\",\n",
    "                    category=None,\n",
    "                    stacklevel=1,\n",
    "                    source=None,\n",
    "                )\n",
    "        return s_strains_dict\n",
    "\n",
    "    def get_DI(self):\n",
    "        \"\"\"\n",
    "        Calculate the distortion index (DI) of the chosen site. \n",
    "        Refer to the following paper for the definition.\n",
    "        J. Phys. Chem. B 2002, 106, 51, 13176–13185\n",
    "\n",
    "        Parameters\n",
    "        -----------------\n",
    "\n",
    "        Return\n",
    "        -----------------\n",
    "        di_dict: dict\n",
    "            A dict of the DI of the atoms of interest.\n",
    "        \"\"\"\n",
    "        first_coord_dict = self.first_neighbours\n",
    "        di_dict = {}\n",
    "        for center_index, first_neighbours in first_coord_dict.items():\n",
    "            coord_numbers = len(first_neighbours)  # Get the number of coordination\n",
    "\n",
    "            if coord_numbers == 4:\n",
    "                angle_0 = 1.911135529  # The bond angle for perfect tetrahedron\n",
    "                angles_differences = (\n",
    "                    []\n",
    "                )  # List of the difference between angle_0 and real bond_angles\n",
    "                site_combos = itertools.combinations(first_neighbours, 2)\n",
    "                for combo in site_combos:\n",
    "                    v1 = (\n",
    "                        combo[0][\"site\"].coords\n",
    "                        - self.structure[int(center_index)].coords\n",
    "                    )\n",
    "                    v2 = (\n",
    "                        combo[1][\"site\"].coords\n",
    "                        - self.structure[int(center_index)].coords\n",
    "                    )\n",
    "                    angles_differences.append(\n",
    "                        get_angle(v1, v2, units=\"radians\") - angle_0\n",
    "                    )\n",
    "                if len(angles_differences) != 6:\n",
    "                    warnings.warn(\n",
    "                        f\"\"\"number of angles for octahedron should be 6! \n",
    "                        Current number is {len(angles_differences)}\"\"\",\n",
    "                        category=None,\n",
    "                        stacklevel=1,\n",
    "                        source=None,\n",
    "                    )\n",
    "                di_dict[center_index] = abs(np.array(angles_differences)).sum() / (\n",
    "                    angle_0 * 6\n",
    "                )\n",
    "            elif coord_numbers == 5:\n",
    "                angle_180 = 3.141592653\n",
    "                angle_90 = angle_180 / 2\n",
    "                angle_120 = angle_180 * 2 / 3\n",
    "                angles_differences = []\n",
    "                site_combos = itertools.combinations(first_neighbours, 2)\n",
    "                for combo in site_combos:\n",
    "                    v1 = (\n",
    "                        combo[0][\"site\"].coords\n",
    "                        - self.structure[int(center_index)].coords\n",
    "                    )\n",
    "                    v2 = (\n",
    "                        combo[1][\"site\"].coords\n",
    "                        - self.structure[int(center_index)].coords\n",
    "                    )\n",
    "                    angles_differences.append(get_angle(v1, v2, units=\"radians\"))\n",
    "                angles_differences.sort(reverse=True)\n",
    "                angle_diff_180 = [\n",
    "                    x - angle_180 for x in angles_differences[0:1]\n",
    "                ]  # Angle difference for 180 degrees angle\n",
    "                angle_diff_120 = [\n",
    "                    x - angle_120 for x in angles_differences[1:4]\n",
    "                ]  # Angle difference for 120 degrees angle\n",
    "                angle_diff_90 = [\n",
    "                    x - angle_90 for x in angles_differences[4:]\n",
    "                ]  # Angle difference for 90 degrees angle\n",
    "                angles_differences = angle_diff_180 + angle_diff_120 + angle_diff_90\n",
    "                if len(angles_differences) != 10:\n",
    "                    warnings.warn(\n",
    "                        f\"\"\"number of angles for octahedron should be 10! \n",
    "                        Current number is {len(angles_differences)}\"\"\",\n",
    "                        category=None,\n",
    "                        stacklevel=1,\n",
    "                        source=None,\n",
    "                    )\n",
    "                di_dict[center_index] = (\n",
    "                    abs(np.array(angles_differences)).sum() / 18.8495559\n",
    "                )\n",
    "            elif coord_numbers == 6:\n",
    "                angle_0 = 1.570796327  # The bond angle for perfect tetrahedron\n",
    "                angles_differences = (\n",
    "                    []\n",
    "                )  # List of the difference between angle_0 and real bond_angles\n",
    "                site_combos = itertools.combinations(first_neighbours, 2)\n",
    "                for combo in site_combos:\n",
    "                    v1 = (\n",
    "                        combo[0][\"site\"].coords\n",
    "                        - self.structure[int(center_index)].coords\n",
    "                    )\n",
    "                    v2 = (\n",
    "                        combo[1][\"site\"].coords\n",
    "                        - self.structure[int(center_index)].coords\n",
    "                    )\n",
    "                    angles_differences.append(get_angle(v1, v2, units=\"radians\"))\n",
    "                angles_differences.sort(reverse=True)\n",
    "                angles_differences = [\n",
    "                    x - angle_0 for x in angles_differences[3:]\n",
    "                ]  # Exclude the 180 degrees.\n",
    "                if len(angles_differences) != 12:\n",
    "                    warnings.warn(\n",
    "                        f\"number of angles for octahedron should be 12! Current number is {len(angles_differences)}\",\n",
    "                        category=None,\n",
    "                        stacklevel=1,\n",
    "                        source=None,\n",
    "                    )\n",
    "                di_dict[center_index] = abs(np.array(angles_differences)).sum() / (\n",
    "                    angle_0 * 12\n",
    "                )\n",
    "            else:\n",
    "                warnings.warn(\n",
    "                    \"Coordination number has to be 4, 5 or 6!\",\n",
    "                    category=None,\n",
    "                    stacklevel=1,\n",
    "                    source=None,\n",
    "                )\n",
    "        return di_dict\n",
    "\n",
    "    def get_first_bond_angle(self):\n",
    "        \"\"\"\n",
    "        create a 2D table of the first order bond angles for each atom of interest.\n",
    "\n",
    "        Return\n",
    "        -----------------\n",
    "        first_bond_angle_dict: dict\n",
    "            A dict of first order bond angle of the atom of interest.\n",
    "        \"\"\"\n",
    "        first_coord_dict = self.first_neighbours\n",
    "        first_bond_angle_dict = {}\n",
    "        for center_index, first_neighbours in first_coord_dict.items():\n",
    "            angles = []\n",
    "            site_combos = itertools.combinations(first_neighbours, 2)\n",
    "            for combo in site_combos:\n",
    "                v1 = combo[0][\"site\"].coords - self.structure[int(center_index)].coords\n",
    "                v2 = combo[1][\"site\"].coords - self.structure[int(center_index)].coords\n",
    "                angles.append(get_angle(v1, v2, units=\"degrees\"))\n",
    "            angles.sort(reverse=True)\n",
    "            angles_ave = statistics.mean(angles)\n",
    "            angles_std = statistics.stdev(angles)\n",
    "            angles_max = max(angles)\n",
    "            angles_min = min(angles)\n",
    "            first_bond_angle_dict[center_index] = {\n",
    "                \"fba_values\": angles,\n",
    "                \"fba_average\": angles_ave,\n",
    "                \"fba_std\": angles_std,\n",
    "                \"fba_max\":angles_max,\n",
    "                \"fba_min\":angles_min,\n",
    "                \"length\": len(angles),\n",
    "            }\n",
    "        return first_bond_angle_dict\n",
    "\n",
    "    def get_second_coord(self):\n",
    "        \"\"\"\n",
    "        Create a 2D table of the second coord atoms for each atom of interest.\n",
    "\n",
    "        Return\n",
    "        --------------------\n",
    "        first_coord_dict: Dataframe\n",
    "            column name is the index of the atom\n",
    "        \"\"\"\n",
    "        second_coord_dict = {}\n",
    "        for index in self._atom_list:\n",
    "            crystalnn = CrystalNN()\n",
    "            all_nn = crystalnn.get_all_nn_info(self.structure)\n",
    "\n",
    "            nearneighbors = NearNeighbors()\n",
    "            second_coord_info = nearneighbors._get_nn_shell_info(\n",
    "                self.structure, all_nn, index, 2\n",
    "            )\n",
    "            second_coord_info = sorted(second_coord_info, key=lambda i: i[\"site_index\"])\n",
    "            second_coord_dict[index] = second_coord_info\n",
    "        return second_coord_dict\n",
    "\n",
    "    # def get_matminer_features(self):\n",
    "    #     feat= MultipleFeaturizer([\n",
    "    #         BondOrientationalParameter(),\n",
    "    #     ])\n",
    "    #     labels=feat.feature_labels()\n",
    "    #     mt_features_list = []\n",
    "    #     for index in self._atom_list:\n",
    "    #         mt_features = feat.featurize(self.structure,index)\n",
    "    #         mt_features_list.append(dict(zip(labels,mt_features)))\n",
    "\n",
    "    def get_species_features(self):\n",
    "        \"\"\"[summary]\n",
    "        \"\"\"\n",
    "        first_coord_dict = self.first_neighbours\n",
    "        features_dict = {}\n",
    "        for center_index, first_neighbours in first_coord_dict.items():\n",
    "\n",
    "            # polyhedron properties including all the properties of all sites (center included) \n",
    "            # in the polyhedron. \n",
    "            N = len(first_neighbours)\n",
    "            ploy_properties = [] \n",
    "            neighbour_coords = []\n",
    "            for neighbour in first_neighbours:\n",
    "                neighbour_properties = self._get_site_properties(neighbour['site'])\n",
    "                ploy_properties.append(neighbour_properties)\n",
    "                neighbour_coords.append(neighbour['site'].coords)\n",
    "            neighbour_coords = np.array(neighbour_coords)\n",
    "            ploy_properties = np.array(ploy_properties)\n",
    "            species_features = self._species_features_calculator(ploy_properties, center_index,neighbour_coords,N)\n",
    "            features_dict[center_index]=species_features\n",
    "        return(features_dict)\n",
    "    \n",
    "    @staticmethod\n",
    "    def _get_site_properties(site):\n",
    "        \"\"\"\n",
    "        something here.\n",
    "\n",
    "        Note:electronic_structure here will be processed into representing the number of valence \n",
    "        electrons (N_v).\n",
    "\n",
    "        Args:\n",
    "            site ([type]): [description]\n",
    "        \"\"\"\n",
    "        property_list = []\n",
    "        for k in property_symbol_map:\n",
    "            if k == \"electronic_structure\": # Use e struc to get number of valence electrons.\n",
    "                e_struc = getattr(site.species.elements[0],k)\n",
    "                prog = re.compile(r'\\.[0-9][s,p,d,f,g,h,i]([0-9])')\n",
    "                N_v = sum(map(int,prog.findall(e_struc)))\n",
    "                property_list.append(N_v)\n",
    "            else:\n",
    "                property_list.append(getattr(site.species.elements[0],k))\n",
    "        return(property_list)\n",
    "\n",
    "    def _species_features_calculator(self,properties_matrix, center_index,neighbour_coords,N):\n",
    "        \"\"\"[summary]\n",
    "\n",
    "        Args:\n",
    "            properties_matrix ([type]): [description]\n",
    "            structure ([type]): [description]\n",
    "            center_index ([type]): [description]\n",
    "        \"\"\"\n",
    "        #get statistics of the properties values\n",
    "        means = properties_matrix.mean(axis=0)\n",
    "        std = properties_matrix.std(axis=0)\n",
    "        max_ = properties_matrix.max(axis=0)\n",
    "        min_ = properties_matrix.min(axis=0)\n",
    "\n",
    "        #get average deviation of the properties for the polyhedron\n",
    "        center_site = self.structure[center_index]\n",
    "        center_coords = self.structure[center_index].coords\n",
    "        center_properties = self._get_site_properties(center_site)\n",
    "        properties_dev = (properties_matrix-center_properties).sum(axis=0)*(1/N)\n",
    "        \n",
    "        #get average deviation of the properties normalized by r_cn \n",
    "        # (distance between center and neighbour)\n",
    "        r_cn_rev_list = np.reciprocal(np.linalg.norm(neighbour_coords - center_coords,axis=1))\n",
    "        dev_matrix = (properties_matrix-center_properties)*(1/N)\n",
    "        properties_dev_r = (dev_matrix.T*r_cn_rev_list).T.sum(axis=0)\n",
    "\n",
    "        #get alchemical matrix\n",
    "        #matrix of all properties including center atom\n",
    "        properties_all = np.vstack([properties_matrix,center_properties])  \n",
    "        columns = properties_all.shape[1]\n",
    "        matrix_list = []\n",
    "        for i in range(columns):\n",
    "            matrix_list.append(np.outer(properties_all[:, i],properties_all[:, i]))\n",
    "        coords_all = np.vstack([neighbour_coords,center_coords])\n",
    "        dis_matrix_rev = np.reciprocal(distance_matrix(coords_all,coords_all))\n",
    "        #Fill diagonal of reciprocal distance matrix with 1\n",
    "        np.fill_diagonal(dis_matrix_rev,1) \n",
    "        #get the singular values from alchemical matrix \n",
    "        alchemical_s = []\n",
    "        for pm in matrix_list: #pm property matrix\n",
    "            alchemical_matrix = np.multiply(pm,dis_matrix_rev)\n",
    "            svd = np.linalg.svd(alchemical_matrix,full_matrices=False)\n",
    "            alchemical_s.append(svd[1][:5])\n",
    "        \n",
    "        # Get a flatened vector of all property features\n",
    "        statistics_flat = np.hstack([means,std,max_,min_])\n",
    "        alchemical_s_flat = np.array(alchemical_s).flatten()\n",
    "        properties_dev_flat = np.hstack([properties_dev,properties_dev_r])\n",
    "        result = np.hstack([statistics_flat,properties_dev_flat,alchemical_s_flat])\n",
    "        return(result)"
   ],
   "outputs": [],
   "metadata": {}
  },
  {
   "cell_type": "code",
   "execution_count": 48,
   "source": [
    "# from src.local_features import NMR_local\n",
    "import pandas as pd\n",
    "\n",
    "def zip_nmr_structure(struc_tensor):\n",
    "    \"\"\"\n",
    "    Combine the NMR values and structural parameters into one table.\n",
    "    \"\"\"\n",
    "    table = pd.DataFrame()\n",
    "    n = 0\n",
    "    error_list = []\n",
    "    error_message = []\n",
    "    for sample in tqdm(struc_tensor):\n",
    "        try:\n",
    "            NMR_struc = NMR_local(sample[\"structure\"])\n",
    "            first_bond_length = pd.DataFrame.from_dict(\n",
    "                NMR_struc.get_first_bond_length(), orient=\"index\"\n",
    "            )\n",
    "            first_bond_angle = pd.DataFrame.from_dict(\n",
    "                NMR_struc.get_first_bond_angle(), orient=\"index\"\n",
    "            )\n",
    "            l_strain = pd.DataFrame.from_dict(\n",
    "                NMR_struc.get_longitudinal_strain(),\n",
    "                orient=\"index\",\n",
    "                columns=[\"longitudinal_strain\"],\n",
    "            )\n",
    "            s_strain = pd.DataFrame.from_dict(\n",
    "                NMR_struc.get_shear_strain(), orient=\"index\", columns=[\"shear_strain\"]\n",
    "            )\n",
    "            di = pd.DataFrame.from_dict(\n",
    "                NMR_struc.get_DI(), orient=\"index\", columns=[\"DI\"]\n",
    "            )\n",
    "            alchemical_features = pd.DataFrame.from_dict(\n",
    "                NMR_struc.get_species_features(),orient=\"index\"\n",
    "            )\n",
    "            nmr = pd.DataFrame(sample[\"tensors\"]).set_index(\"site_index\")\n",
    "            nmr = nmr.loc[:, \"diso\":\"CQ\"]\n",
    "            nmr[\"CQ\"] = abs(nmr[\"CQ\"])  # Get absolute values for all the CQ\n",
    "            sample_table = pd.concat(\n",
    "                [\n",
    "                    nmr,\n",
    "                    first_bond_length[\"fbl_average\"],\n",
    "                    first_bond_length[\"fbl_std\"],\n",
    "                    first_bond_angle[\"fba_average\"],\n",
    "                    first_bond_angle[\"fba_std\"],\n",
    "                    l_strain[\"longitudinal_strain\"],\n",
    "                    s_strain[\"shear_strain\"],\n",
    "                    di[\"DI\"],\n",
    "                    alchemical_features,\n",
    "                ],\n",
    "                axis=1,\n",
    "            )\n",
    "\n",
    "            if table.empty:\n",
    "                table = sample_table\n",
    "            else:\n",
    "                table = table.append(sample_table)\n",
    "        except Exception as e:\n",
    "            error_list.append(n)\n",
    "            error_message.append(e)\n",
    "        n += 1\n",
    "    print(\n",
    "        f\"There are {len(error_list)} structures returns error. Their index are {error_list}\"\n",
    "    )\n",
    "    print(\"error_messages:\\n\", error_message)\n",
    "    return table"
   ],
   "outputs": [],
   "metadata": {}
  },
  {
   "cell_type": "code",
   "execution_count": 49,
   "source": [
    "nmr_struc_data = zip_nmr_structure(chemenv_filter[\"filtered\"])"
   ],
   "outputs": [
    {
     "output_type": "stream",
     "name": "stderr",
     "text": [
      "  0%|          | 0/1681 [00:00<?, ?it/s]/tmp/ipykernel_919/3982881166.py:640: RuntimeWarning: divide by zero encountered in reciprocal\n",
      "  dis_matrix_rev = np.reciprocal(distance_matrix(coords_all,coords_all))\n",
      "100%|██████████| 1681/1681 [04:22<00:00,  6.40it/s]"
     ]
    },
    {
     "output_type": "stream",
     "name": "stdout",
     "text": [
      "There are 0 structures returns error. Their index are []\n",
      "error_messages:\n",
      " []\n"
     ]
    },
    {
     "output_type": "stream",
     "name": "stderr",
     "text": [
      "\n"
     ]
    }
   ],
   "metadata": {}
  },
  {
   "cell_type": "code",
   "execution_count": 50,
   "source": [
    "nmr_struc_data"
   ],
   "outputs": [
    {
     "output_type": "execute_result",
     "data": {
      "text/html": [
       "<div>\n",
       "<style scoped>\n",
       "    .dataframe tbody tr th:only-of-type {\n",
       "        vertical-align: middle;\n",
       "    }\n",
       "\n",
       "    .dataframe tbody tr th {\n",
       "        vertical-align: top;\n",
       "    }\n",
       "\n",
       "    .dataframe thead th {\n",
       "        text-align: right;\n",
       "    }\n",
       "</style>\n",
       "<table border=\"1\" class=\"dataframe\">\n",
       "  <thead>\n",
       "    <tr style=\"text-align: right;\">\n",
       "      <th></th>\n",
       "      <th>diso</th>\n",
       "      <th>csa</th>\n",
       "      <th>csa_reduced</th>\n",
       "      <th>etacs</th>\n",
       "      <th>etaQ</th>\n",
       "      <th>CQ</th>\n",
       "      <th>fbl_average</th>\n",
       "      <th>fbl_std</th>\n",
       "      <th>fba_average</th>\n",
       "      <th>fba_std</th>\n",
       "      <th>...</th>\n",
       "      <th>122</th>\n",
       "      <th>123</th>\n",
       "      <th>124</th>\n",
       "      <th>125</th>\n",
       "      <th>126</th>\n",
       "      <th>127</th>\n",
       "      <th>128</th>\n",
       "      <th>129</th>\n",
       "      <th>130</th>\n",
       "      <th>131</th>\n",
       "    </tr>\n",
       "  </thead>\n",
       "  <tbody>\n",
       "    <tr>\n",
       "      <th>6</th>\n",
       "      <td>286.402975</td>\n",
       "      <td>-52.750533</td>\n",
       "      <td>-35.167022</td>\n",
       "      <td>0.581162</td>\n",
       "      <td>0.106821</td>\n",
       "      <td>10.860828</td>\n",
       "      <td>1.788435</td>\n",
       "      <td>0.026813</td>\n",
       "      <td>109.304101</td>\n",
       "      <td>9.051559</td>\n",
       "      <td>...</td>\n",
       "      <td>7.805452e+06</td>\n",
       "      <td>6394.500688</td>\n",
       "      <td>5567.261309</td>\n",
       "      <td>5365.837278</td>\n",
       "      <td>5028.303027</td>\n",
       "      <td>399.858752</td>\n",
       "      <td>126.899146</td>\n",
       "      <td>122.308051</td>\n",
       "      <td>115.603620</td>\n",
       "      <td>12.965549</td>\n",
       "    </tr>\n",
       "    <tr>\n",
       "      <th>7</th>\n",
       "      <td>286.417982</td>\n",
       "      <td>-52.960216</td>\n",
       "      <td>-35.306811</td>\n",
       "      <td>0.644648</td>\n",
       "      <td>0.106797</td>\n",
       "      <td>10.860119</td>\n",
       "      <td>1.788436</td>\n",
       "      <td>0.026813</td>\n",
       "      <td>109.304098</td>\n",
       "      <td>9.051526</td>\n",
       "      <td>...</td>\n",
       "      <td>7.805452e+06</td>\n",
       "      <td>6394.505526</td>\n",
       "      <td>5567.261310</td>\n",
       "      <td>5365.837258</td>\n",
       "      <td>5028.305942</td>\n",
       "      <td>399.858664</td>\n",
       "      <td>126.899146</td>\n",
       "      <td>122.308050</td>\n",
       "      <td>115.603698</td>\n",
       "      <td>12.965561</td>\n",
       "    </tr>\n",
       "    <tr>\n",
       "      <th>6</th>\n",
       "      <td>270.742758</td>\n",
       "      <td>-39.429747</td>\n",
       "      <td>-26.286498</td>\n",
       "      <td>0.060476</td>\n",
       "      <td>0.332152</td>\n",
       "      <td>6.457873</td>\n",
       "      <td>1.760880</td>\n",
       "      <td>0.021267</td>\n",
       "      <td>109.355253</td>\n",
       "      <td>4.162908</td>\n",
       "      <td>...</td>\n",
       "      <td>7.805771e+06</td>\n",
       "      <td>6176.967297</td>\n",
       "      <td>5362.106061</td>\n",
       "      <td>5290.812577</td>\n",
       "      <td>5206.775931</td>\n",
       "      <td>402.651543</td>\n",
       "      <td>123.167105</td>\n",
       "      <td>120.653617</td>\n",
       "      <td>118.723619</td>\n",
       "      <td>12.439235</td>\n",
       "    </tr>\n",
       "    <tr>\n",
       "      <th>7</th>\n",
       "      <td>270.674618</td>\n",
       "      <td>-39.420129</td>\n",
       "      <td>-26.280086</td>\n",
       "      <td>0.077063</td>\n",
       "      <td>0.346567</td>\n",
       "      <td>6.418334</td>\n",
       "      <td>1.760893</td>\n",
       "      <td>0.021276</td>\n",
       "      <td>109.354104</td>\n",
       "      <td>4.194691</td>\n",
       "      <td>...</td>\n",
       "      <td>7.805771e+06</td>\n",
       "      <td>6177.147547</td>\n",
       "      <td>5363.374964</td>\n",
       "      <td>5291.881090</td>\n",
       "      <td>5204.412306</td>\n",
       "      <td>402.655729</td>\n",
       "      <td>123.203513</td>\n",
       "      <td>120.680772</td>\n",
       "      <td>118.655126</td>\n",
       "      <td>12.439978</td>\n",
       "    </tr>\n",
       "    <tr>\n",
       "      <th>8</th>\n",
       "      <td>270.663115</td>\n",
       "      <td>-39.404305</td>\n",
       "      <td>-26.269537</td>\n",
       "      <td>0.076705</td>\n",
       "      <td>0.346489</td>\n",
       "      <td>6.418599</td>\n",
       "      <td>1.760893</td>\n",
       "      <td>0.021276</td>\n",
       "      <td>109.354104</td>\n",
       "      <td>4.194691</td>\n",
       "      <td>...</td>\n",
       "      <td>7.805771e+06</td>\n",
       "      <td>6177.147547</td>\n",
       "      <td>5363.374964</td>\n",
       "      <td>5291.881090</td>\n",
       "      <td>5204.412306</td>\n",
       "      <td>402.655729</td>\n",
       "      <td>123.203513</td>\n",
       "      <td>120.680772</td>\n",
       "      <td>118.655126</td>\n",
       "      <td>12.439978</td>\n",
       "    </tr>\n",
       "    <tr>\n",
       "      <th>...</th>\n",
       "      <td>...</td>\n",
       "      <td>...</td>\n",
       "      <td>...</td>\n",
       "      <td>...</td>\n",
       "      <td>...</td>\n",
       "      <td>...</td>\n",
       "      <td>...</td>\n",
       "      <td>...</td>\n",
       "      <td>...</td>\n",
       "      <td>...</td>\n",
       "      <td>...</td>\n",
       "      <td>...</td>\n",
       "      <td>...</td>\n",
       "      <td>...</td>\n",
       "      <td>...</td>\n",
       "      <td>...</td>\n",
       "      <td>...</td>\n",
       "      <td>...</td>\n",
       "      <td>...</td>\n",
       "      <td>...</td>\n",
       "      <td>...</td>\n",
       "    </tr>\n",
       "    <tr>\n",
       "      <th>2</th>\n",
       "      <td>231.905999</td>\n",
       "      <td>59.167995</td>\n",
       "      <td>39.445330</td>\n",
       "      <td>0.190249</td>\n",
       "      <td>0.769038</td>\n",
       "      <td>3.212670</td>\n",
       "      <td>1.850040</td>\n",
       "      <td>0.069005</td>\n",
       "      <td>107.611917</td>\n",
       "      <td>27.975342</td>\n",
       "      <td>...</td>\n",
       "      <td>7.807200e+06</td>\n",
       "      <td>7649.377521</td>\n",
       "      <td>6034.304322</td>\n",
       "      <td>5562.068588</td>\n",
       "      <td>5473.619184</td>\n",
       "      <td>467.615571</td>\n",
       "      <td>137.666426</td>\n",
       "      <td>126.878619</td>\n",
       "      <td>124.768595</td>\n",
       "      <td>92.977780</td>\n",
       "    </tr>\n",
       "    <tr>\n",
       "      <th>3</th>\n",
       "      <td>231.907821</td>\n",
       "      <td>59.181747</td>\n",
       "      <td>39.454498</td>\n",
       "      <td>0.190363</td>\n",
       "      <td>0.771883</td>\n",
       "      <td>3.217912</td>\n",
       "      <td>1.850074</td>\n",
       "      <td>0.069047</td>\n",
       "      <td>107.611929</td>\n",
       "      <td>27.975358</td>\n",
       "      <td>...</td>\n",
       "      <td>7.807200e+06</td>\n",
       "      <td>7649.586853</td>\n",
       "      <td>6034.483997</td>\n",
       "      <td>5561.996106</td>\n",
       "      <td>5473.624884</td>\n",
       "      <td>467.610335</td>\n",
       "      <td>137.669767</td>\n",
       "      <td>126.877081</td>\n",
       "      <td>124.768711</td>\n",
       "      <td>92.980736</td>\n",
       "    </tr>\n",
       "    <tr>\n",
       "      <th>4</th>\n",
       "      <td>231.909802</td>\n",
       "      <td>59.159322</td>\n",
       "      <td>39.439548</td>\n",
       "      <td>0.190437</td>\n",
       "      <td>0.768990</td>\n",
       "      <td>3.212668</td>\n",
       "      <td>1.850040</td>\n",
       "      <td>0.069005</td>\n",
       "      <td>107.611917</td>\n",
       "      <td>27.975342</td>\n",
       "      <td>...</td>\n",
       "      <td>7.807200e+06</td>\n",
       "      <td>7649.377521</td>\n",
       "      <td>6034.304322</td>\n",
       "      <td>5562.068588</td>\n",
       "      <td>5473.619184</td>\n",
       "      <td>467.615571</td>\n",
       "      <td>137.666426</td>\n",
       "      <td>126.878619</td>\n",
       "      <td>124.768595</td>\n",
       "      <td>92.977780</td>\n",
       "    </tr>\n",
       "    <tr>\n",
       "      <th>5</th>\n",
       "      <td>231.910247</td>\n",
       "      <td>59.186762</td>\n",
       "      <td>39.457841</td>\n",
       "      <td>0.190442</td>\n",
       "      <td>0.771798</td>\n",
       "      <td>3.218264</td>\n",
       "      <td>1.850074</td>\n",
       "      <td>0.069047</td>\n",
       "      <td>107.611929</td>\n",
       "      <td>27.975358</td>\n",
       "      <td>...</td>\n",
       "      <td>7.807200e+06</td>\n",
       "      <td>7649.586853</td>\n",
       "      <td>6034.483997</td>\n",
       "      <td>5561.996106</td>\n",
       "      <td>5473.624884</td>\n",
       "      <td>467.610335</td>\n",
       "      <td>137.669767</td>\n",
       "      <td>126.877081</td>\n",
       "      <td>124.768711</td>\n",
       "      <td>92.980736</td>\n",
       "    </tr>\n",
       "    <tr>\n",
       "      <th>15</th>\n",
       "      <td>221.203826</td>\n",
       "      <td>36.905116</td>\n",
       "      <td>24.603411</td>\n",
       "      <td>0.002805</td>\n",
       "      <td>0.000470</td>\n",
       "      <td>10.563067</td>\n",
       "      <td>2.012868</td>\n",
       "      <td>0.090017</td>\n",
       "      <td>108.000000</td>\n",
       "      <td>37.263540</td>\n",
       "      <td>...</td>\n",
       "      <td>7.807385e+06</td>\n",
       "      <td>9504.144688</td>\n",
       "      <td>6225.345730</td>\n",
       "      <td>6054.957788</td>\n",
       "      <td>6054.957788</td>\n",
       "      <td>512.902401</td>\n",
       "      <td>141.899403</td>\n",
       "      <td>138.015611</td>\n",
       "      <td>138.015611</td>\n",
       "      <td>103.948820</td>\n",
       "    </tr>\n",
       "  </tbody>\n",
       "</table>\n",
       "<p>8081 rows × 145 columns</p>\n",
       "</div>"
      ],
      "text/plain": [
       "          diso        csa  csa_reduced     etacs      etaQ         CQ  \\\n",
       "6   286.402975 -52.750533   -35.167022  0.581162  0.106821  10.860828   \n",
       "7   286.417982 -52.960216   -35.306811  0.644648  0.106797  10.860119   \n",
       "6   270.742758 -39.429747   -26.286498  0.060476  0.332152   6.457873   \n",
       "7   270.674618 -39.420129   -26.280086  0.077063  0.346567   6.418334   \n",
       "8   270.663115 -39.404305   -26.269537  0.076705  0.346489   6.418599   \n",
       "..         ...        ...          ...       ...       ...        ...   \n",
       "2   231.905999  59.167995    39.445330  0.190249  0.769038   3.212670   \n",
       "3   231.907821  59.181747    39.454498  0.190363  0.771883   3.217912   \n",
       "4   231.909802  59.159322    39.439548  0.190437  0.768990   3.212668   \n",
       "5   231.910247  59.186762    39.457841  0.190442  0.771798   3.218264   \n",
       "15  221.203826  36.905116    24.603411  0.002805  0.000470  10.563067   \n",
       "\n",
       "    fbl_average   fbl_std  fba_average    fba_std  ...           122  \\\n",
       "6      1.788435  0.026813   109.304101   9.051559  ...  7.805452e+06   \n",
       "7      1.788436  0.026813   109.304098   9.051526  ...  7.805452e+06   \n",
       "6      1.760880  0.021267   109.355253   4.162908  ...  7.805771e+06   \n",
       "7      1.760893  0.021276   109.354104   4.194691  ...  7.805771e+06   \n",
       "8      1.760893  0.021276   109.354104   4.194691  ...  7.805771e+06   \n",
       "..          ...       ...          ...        ...  ...           ...   \n",
       "2      1.850040  0.069005   107.611917  27.975342  ...  7.807200e+06   \n",
       "3      1.850074  0.069047   107.611929  27.975358  ...  7.807200e+06   \n",
       "4      1.850040  0.069005   107.611917  27.975342  ...  7.807200e+06   \n",
       "5      1.850074  0.069047   107.611929  27.975358  ...  7.807200e+06   \n",
       "15     2.012868  0.090017   108.000000  37.263540  ...  7.807385e+06   \n",
       "\n",
       "            123          124          125          126         127  \\\n",
       "6   6394.500688  5567.261309  5365.837278  5028.303027  399.858752   \n",
       "7   6394.505526  5567.261310  5365.837258  5028.305942  399.858664   \n",
       "6   6176.967297  5362.106061  5290.812577  5206.775931  402.651543   \n",
       "7   6177.147547  5363.374964  5291.881090  5204.412306  402.655729   \n",
       "8   6177.147547  5363.374964  5291.881090  5204.412306  402.655729   \n",
       "..          ...          ...          ...          ...         ...   \n",
       "2   7649.377521  6034.304322  5562.068588  5473.619184  467.615571   \n",
       "3   7649.586853  6034.483997  5561.996106  5473.624884  467.610335   \n",
       "4   7649.377521  6034.304322  5562.068588  5473.619184  467.615571   \n",
       "5   7649.586853  6034.483997  5561.996106  5473.624884  467.610335   \n",
       "15  9504.144688  6225.345730  6054.957788  6054.957788  512.902401   \n",
       "\n",
       "           128         129         130         131  \n",
       "6   126.899146  122.308051  115.603620   12.965549  \n",
       "7   126.899146  122.308050  115.603698   12.965561  \n",
       "6   123.167105  120.653617  118.723619   12.439235  \n",
       "7   123.203513  120.680772  118.655126   12.439978  \n",
       "8   123.203513  120.680772  118.655126   12.439978  \n",
       "..         ...         ...         ...         ...  \n",
       "2   137.666426  126.878619  124.768595   92.977780  \n",
       "3   137.669767  126.877081  124.768711   92.980736  \n",
       "4   137.666426  126.878619  124.768595   92.977780  \n",
       "5   137.669767  126.877081  124.768711   92.980736  \n",
       "15  141.899403  138.015611  138.015611  103.948820  \n",
       "\n",
       "[8081 rows x 145 columns]"
      ]
     },
     "metadata": {},
     "execution_count": 50
    }
   ],
   "metadata": {}
  },
  {
   "cell_type": "code",
   "execution_count": 51,
   "source": [
    "# Get rid of diso outliers\n",
    "fig, ax = plt.subplots(figsize=[10, 6])\n",
    "sns.histplot(nmr_struc_data[\"CQ\"], ax=ax)\n",
    "# plt.xlim((-200,200))\n",
    "plt.show()\n",
    "\n",
    "# nmr_struc_data = nmr_struc_data[(nmr_struc_data['diso']>=170) & (nmr_struc_data['diso']<320)]"
   ],
   "outputs": [
    {
     "output_type": "display_data",
     "data": {
      "image/png": "[encoded data removed]",
      "text/plain": [
       "<Figure size 720x432 with 1 Axes>"
      ]
     },
     "metadata": {}
    }
   ],
   "metadata": {}
  },
  {
   "cell_type": "code",
   "execution_count": 53,
   "source": [
    "# heat map of structural features\n",
    "corr = nmr_struc_data.loc[:, :\"DI\"].corr()\n",
    "\n",
    "plt.figure(figsize=[19, 15])\n",
    "heat_map = sns.heatmap(\n",
    "    corr,\n",
    "    vmin=-1,\n",
    "    vmax=1,\n",
    "    center=0,\n",
    "    #     cmap=sns.diverging_palette(20, 220, n=200),\n",
    "    square=True,\n",
    "    annot=True,\n",
    "    annot_kws={\"size\": 14},\n",
    ")\n",
    "heat_map.set_xticklabels(\n",
    "    heat_map.get_xticklabels(), rotation=45, horizontalalignment=\"right\"\n",
    ")\n",
    "sns.set(font_scale=1.5)\n",
    "plt.savefig(\"27Al_color_map.png\", format=\"png\", bbox_inches=\"tight\")\n",
    "plt.show()"
   ],
   "outputs": [
    {
     "output_type": "display_data",
     "data": {
      "image/png": "[encoded data removed]",
      "text/plain": [
       "<Figure size 1368x1080 with 2 Axes>"
      ]
     },
     "metadata": {}
    }
   ],
   "metadata": {}
  },
  {
   "cell_type": "code",
   "execution_count": 54,
   "source": [
    "red_labels = nmr_struc_data[\n",
    "    (nmr_struc_data[\"DI\"] < 0.001) & (nmr_struc_data[\"CQ\"] > 10)\n",
    "]"
   ],
   "outputs": [],
   "metadata": {}
  },
  {
   "cell_type": "code",
   "execution_count": 55,
   "source": [
    "fig, ax = plt.subplots(figsize=[10, 6])\n",
    "sns.scatterplot(nmr_struc_data[\"DI\"], nmr_struc_data[\"CQ\"], ax=ax)\n",
    "sns.scatterplot(red_labels[\"DI\"], red_labels[\"CQ\"], ax=ax, color=\"red\")\n",
    "plt.show()"
   ],
   "outputs": [
    {
     "output_type": "stream",
     "name": "stderr",
     "text": [
      "/home/he/anaconda3/envs/27al_ml/lib/python3.8/site-packages/seaborn/_decorators.py:36: FutureWarning: Pass the following variables as keyword args: x, y. From version 0.12, the only valid positional argument will be `data`, and passing other arguments without an explicit keyword will result in an error or misinterpretation.\n",
      "  warnings.warn(\n",
      "/home/he/anaconda3/envs/27al_ml/lib/python3.8/site-packages/seaborn/_decorators.py:36: FutureWarning: Pass the following variables as keyword args: x, y. From version 0.12, the only valid positional argument will be `data`, and passing other arguments without an explicit keyword will result in an error or misinterpretation.\n",
      "  warnings.warn(\n"
     ]
    },
    {
     "output_type": "display_data",
     "data": {
      "image/png": "[encoded data removed]",
      "text/plain": [
       "<Figure size 720x432 with 1 Axes>"
      ]
     },
     "metadata": {}
    }
   ],
   "metadata": {}
  },
  {
   "cell_type": "code",
   "execution_count": 56,
   "source": [
    "fig, ax = plt.subplots(figsize=[10, 6])\n",
    "sns.scatterplot(nmr_struc_data[\"fbl_std\"], nmr_struc_data[\"CQ\"], ax=ax)\n",
    "sns.scatterplot(red_labels[\"fbl_std\"], red_labels[\"CQ\"], ax=ax, color=\"red\")\n",
    "plt.show()"
   ],
   "outputs": [
    {
     "output_type": "stream",
     "name": "stderr",
     "text": [
      "/home/he/anaconda3/envs/27al_ml/lib/python3.8/site-packages/seaborn/_decorators.py:36: FutureWarning: Pass the following variables as keyword args: x, y. From version 0.12, the only valid positional argument will be `data`, and passing other arguments without an explicit keyword will result in an error or misinterpretation.\n",
      "  warnings.warn(\n",
      "/home/he/anaconda3/envs/27al_ml/lib/python3.8/site-packages/seaborn/_decorators.py:36: FutureWarning: Pass the following variables as keyword args: x, y. From version 0.12, the only valid positional argument will be `data`, and passing other arguments without an explicit keyword will result in an error or misinterpretation.\n",
      "  warnings.warn(\n"
     ]
    },
    {
     "output_type": "display_data",
     "data": {
      "image/png": "[encoded data removed]",
      "text/plain": [
       "<Figure size 720x432 with 1 Axes>"
      ]
     },
     "metadata": {}
    }
   ],
   "metadata": {}
  },
  {
   "cell_type": "code",
   "execution_count": 57,
   "source": [
    "# normalize the data\n",
    "normalized_data = (nmr_struc_data - nmr_struc_data.min()) / (\n",
    "    nmr_struc_data.max() - nmr_struc_data.min()\n",
    ")\n",
    "normalized_data\n",
    "\n",
    "# split y and x\n",
    "y = normalized_data[\"CQ\"]\n",
    "x = normalized_data.loc[:, \"fbl_average\":]\n",
    "\n",
    "# train test split\n",
    "from sklearn.model_selection import train_test_split\n",
    "\n",
    "X_train, X_test, y_train, y_test = train_test_split(\n",
    "    x, y, test_size=0.2, random_state=10\n",
    ")\n",
    "\n",
    "print(f\"Size of train set: {len(X_train)}\\nSize of test set: {len(X_test)}\")"
   ],
   "outputs": [
    {
     "output_type": "stream",
     "name": "stdout",
     "text": [
      "Size of train set: 6464\n",
      "Size of test set: 1617\n"
     ]
    }
   ],
   "metadata": {}
  },
  {
   "cell_type": "code",
   "execution_count": 58,
   "source": [
    "%%time\n",
    "# Grid Search for Algorithm Tuning\n",
    "from sklearn.ensemble import RandomForestRegressor\n",
    "from sklearn.model_selection import RandomizedSearchCV\n",
    "from scipy.stats import uniform, randint\n",
    "import math\n",
    "\n",
    "# create and fit a kernel ridge regression model\n",
    "model = RandomForestRegressor(random_state=10, n_estimators=100)\n",
    "\n",
    "param = {\"n_estimators\": randint(low=0, high=200), \"max_depth\": uniform(10, 100)}\n",
    "\n",
    "grid = RandomizedSearchCV(\n",
    "    estimator=model,\n",
    "    param_distributions=param,\n",
    "    n_iter=10,\n",
    "    scoring=[\"neg_mean_absolute_error\", \"neg_mean_squared_error\", \"r2\"],\n",
    "    refit=\"r2\",\n",
    "    cv=5,\n",
    "    n_jobs=8,\n",
    ")\n",
    "grid.fit(X_train, y_train)\n",
    "# summarize the results of the grid search\n",
    "\n",
    "train_r2 = np.sort(grid.cv_results_[\"mean_test_r2\"])[-1]\n",
    "train_RMSE = math.sqrt(\n",
    "    -np.sort(grid.cv_results_[\"mean_test_neg_mean_squared_error\"])[-1]\n",
    ")\n",
    "train_MAE = -np.sort(grid.cv_results_[\"mean_test_neg_mean_absolute_error\"])[-1]\n",
    "\n",
    "print(\n",
    "    \"training score: R2 = {}, RMSE = {}, MAE = {}\".format(\n",
    "        train_r2, train_RMSE, train_MAE\n",
    "    )\n",
    ")\n",
    "print(grid.best_estimator_)"
   ],
   "outputs": [
    {
     "output_type": "stream",
     "name": "stdout",
     "text": [
      "training score: R2 = 0.9587312728747903, RMSE = 0.024314364263057678, MAE = 0.010216074148494033\n",
      "RandomForestRegressor(max_depth=26.18912492629129, n_estimators=40,\n",
      "                      random_state=10)\n",
      "CPU times: user 11 s, sys: 1.17 s, total: 12.2 s\n",
      "Wall time: 3min 53s\n"
     ]
    }
   ],
   "metadata": {}
  },
  {
   "cell_type": "code",
   "execution_count": 59,
   "source": [
    "%%time\n",
    "# Predict using kernel ridge\n",
    "from sklearn.metrics import r2_score, mean_squared_error, mean_absolute_error\n",
    "import seaborn as sns\n",
    "\n",
    "sns.set()\n",
    "import matplotlib.pyplot as plt\n",
    "from datetime import datetime\n",
    "\n",
    "\n",
    "y_rf = grid.predict(X_test)\n",
    "\n",
    "test_r2 = r2_score(y_test, y_rf)\n",
    "test_RMSE = math.sqrt(mean_squared_error(y_test, y_rf))\n",
    "test_MAE = mean_absolute_error(y_test, y_rf)\n",
    "\n",
    "print(\"test scores: R2 = {}, RMSE = {}, MAE = {}\".format(test_r2, test_RMSE, test_MAE))\n",
    "\n",
    "\n",
    "# write down the date for png save\n",
    "predict_result = {}\n",
    "predict_result[\"VASP_CQ\"] = y_test\n",
    "predict_result[\"RF_predicted_CQ\"] = y_rf\n",
    "predict_result = pd.DataFrame(predict_result)\n",
    "\n",
    "# datetime object containing current date and time\n",
    "now = datetime.now() \n",
    "# dd/mm/YY H:M:S\n",
    "dt_string = now.strftime(\"%d-%m-%Y_%H-%M-%S\")\n",
    "print(\"date and time:\",dt_string)\n",
    "\n",
    "plt.figure(figsize=[12, 6])\n",
    "plt.title(\"Random forest regression of 27Al CQ\")\n",
    "plot = sns.scatterplot(\n",
    "    x=\"RF_predicted_CQ\",\n",
    "    y=\"VASP_CQ\",\n",
    "    data=predict_result[[\"RF_predicted_CQ\", \"VASP_CQ\"]],\n",
    ")\n",
    "plt.savefig('./figures/27Al_RF_testSet_{}.png'.format(dt_string))\n",
    "plt.show()"
   ],
   "outputs": [
    {
     "output_type": "stream",
     "name": "stdout",
     "text": [
      "test scores: R2 = 0.9716230880588167, RMSE = 0.020113427772642512, MAE = 0.008088444522258462\n",
      "date and time: 21-09-2021_16-07-56\n"
     ]
    },
    {
     "output_type": "display_data",
     "data": {
      "image/png": "[encoded data removed]",
      "text/plain": [
       "<Figure size 864x432 with 1 Axes>"
      ]
     },
     "metadata": {}
    },
    {
     "output_type": "stream",
     "name": "stdout",
     "text": [
      "CPU times: user 734 ms, sys: 625 ms, total: 1.36 s\n",
      "Wall time: 456 ms\n"
     ]
    }
   ],
   "metadata": {}
  },
  {
   "cell_type": "code",
   "execution_count": 44,
   "source": [
    "import pickle\n",
    "# save the model to disk\n",
    "dir_ = \"./models/best/\"\n",
    "filename = 'Best_model_09212021.sav'\n",
    "pickle.dump(grid, open(dir+filename, 'wb'))"
   ],
   "outputs": [],
   "metadata": {}
  },
  {
   "cell_type": "markdown",
   "source": [
    "## Apply the machine learning model to the benchmarking set"
   ],
   "metadata": {}
  },
  {
   "cell_type": "code",
   "execution_count": null,
   "source": [
    "import os\n",
    "from pymatgen.core.structure import Structure as st"
   ],
   "outputs": [],
   "metadata": {}
  },
  {
   "cell_type": "code",
   "execution_count": null,
   "source": [
    "# get a list of all structure file name\n",
    "cif_dir = os.getcwd() + \"/27Al_cif_files/\"\n",
    "cif_list = sorted(os.listdir(cif_dir), key=lambda x: int(x.split(\"_\")[0]))\n",
    "cif_list"
   ],
   "outputs": [],
   "metadata": {
    "collapsed": true,
    "jupyter": {
     "outputs_hidden": true
    }
   }
  },
  {
   "cell_type": "code",
   "execution_count": null,
   "source": [
    "# open the csv file that contains nmr infos\n",
    "with open(\"Al Database_033021.csv\", \"r\") as file:\n",
    "    nmr_data = pd.read_csv(file)\n",
    "nmr_data = nmr_data[nmr_data[\"Structure Name\"].notna()]"
   ],
   "outputs": [],
   "metadata": {}
  },
  {
   "cell_type": "code",
   "execution_count": null,
   "source": [
    "nmr_data"
   ],
   "outputs": [],
   "metadata": {}
  },
  {
   "cell_type": "code",
   "execution_count": null,
   "source": [
    "# group NMR parameters of sites based on the structure they belong to.\n",
    "name = \"Berlinite\"\n",
    "nmr_data_dict = {}\n",
    "for row in nmr_data.iterrows():\n",
    "    v = {\n",
    "        \"diso\": row[1][\"CASTEP dISO (absolute)\"],\n",
    "        \"etaQ\": row[1][\"CASTEP etaQ\"],\n",
    "        \"CQ\": row[1][\"CASTEP CQ (MHz)\"],\n",
    "        \"site_index\": int(row[1][\"site_index\"]),\n",
    "    }\n",
    "    if row[1][\"Structure Name\"] == name:\n",
    "        nmr_data_dict.setdefault(name, []).append(v)\n",
    "    else:\n",
    "        name = row[1][\"Structure Name\"]\n",
    "        nmr_data_dict.setdefault(name, []).append(v)\n",
    "nmr_data_dict[\"Kyanite\"]"
   ],
   "outputs": [],
   "metadata": {}
  },
  {
   "cell_type": "code",
   "execution_count": null,
   "source": [
    "benchmark = []\n",
    "for cif in cif_list:\n",
    "    name = cif.split(\".\")[0].split(\"_\")[1]\n",
    "    index = cif.split(\".\")[0].split(\"_\")[0]\n",
    "    print(index, \"_\", name)\n",
    "    structure = st.from_file(os.getcwd() + \"/27Al_cif_files/\" + cif)\n",
    "    benchmark.append({\"structure\": structure, \"tensors\": nmr_data_dict[name]})"
   ],
   "outputs": [],
   "metadata": {
    "collapsed": true,
    "jupyter": {
     "outputs_hidden": true
    }
   }
  },
  {
   "cell_type": "code",
   "execution_count": null,
   "source": [
    "n_coord_benchmark = get_n_coord_tensors(benchmark)\n",
    "print(len(n_coord_benchmark))"
   ],
   "outputs": [],
   "metadata": {}
  },
  {
   "cell_type": "code",
   "execution_count": null,
   "source": [
    "al_o_benchmark = get_Al_O_structs(n_coord_benchmark)\n",
    "print(len(al_o_benchmark))"
   ],
   "outputs": [],
   "metadata": {}
  },
  {
   "cell_type": "code",
   "execution_count": null,
   "source": [
    "nmr_struc_benchmark = zip_nmr_structure(al_o_benchmark)"
   ],
   "outputs": [],
   "metadata": {}
  },
  {
   "cell_type": "code",
   "execution_count": null,
   "source": [
    "nmr_struc_benchmark"
   ],
   "outputs": [],
   "metadata": {}
  },
  {
   "cell_type": "markdown",
   "source": [
    "### 2. Categorization\n",
    "1. Based on distribution of diso (outliers)\n",
    "2. Based on atom species\n",
    "3. Based on coordication numbers\n",
    "4. Based on whether 3D and has floating species"
   ],
   "metadata": {}
  },
  {
   "cell_type": "markdown",
   "source": [
    "1. Outliers on diso"
   ],
   "metadata": {}
  },
  {
   "cell_type": "code",
   "execution_count": null,
   "source": [
    "def getDisoList(structures_tensors):\n",
    "    diso_list = []\n",
    "    for structure_tensor in structures_tensors:\n",
    "        for tensor in structure_tensor[\"tensors\"]:\n",
    "            diso_list.append(tensor[\"diso\"])\n",
    "    return diso_list\n",
    "\n",
    "\n",
    "# view the distribution of diso\n",
    "diso_list = getDisoList(structures_tensors)\n",
    "\n",
    "plt.figure()\n",
    "plt.title(\"Distribution of diso\")\n",
    "sns.distplot(diso_list)\n",
    "plt.show()\n",
    "\n",
    "# determine the upper fence and lowers fence based on theory of box plot\n",
    "median = np.median(diso_list)\n",
    "upper_quartile = np.percentile(diso_list, 75)\n",
    "lower_quartile = np.percentile(diso_list, 25)\n",
    "\n",
    "iqr = upper_quartile - lower_quartile\n",
    "upper_outer_fence = upper_quartile + 3 * iqr\n",
    "lower_outer_fence = lower_quartile - 3 * iqr\n",
    "\n",
    "print(\"upper outer fence:\", upper_outer_fence, \"lower outer fence\", lower_outer_fence)\n",
    "\n",
    "# use the upper and lower fence to group the outliers and inliers\n",
    "outliers = []\n",
    "inliers = []\n",
    "for structure_tensor in structures_tensors:\n",
    "    lenth = len(structure_tensor[\"tensors\"])\n",
    "    count = 0\n",
    "    for tensor in structure_tensor[\"tensors\"]:\n",
    "        if tensor[\"diso\"] < upper_outer_fence and tensor[\"diso\"] > lower_outer_fence:\n",
    "            count += 1\n",
    "    if count == lenth:\n",
    "        inliers.append(structure_tensor)\n",
    "    else:\n",
    "        outliers.append(structure_tensor)\n",
    "print(len(outliers))\n",
    "print(len(inliers))"
   ],
   "outputs": [],
   "metadata": {}
  },
  {
   "cell_type": "code",
   "execution_count": null,
   "source": [
    "# get rid of structures with weird elements\n",
    "high_period_elements = [\n",
    "    \"Cs\",\n",
    "    \"Ba\",\n",
    "    \"La\",\n",
    "    \"Hf\",\n",
    "    \"Ta\",\n",
    "    \"W\",\n",
    "    \"Re\",\n",
    "    \"Os\",\n",
    "    \"Ir\",\n",
    "    \"Pt\",\n",
    "    \"Au\",\n",
    "    \"Hg\",\n",
    "    \"Tl\",\n",
    "    \"Pb\",\n",
    "    \"Bi\",\n",
    "    \"Po\",\n",
    "    \"At\",\n",
    "    \"Rn\" \"Fr\",\n",
    "    \"Ra\",\n",
    "    \"Ac\",\n",
    "    \"Rf\",\n",
    "    \"Db\",\n",
    "    \"Sg\",\n",
    "    \"Bh\",\n",
    "    \"Hs\",\n",
    "    \"Mt\",\n",
    "    \"Ds\",\n",
    "    \"Rg\" \"Ce\",\n",
    "    \"Pr\",\n",
    "    \"Nd\",\n",
    "    \"Pm\",\n",
    "    \"Sm\",\n",
    "    \"Eu\",\n",
    "    \"Gd\",\n",
    "    \"Tb\",\n",
    "    \"Dy\",\n",
    "    \"Ho\",\n",
    "    \"Er\",\n",
    "    \"Tm\",\n",
    "    \"Yb\",\n",
    "    \"Lu\" \"Th\",\n",
    "    \"Pa\",\n",
    "    \"U\",\n",
    "    \"Np\",\n",
    "    \"Pu\",\n",
    "    \"Am\",\n",
    "    \"Cm\",\n",
    "    \"Bk\",\n",
    "    \"Cf\",\n",
    "    \"Es\",\n",
    "    \"Fm\",\n",
    "    \"Md\",\n",
    "    \"No\",\n",
    "    \"Lr\",\n",
    "]\n",
    "weird_elements = [\n",
    "    \"La\",\n",
    "    \"Ce\",\n",
    "    \"Nd\",\n",
    "    \"Sm\",\n",
    "    \"Er\",\n",
    "    \"U\",\n",
    "    \"Yb\",\n",
    "    \"Tb\",\n",
    "    \"Dy\",\n",
    "    \"Pr\",\n",
    "    \"Tm\",\n",
    "    \"Ho\",\n",
    "    \"Th\",\n",
    "    \"Gd\",\n",
    "    \"Eu\",\n",
    "    \"Pu\",\n",
    "    \"Np\",\n",
    "    \"Pa\",\n",
    "    \"Pm\",\n",
    "    \"Ac\",\n",
    "]\n",
    "excluded_elements = set(\n",
    "    #     high_period_elements+\n",
    "    weird_elements\n",
    ")\n",
    "i = 0\n",
    "struct_with_regular_elements = []\n",
    "for structure_tensor in inliers:\n",
    "    compo = get_composition(structure_tensor[\"structure\"])\n",
    "    if list(set(compo) & excluded_elements) == []:\n",
    "        struct_with_regular_elements.append(structure_tensor)\n",
    "inliers = struct_with_regular_elements\n",
    "print(len(inliers))"
   ],
   "outputs": [],
   "metadata": {}
  },
  {
   "cell_type": "code",
   "execution_count": null,
   "source": [
    "# view the distribution of diso for inliers and outliers\n",
    "diso_out_list = getDisoList(outliers)\n",
    "diso_in_list = getDisoList(inliers)\n",
    "\n",
    "fig, axes = plt.subplots(1, 2, figsize=[12, 6], sharey=True)\n",
    "sns.distplot(diso_out_list, ax=axes[0])\n",
    "sns.distplot(diso_in_list, ax=axes[1])\n",
    "fig.suptitle(\"Distribution of diso\")\n",
    "axes[0].title.set_text(\"Outliers\")\n",
    "axes[1].title.set_text(\"Inliers\")\n",
    "plt.show()"
   ],
   "outputs": [],
   "metadata": {}
  },
  {
   "cell_type": "markdown",
   "source": [
    "2. atom species"
   ],
   "metadata": {}
  },
  {
   "cell_type": "code",
   "execution_count": null,
   "source": [
    "# Atom Species\n",
    "def get_species(data):\n",
    "    structures_tensors_compositon_sorted = {}\n",
    "    occur = []\n",
    "    for structure_tensor in data:\n",
    "        compo = get_composition(structure_tensor[\"structure\"])\n",
    "        # print(compo)\n",
    "        occur.extend(compo)\n",
    "        species = list(set(occur))\n",
    "        structures_tensors_compositon_sorted.setdefault(str(compo), []).append(\n",
    "            structure_tensor\n",
    "        )\n",
    "    return (occur, species, structures_tensors_compositon_sorted)\n",
    "\n",
    "\n",
    "occur, species, structures_tensors_compositon_sorted = get_species(inliers)"
   ],
   "outputs": [],
   "metadata": {}
  },
  {
   "cell_type": "code",
   "execution_count": null,
   "source": [
    "# rank the atoms based on occurance\n",
    "occur_count = {}\n",
    "for atom in occur:\n",
    "    occur_count.setdefault(str(atom), []).append(atom)\n",
    "\n",
    "for k, v in occur_count.items():\n",
    "    occur_count[k] = len(v)\n",
    "occur_count_sorted = sorted(occur_count.items(), key=lambda x: x[1], reverse=True)\n",
    "len(occur_count_sorted)"
   ],
   "outputs": [],
   "metadata": {
    "scrolled": true
   }
  },
  {
   "cell_type": "code",
   "execution_count": null,
   "source": [
    "def structuresWithFirstNAtoms(N, rank, structures_tensors):\n",
    "    \"\"\"\n",
    "    A function that collect structures with atoms only within the set of first N most popular atoms.\n",
    "\n",
    "    PARAM:\n",
    "    N: define the first N most popular atoms to choose from\n",
    "    rank: atom popularity ranking file (occur_count_sorted)\n",
    "    structures_tensors: the original structure tensor combination file, use inliers is preferred.\n",
    "    \"\"\"\n",
    "    atom_list = [k[0] for k in rank[:N]]\n",
    "    print(\"First {} most popular atoms:\".format(N), atom_list)\n",
    "    structure_tensor_N = []\n",
    "    for structure_tensor in structures_tensors:\n",
    "        compo = get_composition(structure_tensor[\"structure\"])\n",
    "        # print(type(compo))\n",
    "        if set(compo).issubset(set(atom_list)):\n",
    "            structure_tensor_N.append(structure_tensor)\n",
    "    print(\n",
    "        \"Number of structure with only fist N popular atoms:\", len(structure_tensor_N)\n",
    "    )\n",
    "    return structure_tensor_N"
   ],
   "outputs": [],
   "metadata": {}
  },
  {
   "cell_type": "code",
   "execution_count": null,
   "source": [
    "# composition=[]\n",
    "# for k,v in structures_tensors_compositon_sorted.items():\n",
    "#     composition.append((k,len(v)))\n",
    "# composition=np.array(composition)\n",
    "# composition = pd.DataFrame(composition.reshape((247,8)))\n",
    "# composition.columns = ['composition','number of structures','composition','number of structures',\n",
    "#                        'composition','number of structures','composition','number of structures']\n",
    "# composition"
   ],
   "outputs": [],
   "metadata": {}
  },
  {
   "cell_type": "markdown",
   "source": [
    "3. Get only Al-O bonding systems"
   ],
   "metadata": {}
  },
  {
   "cell_type": "code",
   "execution_count": null,
   "source": [
    "import warnings"
   ],
   "outputs": [],
   "metadata": {}
  },
  {
   "cell_type": "code",
   "execution_count": null,
   "source": [
    "warnings.filterwarnings(\"once\")"
   ],
   "outputs": [],
   "metadata": {}
  },
  {
   "cell_type": "code",
   "execution_count": null,
   "source": [
    "from pymatgen.core.periodic_table import Element\n",
    "\n",
    "\n",
    "def get_Al_O_structs(data):\n",
    "    \"\"\"\n",
    "    Get all the structures whose Al is only bonded to O\n",
    "\n",
    "    \"\"\"\n",
    "    crystalnn = CrystalNN()\n",
    "    Al_O_struc = []\n",
    "    data_copy = copy.deepcopy(data)\n",
    "    for compound in tqdm(data_copy):\n",
    "        i = 0\n",
    "        for tensor in compound[\"tensors\"]:\n",
    "            nn_info = crystalnn.get_nn_info(\n",
    "                compound[\"structure\"], int(tensor[\"site_index\"])\n",
    "            )\n",
    "            neighbours = []\n",
    "            for site_info in nn_info:\n",
    "                neighbours.append(site_info[\"site\"].specie)\n",
    "            if set(neighbours) == {Element(\"O\")}:\n",
    "                i += 1\n",
    "        if i == len(compound[\"tensors\"]):\n",
    "            Al_O_struc.append(compound)\n",
    "    return Al_O_struc"
   ],
   "outputs": [],
   "metadata": {}
  },
  {
   "cell_type": "code",
   "execution_count": null,
   "source": [
    "Al_O_structs = get_Al_O_structs(inliers)"
   ],
   "outputs": [],
   "metadata": {
    "scrolled": true
   }
  },
  {
   "cell_type": "code",
   "execution_count": null,
   "source": [
    "len(inliers)"
   ],
   "outputs": [],
   "metadata": {}
  },
  {
   "cell_type": "code",
   "execution_count": null,
   "source": [
    "len(Al_O_structs)"
   ],
   "outputs": [],
   "metadata": {}
  },
  {
   "cell_type": "code",
   "execution_count": null,
   "source": [
    "from StructureToCif import struc_to_cif\n",
    "\n",
    "struc_to_cif(test[10][\"structure\"])"
   ],
   "outputs": [],
   "metadata": {}
  },
  {
   "cell_type": "markdown",
   "source": [
    "4. Coordination number"
   ],
   "metadata": {}
  },
  {
   "cell_type": "code",
   "execution_count": null,
   "source": [
    "def get_Ncoord(data):\n",
    "    crystalnn = CrystalNN()\n",
    "    data_copy = copy.deepcopy(data)\n",
    "\n",
    "    for compound in tqdm(data_copy):\n",
    "        tensor_Ncoord = []\n",
    "        for tensor in compound[\"tensors\"]:\n",
    "            N = crystalnn.get_cn(compound[\"structure\"], int(tensor[\"site_index\"]))\n",
    "            nn_info = crystalnn.get_nn_info(\n",
    "                compound[\"structure\"], int(tensor[\"site_index\"])\n",
    "            )\n",
    "            tensor[\"first_shell_atoms\"] = nn_info\n",
    "            tensor_Ncoord.append(tensor)\n",
    "        compound[\"{}coord_tensor\".format(N)] = tensor_Ncoord\n",
    "    return data_copy"
   ],
   "outputs": [],
   "metadata": {}
  },
  {
   "cell_type": "code",
   "execution_count": null,
   "source": [
    "structure_tensor_Ncoord = get_Ncoord(inliers)"
   ],
   "outputs": [],
   "metadata": {}
  },
  {
   "cell_type": "code",
   "execution_count": null,
   "source": [
    "structure_tensor_sortbycoord = {}\n",
    "for N in range(15):\n",
    "    for compound in structure_tensor_Ncoord:\n",
    "        if \"{}coord_tensor\".format(str(N)) in compound.keys():\n",
    "            if len(compound[\"tensors\"]) == len(\n",
    "                compound[\"{}coord_tensor\".format(str(N))]\n",
    "            ):\n",
    "                structure_tensor_sortbycoord.setdefault(str(N), []).append(compound)"
   ],
   "outputs": [],
   "metadata": {}
  },
  {
   "cell_type": "code",
   "execution_count": null,
   "source": [
    "for k, v in structure_tensor_sortbycoord.items():\n",
    "    print(k, len(v))"
   ],
   "outputs": [],
   "metadata": {}
  },
  {
   "cell_type": "markdown",
   "source": [
    "5. Whether 3D and has floating species"
   ],
   "metadata": {}
  },
  {
   "cell_type": "code",
   "execution_count": null,
   "source": [
    "# from dim_filter import is_3D, has_floating_species\n",
    "\n",
    "# not3D_struct = []\n",
    "# layered_struct=[]\n",
    "# for item in tqdm(inliers):\n",
    "#     structure = item['structure']\n",
    "#     if not is_3D(structure):\n",
    "#         not3D_struct.append(item)\n",
    "#         continue\n",
    "#     if has_floating_species(structure):\n",
    "#         layered_struct.append(item)\n",
    "#         continue"
   ],
   "outputs": [],
   "metadata": {
    "scrolled": true
   }
  },
  {
   "cell_type": "code",
   "execution_count": null,
   "source": [
    "# print(len(not3D_struct),len(layered_struct))"
   ],
   "outputs": [],
   "metadata": {}
  },
  {
   "cell_type": "code",
   "execution_count": null,
   "source": [
    "# inliers_t = []\n",
    "# for item in inliers:\n",
    "#     if item not in not3D_struct+layered_struct:\n",
    "#         inliers_t.append(item)\n",
    "# inliers = inliers_t\n",
    "# len(inliers)"
   ],
   "outputs": [],
   "metadata": {}
  },
  {
   "cell_type": "markdown",
   "source": [
    "6. Neighbour study"
   ],
   "metadata": {}
  },
  {
   "cell_type": "code",
   "execution_count": null,
   "source": [
    "from pymatgen.core.periodic_table import Element\n",
    "\n",
    "\n",
    "def get_neighbours(data, tensor_type=\"tensors\"):\n",
    "    \"\"\"\n",
    "    Get neighbours info for each Al site and add the info to \"neighbours\" tag in tensor dict\n",
    "\n",
    "    tensor_type: specify the type of tensor to consider here, can be \"tensors\"(default), or \"Ncoord_tensor\" (N = 0~14)\n",
    "\n",
    "    \"\"\"\n",
    "    crystalnn = CrystalNN()\n",
    "    #     data_copy = copy.deepcopy(data)\n",
    "    for compound in tqdm(data):\n",
    "        i = 0\n",
    "        for tensor in compound[tensor_type]:\n",
    "            nn_info = crystalnn.get_nn_info(\n",
    "                compound[\"structure\"], int(tensor[\"site_index\"])\n",
    "            )\n",
    "            neighbours = []\n",
    "            for site_info in nn_info:\n",
    "                neighbours.append(site_info)\n",
    "            tensor[\"neighbours\"] = neighbours\n",
    "    return data\n",
    "\n",
    "\n",
    "def get_neighbour_distance_distribution(data, tensor_type=\"tensors\"):\n",
    "    distance_list = []\n",
    "    for compound in tqdm(data):\n",
    "        for tensor in compound[tensor_type]:\n",
    "            Al_site_ind = tensor[\"site_index\"]\n",
    "            for site in tensor[\"neighbours\"]:\n",
    "                neighbour_site_ind = site[\"site_index\"]\n",
    "                distance = compound[\"structure\"].get_distance(\n",
    "                    Al_site_ind, neighbour_site_ind\n",
    "                )\n",
    "                distance_list.append(distance)\n",
    "    return distance_list"
   ],
   "outputs": [],
   "metadata": {}
  },
  {
   "cell_type": "code",
   "execution_count": null,
   "source": [
    "distance_list = get_neighbour_distance_distribution(get_neighbours(Al_O_structs))"
   ],
   "outputs": [],
   "metadata": {}
  },
  {
   "cell_type": "code",
   "execution_count": null,
   "source": [
    "plt.figure(figsize=(15, 10))\n",
    "plt.xlim(-0.5, 4.5)\n",
    "# plt.ylim(0,7)\n",
    "sns.distplot(distance_list, kde=False)"
   ],
   "outputs": [],
   "metadata": {}
  },
  {
   "cell_type": "code",
   "execution_count": null,
   "source": [
    "for k, v in structure_tensor_sortbycoord.items():\n",
    "    get_neighbours(v, \"{}coord_tensor\".format(k))"
   ],
   "outputs": [],
   "metadata": {}
  },
  {
   "cell_type": "code",
   "execution_count": null,
   "source": [
    "plt.figure(figsize=(15, 10))\n",
    "plt.xlim(-0.5, 4.5)\n",
    "for k, v in structure_tensor_sortbycoord.items():\n",
    "    distance_list_coordnum = get_neighbour_distance_distribution(\n",
    "        v, \"{}coord_tensor\".format(k)\n",
    "    )\n",
    "    sns.distplot(\n",
    "        distance_list_coordnum,\n",
    "        label=\"{}coord_tensor\".format(k),\n",
    "        axlabel=\"Bond distance\",\n",
    "        kde=False,\n",
    "    )\n",
    "    plt.legend()"
   ],
   "outputs": [],
   "metadata": {}
  },
  {
   "cell_type": "code",
   "execution_count": null,
   "source": [
    "structure_tensor_sortbycoord_partial = {\n",
    "    key: structure_tensor_sortbycoord[key] for key in [\"4\", \"5\", \"6\"]\n",
    "}\n",
    "plt.figure(figsize=(15, 10))\n",
    "plt.xlim(-0.5, 4.5)\n",
    "# plt.ylim(0,7)\n",
    "for k, v in structure_tensor_sortbycoord_partial.items():\n",
    "    distance_list_coordnum = get_neighbour_distance_distribution(\n",
    "        v, \"{}coord_tensor\".format(k)\n",
    "    )\n",
    "    sns.distplot(\n",
    "        distance_list_coordnum,\n",
    "        label=\"{}coord_tensor\".format(k),\n",
    "        axlabel=\"Bond distance\",\n",
    "        kde=False,\n",
    "    )\n",
    "    plt.legend()"
   ],
   "outputs": [],
   "metadata": {}
  },
  {
   "cell_type": "markdown",
   "source": [
    "7. study of atomic properties"
   ],
   "metadata": {}
  },
  {
   "cell_type": "code",
   "execution_count": null,
   "source": [
    "AtomData"
   ],
   "outputs": [],
   "metadata": {}
  },
  {
   "cell_type": "code",
   "execution_count": null,
   "source": [
    "# get neighbours info for all the inliers\n",
    "inliers = get_neighbours(inliers)"
   ],
   "outputs": [],
   "metadata": {
    "scrolled": true
   }
  },
  {
   "cell_type": "code",
   "execution_count": null,
   "source": [
    "type(AtomData.loc[\"H\", [\"s-electrons\", \"d-electrons\"]])"
   ],
   "outputs": [],
   "metadata": {}
  },
  {
   "cell_type": "code",
   "execution_count": null,
   "source": [
    "inliers[0]"
   ],
   "outputs": [],
   "metadata": {
    "scrolled": true
   }
  },
  {
   "cell_type": "code",
   "execution_count": null,
   "source": [
    "def get_atomproperty_discriptor(data, atom_data):\n",
    "    data_copy = copy.deepcopy(data)\n",
    "    output_data = []\n",
    "    nmr_param_data = []\n",
    "    for compound in tqdm(data_copy):\n",
    "        for nmr_data in compound[\"tensors\"]:\n",
    "            if nmr_data[\"neighbours\"] != []:\n",
    "                nmr_param = nmr_data[\"CQ\"]\n",
    "                kron_product_sum = np.array([])\n",
    "                site_param_sum = pd.Series()\n",
    "                bond_length_list = []\n",
    "                for site in nmr_data[\"neighbours\"]:\n",
    "\n",
    "                    site_coord = np.array(\n",
    "                        [\n",
    "                            site[\"site\"].x,\n",
    "                            site[\"site\"].y,\n",
    "                            site[\"site\"].z,\n",
    "                        ]\n",
    "                    )\n",
    "\n",
    "                    site_name = site[\"site\"].species_string\n",
    "\n",
    "                    site_param = atom_data.loc[\n",
    "                        site_name, \"standard atomic weight\":\"polarizability\"\n",
    "                    ]\n",
    "\n",
    "                    bond_length = compound[\"structure\"].get_distance(\n",
    "                        site[\"site_index\"], nmr_data[\"site_index\"]\n",
    "                    )\n",
    "\n",
    "                    kron_product = np.kron(site_param, site_coord)\n",
    "\n",
    "                    if kron_product_sum.any() == False:\n",
    "                        kron_product_sum = kron_product\n",
    "                    else:\n",
    "                        kron_product_sum = kron_product_sum + kron_product\n",
    "\n",
    "                    if site_param_sum.any() == False:\n",
    "                        site_param_sum = site_param\n",
    "                    else:\n",
    "                        site_param_sum = site_param_sum + site_param\n",
    "\n",
    "                    bond_length_list.append(bond_length)\n",
    "\n",
    "                #                 print(\"neighbour!!!!\", site_name,kron_product,site_param,site_coord)\n",
    "                site_param_partial = pd.Series(\n",
    "                    {  #'standard atomic weight':np.linalg.norm(kron_product_sum[0:3]/site_param_sum['standard atomic weight']),\n",
    "                        \"electronegativity_COM\": np.linalg.norm(\n",
    "                            kron_product_sum[3:6] / site_param_sum[\"electronegativity\"]\n",
    "                        ),\n",
    "                        \"average_bond_length\": sum(bond_length_list)\n",
    "                        / len(bond_length_list)\n",
    "                        #'first ionization energy':np.linalg.norm(kron_product_sum[6:9]/site_param_sum['first ionization energy']),\n",
    "                        #'first electron affinity':np.linalg.norm(kron_product_sum[9:12]/site_param_sum['first electron affinity']),\n",
    "                        #'polarizability':np.linalg.norm(kron_product_sum[12:15]/site_param_sum['polarizability'])\n",
    "                    }\n",
    "                )\n",
    "                site_param_output = pd.concat([site_param_partial, site_param_sum])\n",
    "                # print(site_param_output)\n",
    "                output_data.append(site_param_output)\n",
    "                nmr_param_data.append(nmr_param)\n",
    "    return (pd.DataFrame(output_data), pd.DataFrame(nmr_param_data))"
   ],
   "outputs": [],
   "metadata": {}
  },
  {
   "cell_type": "code",
   "execution_count": null,
   "source": [
    "X, y = get_atomproperty_discriptor(inliers, AtomData)"
   ],
   "outputs": [],
   "metadata": {
    "scrolled": true
   }
  },
  {
   "cell_type": "code",
   "execution_count": null,
   "source": [
    "X"
   ],
   "outputs": [],
   "metadata": {}
  },
  {
   "cell_type": "markdown",
   "source": [
    "### 3. Get descriptor (SOAP, BPSF...)"
   ],
   "metadata": {}
  },
  {
   "cell_type": "markdown",
   "source": [
    "1. SOAP"
   ],
   "metadata": {}
  },
  {
   "cell_type": "code",
   "execution_count": null,
   "source": [
    "import soaplite\n",
    "from soaplite import genBasis\n",
    "from dscribe.descriptors import SOAP\n",
    "from itertools import combinations_with_replacement\n",
    "\n",
    "\n",
    "def getSOAPforStruct(structure_tensor, species, rCut=3, nMax=12, Lmax=9):\n",
    "\n",
    "    # Get structure and atom coord\n",
    "    atoms = ase.AseAtomsAdaptor.get_atoms(structure_tensor[\"structure\"])\n",
    "\n",
    "    # initialize SOAP\n",
    "    species = species\n",
    "    rcut = rCut\n",
    "    nmax = nMax\n",
    "    lmax = Lmax\n",
    "\n",
    "    # Setting up the SOAP descriptor\n",
    "    soap = SOAP(\n",
    "        species=species,\n",
    "        periodic=True,\n",
    "        rcut=rcut,\n",
    "        nmax=nmax,\n",
    "        lmax=lmax,\n",
    "        crossover=True,\n",
    "        sparse=True,\n",
    "    )\n",
    "\n",
    "    coord = []\n",
    "    for tensor in structure_tensor[\"tensors\"]:\n",
    "        coord.append(tensor[\"site_coord\"])\n",
    "\n",
    "    location_dict = {}\n",
    "    for combo in combinations_with_replacement(species, 2):\n",
    "        loc = soap.get_location(combo)\n",
    "        location_dict[combo] = loc\n",
    "\n",
    "    x = soap.create(atoms, positions=coord)\n",
    "\n",
    "    # SOAP solution: x\n",
    "    # print(\"soap size: \", np.shape(x))\n",
    "    return (x.tocsr(), location_dict)"
   ],
   "outputs": [],
   "metadata": {}
  },
  {
   "cell_type": "code",
   "execution_count": null,
   "source": [
    "def TensorSOAPcombo(structure_tensor, nmr_key, species):\n",
    "    x, loc = getSOAPforStruct(structure_tensor, species)\n",
    "    y = []\n",
    "    for tensor in structure_tensor[\"tensors\"]:\n",
    "        y.append([tensor[nmr_key], structure_tensor[\"structure\"], tensor[\"site_index\"]])\n",
    "    return (x, y, loc)"
   ],
   "outputs": [],
   "metadata": {}
  },
  {
   "cell_type": "code",
   "execution_count": null,
   "source": [
    "import math\n",
    "from scipy.sparse import coo_matrix, csr_matrix\n",
    "\n",
    "\n",
    "def SOAPkernel(X, Y):\n",
    "    numerator = (X).dot(Y.T)[0, 0]\n",
    "    denominator = math.sqrt(csr_matrix.dot(X, X.T)[0, 0] * csr_matrix.dot(Y, Y.T)[0, 0])\n",
    "    return (numerator / denominator) ** 2"
   ],
   "outputs": [],
   "metadata": {}
  },
  {
   "cell_type": "code",
   "execution_count": null,
   "source": [
    "def AlchemicalSOAP(X, y, loc):\n",
    "    with open(\n",
    "        \"/mnt/c/Users/wusha/Desktop/desktop/27Al machine learning/element-encoder/emodes_norm.csv\",\n",
    "        \"r\",\n",
    "    ) as file:\n",
    "        emodes = pd.read_csv(file, index_col=0, header=None)"
   ],
   "outputs": [],
   "metadata": {}
  },
  {
   "cell_type": "markdown",
   "source": [
    "2. BPSF"
   ],
   "metadata": {}
  },
  {
   "cell_type": "code",
   "execution_count": null,
   "source": [
    "# get gaussian symmetry fnx (BPSF)\n",
    "from matminer.featurizers.site import GaussianSymmFunc\n",
    "\n",
    "\n",
    "def getGaussianSymFnx(structure_tensor):\n",
    "    gaussiansym = GaussianSymmFunc(\n",
    "        etas_g2=[0.000357, 0.003214, 0.0028569, 0.124980, 1.428426],\n",
    "        etas_g4=[0.000357, 0.003214, 0.0028569, 0.124980, 1.428426],\n",
    "        zetas_g4=[1.0, 2.0, 3.0, 4.0, 5.0, 6.0, 7.0, 8.0, 9.0, 10.0],\n",
    "        gammas_g4=[1.0, -1.0],\n",
    "        cutoff=5.5,\n",
    "    )\n",
    "\n",
    "    # gaussiansym.feature_labels()\n",
    "    structure = structure_tensor[\"structure\"]\n",
    "\n",
    "    Al_site_idx = []\n",
    "    for tensor in structure_tensor[\"tensors\"]:\n",
    "        Al_site_idx.append(tensor[\"site_index\"])\n",
    "\n",
    "    gaussian_sym = []\n",
    "    for idx in Al_site_idx:\n",
    "        gaussian_sym_single = gaussiansym.featurize(structure, idx)\n",
    "        gaussian_sym.append(gaussian_sym_single)\n",
    "    return gaussian_sym"
   ],
   "outputs": [],
   "metadata": {}
  },
  {
   "cell_type": "code",
   "execution_count": null,
   "source": [
    "def TensorGaussianCombo(structure_tensor, nmr_key):\n",
    "    x = getGaussianSymFnx(structure_tensor)\n",
    "    y = []\n",
    "    for tensor in structure_tensor[\"tensors\"]:\n",
    "        y.append([tensor[nmr_key], structure_tensor[\"structure\"]])\n",
    "    return (x, y)"
   ],
   "outputs": [],
   "metadata": {}
  },
  {
   "cell_type": "markdown",
   "source": [
    "### 4.Machine learning"
   ],
   "metadata": {}
  },
  {
   "cell_type": "markdown",
   "source": [
    "1. XY split"
   ],
   "metadata": {}
  },
  {
   "cell_type": "code",
   "execution_count": null,
   "source": [
    "# getXY when choose sparse matrix in soap\n",
    "from scipy.sparse import vstack\n",
    "from random import sample\n",
    "\n",
    "\n",
    "def getXY(structures_tensors, num, descriptor, species):\n",
    "    # loctaion info for slice the soap vector, None when choose other descriptor\n",
    "    loc = None\n",
    "\n",
    "    if descriptor == \"soap\":\n",
    "        X = None\n",
    "    elif descriptor == \"gaussian_sym\":\n",
    "        X = []\n",
    "    y = []\n",
    "\n",
    "    for structure_tensor in tqdm(sample(structures_tensors, num)):\n",
    "        if descriptor == \"soap\":\n",
    "            soap, nmr_param, loc = TensorSOAPcombo(\n",
    "                structure_tensor, \"CQ\", species=species\n",
    "            )\n",
    "            if X == None:\n",
    "                X = soap\n",
    "            else:\n",
    "                X = vstack([X, soap])\n",
    "            y.extend(nmr_param)\n",
    "        elif descriptor == \"gaussian_sym\":\n",
    "            gaussian_sym, nmr_param = TensorGaussianCombo(structure_tensor, \"diso\")\n",
    "            X.extend(gaussian_sym)\n",
    "            y.extend(nmr_param)\n",
    "        else:\n",
    "            raise ValueError(\n",
    "                'descriptor should be choosen between \"soap\" or \"gaussian_sym\"!'\n",
    "            )\n",
    "\n",
    "    if descriptor == \"soap\":\n",
    "        X = X\n",
    "    else:\n",
    "        X = np.array(X)\n",
    "    y = pd.DataFrame(y, columns=[\"nmr\", \"structure\", \"site_index\"])\n",
    "\n",
    "    return (X, y, loc)"
   ],
   "outputs": [],
   "metadata": {}
  },
  {
   "cell_type": "code",
   "execution_count": null,
   "source": [
    "# test different between select fist N most popular structure and random selection of structures with same number of structure\n",
    "\n",
    "method = \"random\"\n",
    "if method == \"regular\":\n",
    "    N = 74\n",
    "    species = [k[0] for k in occur_count_sorted[:N]]\n",
    "    structure_input = structuresWithFirstNAtoms(N, occur_count_sorted, Al_O_structs)\n",
    "    X, y, loc = getXY(structure_input, len(structure_input), \"soap\", species)\n",
    "if method == \"random\":\n",
    "    num_of_struct = 1821\n",
    "    # This part needs modify later\n",
    "    N = 84\n",
    "    species = [k[0] for k in occur_count_sorted[:N]]\n",
    "    X, y, loc = getXY(inliers, num_of_struct, \"soap\", species)\n",
    "print(X.shape, y.shape)"
   ],
   "outputs": [],
   "metadata": {}
  },
  {
   "cell_type": "code",
   "execution_count": null,
   "source": [
    "# test only use saop on local structure (by ajusting rCut)\n",
    "test_rcut_input = []\n",
    "for v in [structure_tensor_sortbycoord[key] for key in [\"4\", \"5\", \"6\"]]:\n",
    "    test_rcut_input += v\n",
    "print(len(test_rcut_input))\n",
    "\n",
    "test_rcut_species = get_species(test_rcut_input)[1]\n",
    "print(len(test_rcut_species))\n",
    "\n",
    "X, y, loc = getXY(test_rcut_input, len(test_rcut_input), \"soap\", test_rcut_species)"
   ],
   "outputs": [],
   "metadata": {
    "scrolled": true
   }
  },
  {
   "cell_type": "code",
   "execution_count": null,
   "source": [
    "# test Al-O only local structures with certain SOAP cutoff distance\n",
    "Al_O_species = get_species(pd.DataFrame(Al_O_structs)[\"structure\"])[1]\n",
    "print(\"number of species in Al_O only structures:\", len(Al_O_species))\n",
    "X, y, loc = getXY(Al_O_structs, len(Al_O_structs), \"soap\", Al_O_species)"
   ],
   "outputs": [],
   "metadata": {
    "scrolled": true
   }
  },
  {
   "cell_type": "code",
   "execution_count": null,
   "source": [
    "# $test = pd.DataFrame(X)\n",
    "test.isna().any().any()"
   ],
   "outputs": [],
   "metadata": {}
  },
  {
   "cell_type": "code",
   "execution_count": null,
   "source": [
    "# introduce the element info\n",
    "from scipy.sparse import hstack\n",
    "\n",
    "X_combo = None\n",
    "for k, v in tqdm(loc.items()):\n",
    "    ecombo = np.dot(emodes.loc[k[0]], emodes.loc[k[1]])\n",
    "    #     print(ecombo)\n",
    "    #     print(X[:,v])\n",
    "    soap_combo = np.dot(X[:, v], ecombo)\n",
    "    if X_combo == None:\n",
    "        X_combo = soap_combo\n",
    "    else:\n",
    "        X_combo = hstack([X_combo, soap_combo])"
   ],
   "outputs": [],
   "metadata": {
    "scrolled": true
   }
  },
  {
   "cell_type": "code",
   "execution_count": null,
   "source": [
    "X = X_combo.tocsr()"
   ],
   "outputs": [],
   "metadata": {}
  },
  {
   "cell_type": "code",
   "execution_count": null,
   "source": [
    "# train test split\n",
    "from sklearn.model_selection import train_test_split\n",
    "\n",
    "X_train, X_test, y_train, y_test = train_test_split(\n",
    "    X, y, test_size=0.2, random_state=10\n",
    ")"
   ],
   "outputs": [],
   "metadata": {}
  },
  {
   "cell_type": "code",
   "execution_count": null,
   "source": [
    "print(X_train.shape, y_train.shape, X_test.shape, y_test.shape)"
   ],
   "outputs": [],
   "metadata": {}
  },
  {
   "cell_type": "markdown",
   "source": [
    "2. Dimention reduction"
   ],
   "metadata": {}
  },
  {
   "cell_type": "code",
   "execution_count": null,
   "source": [
    "from LowdimentionScatter import Lowdimention_scatter"
   ],
   "outputs": [],
   "metadata": {}
  },
  {
   "cell_type": "code",
   "execution_count": null,
   "source": [
    "from StructureToCif import struc_to_cif\n",
    "\n",
    "test = []\n",
    "for i in inliers:\n",
    "    structure = i[\"structure\"]\n",
    "    if str(get_composition(structure)) == \"['O', 'Al']\":\n",
    "        test.append(structure)\n",
    "struc_to_cif(test[3])"
   ],
   "outputs": [],
   "metadata": {}
  },
  {
   "cell_type": "markdown",
   "source": [
    "\n",
    "PCA"
   ],
   "metadata": {}
  },
  {
   "cell_type": "code",
   "execution_count": null,
   "source": [
    "# for each soap in X_train, get the corresponding species combination\n",
    "y_compo = []\n",
    "for structure in y[\"structure\"]:\n",
    "    y_compo.append(str(get_composition(structure)))\n",
    "y_compo = np.array(y_compo)\n",
    "\n",
    "# enumerate the combination list\n",
    "ziplist = list(zip(np.array(range(len(np.unique(y_compo)))), np.unique(y_compo)))\n",
    "\n",
    "y_compo_num = []\n",
    "for compo in y_compo:\n",
    "    for i, c in ziplist:\n",
    "        if compo == c:\n",
    "            y_compo_num.append(i)\n",
    "y_compo_num = np.array(y_compo_num)\n",
    "pd.DataFrame(ziplist)"
   ],
   "outputs": [],
   "metadata": {
    "scrolled": true
   }
  },
  {
   "cell_type": "code",
   "execution_count": null,
   "source": [
    "# y_compo_num=[]\n",
    "# for compo in y_compo:\n",
    "#     if \"H\" in compo:\n",
    "#         y_compo_num.append(1)\n",
    "#     else:\n",
    "#         y_compo_num.append(0)\n",
    "# y_compo_num=np.array(y_compo_num)"
   ],
   "outputs": [],
   "metadata": {}
  },
  {
   "cell_type": "code",
   "execution_count": null,
   "source": [
    "%%time\n",
    "from sklearn.decomposition import TruncatedSVD\n",
    "\n",
    "N = 500\n",
    "\n",
    "pca = TruncatedSVD(n_components=N)\n",
    "pca_result = pca.fit_transform(X)\n",
    "\n",
    "print(\"PCA done!\")"
   ],
   "outputs": [],
   "metadata": {}
  },
  {
   "cell_type": "code",
   "execution_count": null,
   "source": [
    "# train test split\n",
    "from sklearn.model_selection import train_test_split\n",
    "\n",
    "pca_train, pca_test, y_train, y_test = train_test_split(\n",
    "    pca_result, y, test_size=0.2, random_state=23\n",
    ")\n",
    "print(pca_train.shape, y_train.shape, pca_test.shape, y_test.shape)"
   ],
   "outputs": [],
   "metadata": {}
  },
  {
   "cell_type": "code",
   "execution_count": null,
   "source": [
    "pca_df = pd.DataFrame()\n",
    "\n",
    "for n in range(N):\n",
    "    pca_df[\"pca{}\".format(str(n))] = pca_result[:, n]\n",
    "\n",
    "print(\n",
    "    \"Variance explained per principal component: {}\".format(\n",
    "        pca.explained_variance_ratio_\n",
    "    )\n",
    ")"
   ],
   "outputs": [],
   "metadata": {
    "scrolled": true
   }
  },
  {
   "cell_type": "code",
   "execution_count": null,
   "source": [
    "import seaborn as sns\n",
    "\n",
    "sns.set()\n",
    "import matplotlib.pyplot as plt\n",
    "from datetime import date\n",
    "\n",
    "plt.figure(figsize=(10, 12))\n",
    "plot = sns.scatterplot(\"pca1\", \"pca2\", data=pca_df)\n",
    "plt.savefig(\"27Al_SOAP_PCA_{}.png\".format(date.today))\n",
    "plt.show()"
   ],
   "outputs": [],
   "metadata": {}
  },
  {
   "cell_type": "code",
   "execution_count": null,
   "source": [
    "top_two_comp = pca_df[[\"pca1\", \"pca2\"]]\n",
    "Lowdimention_scatter(top_two_comp.values, y_compo_num)"
   ],
   "outputs": [],
   "metadata": {
    "scrolled": true
   }
  },
  {
   "cell_type": "markdown",
   "source": [
    "T_SNE"
   ],
   "metadata": {}
  },
  {
   "cell_type": "code",
   "execution_count": null,
   "source": [
    "%%time\n",
    "from sklearn.manifold import TSNE\n",
    "import time\n",
    "\n",
    "time_start = time.time()\n",
    "\n",
    "fashion_tsne = TSNE(\n",
    "    perplexity=30, early_exaggeration=12, learning_rate=100\n",
    ").fit_transform(pca_result)\n",
    "\n",
    "print(\"t-SNE done!\")"
   ],
   "outputs": [],
   "metadata": {}
  },
  {
   "cell_type": "code",
   "execution_count": null,
   "source": [
    "import seaborn as sns\n",
    "\n",
    "sns.set()\n",
    "import matplotlib.pyplot as plt\n",
    "from datetime import date\n",
    "\n",
    "tsne_pd = pd.DataFrame(fashion_tsne, columns=[\"tsne1\", \"tsne2\"])\n",
    "\n",
    "plt.figure(figsize=(10, 12))\n",
    "plot = sns.scatterplot(\"tsne1\", \"tsne2\", data=tsne_pd)\n",
    "plt.savefig(\"27Al_SOAP_Tsne_{}.png\".format(date.today))\n",
    "plt.show()"
   ],
   "outputs": [],
   "metadata": {}
  },
  {
   "cell_type": "code",
   "execution_count": null,
   "source": [
    "Lowdimention_scatter(fashion_tsne, y_compo_num)"
   ],
   "outputs": [],
   "metadata": {}
  },
  {
   "cell_type": "markdown",
   "source": [
    "3. Calculate gram matrix"
   ],
   "metadata": {}
  },
  {
   "cell_type": "code",
   "execution_count": null,
   "source": [
    "# get precomputed gram matrix for X_train and X_test\n",
    "from Gaussian_Kernel import GaussianKernel\n",
    "\n",
    "gaussian = GaussianKernel(X_train, X_test, sigma=1)\n",
    "gram_train = gaussian.GaussianMatrix_train()\n",
    "gram_test = gaussian.GaussianMatrix_test()"
   ],
   "outputs": [],
   "metadata": {
    "scrolled": true
   }
  },
  {
   "cell_type": "code",
   "execution_count": null,
   "source": [
    "gram_test.shape"
   ],
   "outputs": [],
   "metadata": {}
  },
  {
   "cell_type": "markdown",
   "source": [
    "#### Ridge regression"
   ],
   "metadata": {}
  },
  {
   "cell_type": "code",
   "execution_count": null,
   "source": [
    "# Show warnings only once\n",
    "\n",
    "# import warnings\n",
    "# warnings.filterwarnings(action='once')\n",
    "\n",
    "# Grid Search for Algorithm Tuning\n",
    "from sklearn.linear_model import Ridge\n",
    "from sklearn.model_selection import GridSearchCV\n",
    "\n",
    "# create and fit a ridge regression model, testing each alpha\n",
    "alphas = [1e-7, 1e-6, 1e-5, 1e-4, 1e-3, 1e-2, 1e-1, 1, 10, 20, 50, 100]\n",
    "model = Ridge(normalize=True, copy_X=True)\n",
    "grid = GridSearchCV(estimator=model, param_grid=dict(alpha=alphas), scoring=\"r2\", cv=5)\n",
    "grid.fit(X_train, y_train)\n",
    "print(grid)\n",
    "# summarize the results of the grid search\n",
    "print(grid.best_score_)\n",
    "print(grid.best_estimator_.alpha)"
   ],
   "outputs": [],
   "metadata": {}
  },
  {
   "cell_type": "code",
   "execution_count": null,
   "source": [
    "# Predict using kernel ridge\n",
    "import seaborn as sns\n",
    "\n",
    "sns.set()\n",
    "import matplotlib.pyplot as plt\n",
    "\n",
    "y_rr = grid.predict(X_test)\n",
    "\n",
    "print(\"score:{}\".format(grid.score(X_test, y_test)))\n",
    "\n",
    "predict_result = pd.DataFrame(np.array([y_rr, y_test])).transpose()\n",
    "predict_result.rename(columns={1: \"DFT_predict\", 0: \"RR_predict\"}, inplace=True)\n",
    "\n",
    "plt.figure(figsize=[12, 8])\n",
    "plt.title(\"Ridge regression of diso (ppm) on SiO2 data set\")\n",
    "plot = sns.scatterplot(x=\"RR_predict\", y=\"DFT_predict\", data=predict_result)\n",
    "plt.show()"
   ],
   "outputs": [],
   "metadata": {}
  },
  {
   "cell_type": "markdown",
   "source": [
    "#### Kernel ridge regression"
   ],
   "metadata": {}
  },
  {
   "cell_type": "code",
   "execution_count": null,
   "source": [
    "%%time\n",
    "# Grid Search for Algorithm Tuning\n",
    "from sklearn.kernel_ridge import KernelRidge\n",
    "from sklearn.model_selection import RandomizedSearchCV\n",
    "from scipy.stats import uniform\n",
    "\n",
    "# create and fit a kernel ridge regression model\n",
    "model = KernelRidge(kernel=\"precomputed\")\n",
    "param = {\n",
    "    \"alpha\": uniform(0, 1),\n",
    "    #          'gamma':uniform(0,100),\n",
    "    #          'kernel':['rbf']\n",
    "}\n",
    "\n",
    "grid = RandomizedSearchCV(\n",
    "    estimator=model, param_distributions=param, n_iter=20, scoring=\"r2\", cv=5, n_jobs=8\n",
    ")\n",
    "grid.fit(gram_train, y_train[\"nmr\"])\n",
    "print(grid)\n",
    "# summarize the results of the grid search\n",
    "print(grid.best_score_)\n",
    "print(grid.best_estimator_)"
   ],
   "outputs": [],
   "metadata": {}
  },
  {
   "cell_type": "code",
   "execution_count": null,
   "source": [
    "%%time\n",
    "# Predict using kernel ridge\n",
    "import seaborn as sns\n",
    "\n",
    "sns.set()\n",
    "import matplotlib.pyplot as plt\n",
    "from datetime import date\n",
    "\n",
    "\n",
    "y_rr = grid.predict(gram_test)\n",
    "\n",
    "predict_result = y_test\n",
    "predict_result[\"RR_predict\"] = y_rr\n",
    "print(\"score:{}\".format(grid.score(gram_test, y_test[\"nmr\"])))\n",
    "\n",
    "# write down the date for png save\n",
    "today = date.today()\n",
    "\n",
    "plt.figure(figsize=[12, 8])\n",
    "plt.title(\"Kernel Ridge regression of diso (ppm)\")\n",
    "plot = sns.scatterplot(\n",
    "    x=\"RR_predict\", y=\"nmr\", data=predict_result[[\"RR_predict\", \"nmr\"]]\n",
    ")\n",
    "plt.savefig(\"27Al_krr_testSet_{}.png\".format(today))\n",
    "plt.show()"
   ],
   "outputs": [],
   "metadata": {}
  },
  {
   "cell_type": "code",
   "execution_count": null,
   "source": [
    "from StructureToCif import struc_to_cif\n",
    "\n",
    "bad_structures = predict_result[\n",
    "    (predict_result[\"RR_predict\"] < (predict_result[\"nmr\"] - 50))\n",
    "    | (predict_result[\"RR_predict\"] > (predict_result[\"nmr\"] + 50))\n",
    "]\n",
    "bad_structures"
   ],
   "outputs": [],
   "metadata": {}
  },
  {
   "cell_type": "code",
   "execution_count": null,
   "source": [
    "predict_result.head()"
   ],
   "outputs": [],
   "metadata": {}
  },
  {
   "cell_type": "code",
   "execution_count": null,
   "source": [
    "struc_to_cif(predict_result[\"structure\"][651])"
   ],
   "outputs": [],
   "metadata": {}
  },
  {
   "cell_type": "code",
   "execution_count": null,
   "source": [
    "from dim_filter import is_3D, has_floating_species\n",
    "\n",
    "for structure in bad_structures[\"structure\"]:\n",
    "    if not is_3D(structure):\n",
    "        print(\"not_3D\")\n",
    "    if has_floating_species(structure):\n",
    "        print(\"has_floating_species\")"
   ],
   "outputs": [],
   "metadata": {}
  },
  {
   "cell_type": "markdown",
   "source": [
    "#### Random forest"
   ],
   "metadata": {}
  },
  {
   "cell_type": "code",
   "execution_count": null,
   "source": [
    "%%time\n",
    "# Grid Search for Algorithm Tuning\n",
    "from sklearn.ensemble import RandomForestRegressor\n",
    "from sklearn.model_selection import RandomizedSearchCV\n",
    "from scipy.stats import uniform, randint\n",
    "import math\n",
    "\n",
    "# create and fit a kernel ridge regression model\n",
    "model = RandomForestRegressor(random_state=10, n_estimators=100)\n",
    "\n",
    "param = {\"n_estimators\": randint(low=0, high=200), \"max_depth\": uniform(10, 100)}\n",
    "\n",
    "grid = RandomizedSearchCV(\n",
    "    estimator=model,\n",
    "    param_distributions=param,\n",
    "    n_iter=10,\n",
    "    scoring=[\"neg_mean_absolute_error\", \"neg_mean_squared_error\", \"r2\"],\n",
    "    refit=\"r2\",\n",
    "    cv=5,\n",
    "    n_jobs=8,\n",
    ")\n",
    "grid.fit(pca_train, y_train[\"nmr\"])\n",
    "# summarize the results of the grid search\n",
    "\n",
    "train_r2 = np.sort(grid.cv_results_[\"mean_test_r2\"])[-1]\n",
    "train_RMSE = math.sqrt(\n",
    "    -np.sort(grid.cv_results_[\"mean_test_neg_mean_squared_error\"])[-1]\n",
    ")\n",
    "train_MAE = -np.sort(grid.cv_results_[\"mean_test_neg_mean_absolute_error\"])[-1]\n",
    "\n",
    "print(\n",
    "    \"training score: R2 = {}, RMSE = {}, MAE = {}\".format(\n",
    "        train_r2, train_RMSE, train_MAE\n",
    "    )\n",
    ")\n",
    "print(grid.best_estimator_)"
   ],
   "outputs": [],
   "metadata": {}
  },
  {
   "cell_type": "code",
   "execution_count": null,
   "source": [
    "# feature importance\n",
    "rand = RandomForestRegressor(n_estimators=100)\n",
    "rand.fit(X_train, y_train)\n",
    "feat_labels = list(X_train.columns)\n",
    "feat_import = list(zip(feat_labels, rand.feature_importances_))\n",
    "for feature in feat_import:\n",
    "    print(feature)\n",
    "# plot bar chart\n",
    "pd.DataFrame(feat_import).set_index(0).plot(kind=\"barh\")"
   ],
   "outputs": [],
   "metadata": {}
  },
  {
   "cell_type": "code",
   "execution_count": null,
   "source": [
    "%%time\n",
    "# Predict using kernel ridge\n",
    "from sklearn.metrics import r2_score, mean_squared_error, mean_absolute_error\n",
    "import seaborn as sns\n",
    "\n",
    "sns.set()\n",
    "import matplotlib.pyplot as plt\n",
    "from datetime import date\n",
    "\n",
    "predict_result = {}\n",
    "y_rr = grid.predict(pca_test)\n",
    "\n",
    "test_r2 = r2_score(y_test[\"nmr\"], y_rr)\n",
    "test_RMSE = math.sqrt(mean_squared_error(y_test[\"nmr\"], y_rr))\n",
    "test_MAE = mean_absolute_error(y_test[\"nmr\"], y_rr)\n",
    "\n",
    "print(\"test scores: R2 = {}, RMSE = {}, MAE = {}\".format(test_r2, test_RMSE, test_MAE))\n",
    "\n",
    "\n",
    "# write down the date for png save\n",
    "predict_result[\"nmr\"] = y_test[\"nmr\"]\n",
    "predict_result[\"RF_predict\"] = y_rr\n",
    "predict_result = pd.DataFrame(predict_result)\n",
    "\n",
    "today = date.today()\n",
    "\n",
    "plt.figure(figsize=[12, 8])\n",
    "plt.title(\"Random forest regression of diso (ppm)\")\n",
    "plot = sns.scatterplot(\n",
    "    x=\"RF_predict\", y=\"nmr\", data=predict_result[[\"RF_predict\", \"nmr\"]]\n",
    ")\n",
    "plt.savefig(\"27Al_RF_testSet_{}.png\".format(today))\n",
    "plt.show()"
   ],
   "outputs": [],
   "metadata": {}
  },
  {
   "cell_type": "code",
   "execution_count": null,
   "source": [],
   "outputs": [],
   "metadata": {}
  }
 ],
 "metadata": {
  "kernelspec": {
   "name": "python3",
   "display_name": "Python 3.8.11 64-bit ('27al_ml': conda)"
  },
  "language_info": {
   "codemirror_mode": {
    "name": "ipython",
    "version": 3
   },
   "file_extension": ".py",
   "mimetype": "text/x-python",
   "name": "python",
   "nbconvert_exporter": "python",
   "pygments_lexer": "ipython3",
   "version": "3.8.11"
  },
  "interpreter": {
   "hash": "7a3343ab4c08beebe2f1b480ae92d6db8242a6d50b34d78c22eb38111ae7726a"
  }
 },
 "nbformat": 4,
 "nbformat_minor": 4
}